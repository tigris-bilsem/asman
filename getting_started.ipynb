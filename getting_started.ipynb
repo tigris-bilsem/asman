{
  "cells": [
    {
      "cell_type": "markdown",
      "id": "58c03b37-ec3c-4840-adc7-946ad1a46fb3",
      "metadata": {
        "id": "58c03b37-ec3c-4840-adc7-946ad1a46fb3",
        "tags": [],
        "user_expressions": []
      },
      "source": [
        "# Getting Started with *earthaccess*\n",
        "### Analyzing Sea Level Rise\n",
        "\n",
        "## Overview\n",
        "This tutorial analyzes global sea level rise from satellite altimetry data and compares it to a historic record. We will be reproducing the plot from this infographic: [ NASA-led Study Reveals the Causes of Sea Level Rise Since 1900](https://grace.jpl.nasa.gov/news/113/nasa-led-study-reveals-the-causes-of-sea-level-rise-since-1900/).\n",
        "\n",
        "## Learning Objectives\n",
        "- Search for data programmatically using keywords or datasets' `concept_id`\n",
        "- Access data using the `earthaccess` python library\n",
        "- Visualize sea level rise trends from altimetry datasets and compare against historic records\n",
        "\n",
        "## Requirements\n",
        "    \n",
        "### 1. Compute environment\n",
        "* This notebook can run anywhere thanks to `earthaccess`!\n",
        "    \n",
        "### 2. Earthdata Login\n",
        "An Earthdata Login account is required to access data, as well as discover restricted data, from the NASA Earthdata system. Thus, to access NASA data, you need Earthdata Login. Please visit https://urs.earthdata.nasa.gov to register and manage your Earthdata Login account. This account is free to create and only takes a moment to set up.\n",
        "\n",
        "### Import (or Install) Packages"
      ]
    },
    {
      "cell_type": "code",
      "execution_count": null,
      "id": "025618ce-5a0e-48ff-b15a-2b5fcd6cc420",
      "metadata": {
        "id": "025618ce-5a0e-48ff-b15a-2b5fcd6cc420",
        "tags": []
      },
      "outputs": [
        {
          "data": {
            "text/html": [
              "<script type=\"esms-options\">{\"shimMode\": true}</script><style>*[data-root-id],\n",
              "*[data-root-id] > * {\n",
              "  box-sizing: border-box;\n",
              "  font-family: var(--jp-ui-font-family);\n",
              "  font-size: var(--jp-ui-font-size1);\n",
              "  color: var(--vscode-editor-foreground, var(--jp-ui-font-color1));\n",
              "}\n",
              "\n",
              "/* Override VSCode background color */\n",
              ".cell-output-ipywidget-background:has(\n",
              "  > .cell-output-ipywidget-background > .lm-Widget > *[data-root-id]\n",
              "),\n",
              ".cell-output-ipywidget-background:has(> .lm-Widget > *[data-root-id]) {\n",
              "  background-color: transparent !important;\n",
              "}\n",
              "</style>"
            ]
          },
          "metadata": {},
          "output_type": "display_data"
        },
        {
          "data": {
            "application/javascript": "(function(root) {\n  function now() {\n    return new Date();\n  }\n\n  const force = true;\n  const py_version = '3.8.0'.replace('rc', '-rc.').replace('.dev', '-dev.');\n  const reloading = false;\n  const Bokeh = root.Bokeh;\n\n  // Set a timeout for this load but only if we are not already initializing\n  if (typeof (root._bokeh_timeout) === \"undefined\" || (force || !root._bokeh_is_initializing)) {\n    root._bokeh_timeout = Date.now() + 5000;\n    root._bokeh_failed_load = false;\n  }\n\n  function run_callbacks() {\n    try {\n      root._bokeh_onload_callbacks.forEach(function(callback) {\n        if (callback != null)\n          callback();\n      });\n    } finally {\n      delete root._bokeh_onload_callbacks;\n    }\n    console.debug(\"Bokeh: all callbacks have finished\");\n  }\n\n  function load_libs(css_urls, js_urls, js_modules, js_exports, callback) {\n    if (css_urls == null) css_urls = [];\n    if (js_urls == null) js_urls = [];\n    if (js_modules == null) js_modules = [];\n    if (js_exports == null) js_exports = {};\n\n    root._bokeh_onload_callbacks.push(callback);\n\n    if (root._bokeh_is_loading > 0) {\n      // Don't load bokeh if it is still initializing\n      console.debug(\"Bokeh: BokehJS is being loaded, scheduling callback at\", now());\n      return null;\n    } else if (js_urls.length === 0 && js_modules.length === 0 && Object.keys(js_exports).length === 0) {\n      // There is nothing to load\n      run_callbacks();\n      return null;\n    }\n\n    function on_load() {\n      root._bokeh_is_loading--;\n      if (root._bokeh_is_loading === 0) {\n        console.debug(\"Bokeh: all BokehJS libraries/stylesheets loaded\");\n        run_callbacks()\n      }\n    }\n    window._bokeh_on_load = on_load\n\n    function on_error(e) {\n      const src_el = e.srcElement\n      console.error(\"failed to load \" + (src_el.href || src_el.src));\n    }\n\n    const skip = [];\n    if (window.requirejs) {\n      window.requirejs.config({'packages': {}, 'paths': {}, 'shim': {}});\n      root._bokeh_is_loading = css_urls.length + 0;\n    } else {\n      root._bokeh_is_loading = css_urls.length + js_urls.length + js_modules.length + Object.keys(js_exports).length;\n    }\n\n    const existing_stylesheets = []\n    const links = document.getElementsByTagName('link')\n    for (let i = 0; i < links.length; i++) {\n      const link = links[i]\n      if (link.href != null) {\n        existing_stylesheets.push(link.href)\n      }\n    }\n    for (let i = 0; i < css_urls.length; i++) {\n      const url = css_urls[i];\n      const escaped = encodeURI(url)\n      if (existing_stylesheets.indexOf(escaped) !== -1) {\n        on_load()\n        continue;\n      }\n      const element = document.createElement(\"link\");\n      element.onload = on_load;\n      element.onerror = on_error;\n      element.rel = \"stylesheet\";\n      element.type = \"text/css\";\n      element.href = url;\n      console.debug(\"Bokeh: injecting link tag for BokehJS stylesheet: \", url);\n      document.body.appendChild(element);\n    }    var existing_scripts = []\n    const scripts = document.getElementsByTagName('script')\n    for (let i = 0; i < scripts.length; i++) {\n      var script = scripts[i]\n      if (script.src != null) {\n        existing_scripts.push(script.src)\n      }\n    }\n    for (let i = 0; i < js_urls.length; i++) {\n      const url = js_urls[i];\n      const escaped = encodeURI(url)\n      if (skip.indexOf(escaped) !== -1 || existing_scripts.indexOf(escaped) !== -1) {\n        if (!window.requirejs) {\n          on_load();\n        }\n        continue;\n      }\n      const element = document.createElement('script');\n      element.onload = on_load;\n      element.onerror = on_error;\n      element.async = false;\n      element.src = url;\n      console.debug(\"Bokeh: injecting script tag for BokehJS library: \", url);\n      document.head.appendChild(element);\n    }\n    for (let i = 0; i < js_modules.length; i++) {\n      const url = js_modules[i];\n      const escaped = encodeURI(url)\n      if (skip.indexOf(escaped) !== -1 || existing_scripts.indexOf(escaped) !== -1) {\n        if (!window.requirejs) {\n          on_load();\n        }\n        continue;\n      }\n      var element = document.createElement('script');\n      element.onload = on_load;\n      element.onerror = on_error;\n      element.async = false;\n      element.src = url;\n      element.type = \"module\";\n      console.debug(\"Bokeh: injecting script tag for BokehJS library: \", url);\n      document.head.appendChild(element);\n    }\n    for (const name in js_exports) {\n      const url = js_exports[name];\n      const escaped = encodeURI(url)\n      if (skip.indexOf(escaped) >= 0 || root[name] != null) {\n        if (!window.requirejs) {\n          on_load();\n        }\n        continue;\n      }\n      var element = document.createElement('script');\n      element.onerror = on_error;\n      element.async = false;\n      element.type = \"module\";\n      console.debug(\"Bokeh: injecting script tag for BokehJS library: \", url);\n      element.textContent = `\n      import ${name} from \"${url}\"\n      window.${name} = ${name}\n      window._bokeh_on_load()\n      `\n      document.head.appendChild(element);\n    }\n    if (!js_urls.length && !js_modules.length) {\n      on_load()\n    }\n  };\n\n  function inject_raw_css(css) {\n    const element = document.createElement(\"style\");\n    element.appendChild(document.createTextNode(css));\n    document.body.appendChild(element);\n  }\n\n  const js_urls = [\"https://cdn.holoviz.org/panel/1.8.1/dist/bundled/reactiveesm/es-module-shims@^1.10.0/dist/es-module-shims.min.js\", \"https://cdn.bokeh.org/bokeh/release/bokeh-3.8.0.min.js\", \"https://cdn.bokeh.org/bokeh/release/bokeh-gl-3.8.0.min.js\", \"https://cdn.bokeh.org/bokeh/release/bokeh-widgets-3.8.0.min.js\", \"https://cdn.bokeh.org/bokeh/release/bokeh-tables-3.8.0.min.js\", \"https://cdn.holoviz.org/panel/1.8.1/dist/panel.min.js\"];\n  const js_modules = [];\n  const js_exports = {};\n  const css_urls = [];\n  const inline_js = [    function(Bokeh) {\n      Bokeh.set_log_level(\"info\");\n    },\nfunction(Bokeh) {} // ensure no trailing comma for IE\n  ];\n\n  function run_inline_js() {\n    if ((root.Bokeh !== undefined) || (force === true)) {\n      for (let i = 0; i < inline_js.length; i++) {\n        try {\n          inline_js[i].call(root, root.Bokeh);\n        } catch(e) {\n          if (!reloading) {\n            throw e;\n          }\n        }\n      }\n      // Cache old bokeh versions\n      if (Bokeh != undefined && !reloading) {\n        var NewBokeh = root.Bokeh;\n        if (Bokeh.versions === undefined) {\n          Bokeh.versions = new Map();\n        }\n        if (NewBokeh.version !== Bokeh.version) {\n          Bokeh.versions.set(NewBokeh.version, NewBokeh)\n        }\n        root.Bokeh = Bokeh;\n      }\n    } else if (Date.now() < root._bokeh_timeout) {\n      setTimeout(run_inline_js, 100);\n    } else if (!root._bokeh_failed_load) {\n      console.log(\"Bokeh: BokehJS failed to load within specified timeout.\");\n      root._bokeh_failed_load = true;\n    }\n    root._bokeh_is_initializing = false\n  }\n\n  function load_or_wait() {\n    // Implement a backoff loop that tries to ensure we do not load multiple\n    // versions of Bokeh and its dependencies at the same time.\n    // In recent versions we use the root._bokeh_is_initializing flag\n    // to determine whether there is an ongoing attempt to initialize\n    // bokeh, however for backward compatibility we also try to ensure\n    // that we do not start loading a newer (Panel>=1.0 and Bokeh>3) version\n    // before older versions are fully initialized.\n    if (root._bokeh_is_initializing && Date.now() > root._bokeh_timeout) {\n      // If the timeout and bokeh was not successfully loaded we reset\n      // everything and try loading again\n      root._bokeh_timeout = Date.now() + 5000;\n      root._bokeh_is_initializing = false;\n      root._bokeh_onload_callbacks = undefined;\n      root._bokeh_is_loading = 0\n      console.log(\"Bokeh: BokehJS was loaded multiple times but one version failed to initialize.\");\n      load_or_wait();\n    } else if (root._bokeh_is_initializing || (typeof root._bokeh_is_initializing === \"undefined\" && root._bokeh_onload_callbacks !== undefined)) {\n      setTimeout(load_or_wait, 100);\n    } else {\n      root._bokeh_is_initializing = true\n      root._bokeh_onload_callbacks = []\n      const bokeh_loaded = root.Bokeh != null && (root.Bokeh.version === py_version || (root.Bokeh.versions !== undefined && root.Bokeh.versions.has(py_version)));\n      if (!reloading && !bokeh_loaded) {\n        if (root.Bokeh) {\n          root.Bokeh = undefined;\n        }\n        console.debug(\"Bokeh: BokehJS not loaded, scheduling load and callback at\", now());\n      }\n      load_libs(css_urls, js_urls, js_modules, js_exports, function() {\n        console.debug(\"Bokeh: BokehJS plotting callback run at\", now());\n        run_inline_js();\n      });\n    }\n  }\n  // Give older versions of the autoload script a head-start to ensure\n  // they initialize before we start loading newer version.\n  setTimeout(load_or_wait, 100)\n}(window));",
            "application/vnd.holoviews_load.v0+json": ""
          },
          "metadata": {},
          "output_type": "display_data"
        },
        {
          "data": {
            "application/javascript": "\nif ((window.PyViz === undefined) || (window.PyViz instanceof HTMLElement)) {\n  window.PyViz = {comms: {}, comm_status:{}, kernels:{}, receivers: {}, plot_index: []}\n}\n\n\n    function JupyterCommManager() {\n    }\n\n    JupyterCommManager.prototype.register_target = function(plot_id, comm_id, msg_handler) {\n      if (window.comm_manager || ((window.Jupyter !== undefined) && (Jupyter.notebook.kernel != null))) {\n        var comm_manager = window.comm_manager || Jupyter.notebook.kernel.comm_manager;\n        comm_manager.register_target(comm_id, function(comm) {\n          comm.on_msg(msg_handler);\n        });\n      } else if ((plot_id in window.PyViz.kernels) && (window.PyViz.kernels[plot_id])) {\n        window.PyViz.kernels[plot_id].registerCommTarget(comm_id, function(comm) {\n          comm.onMsg = msg_handler;\n        });\n      } else if (typeof google != 'undefined' && google.colab.kernel != null) {\n        google.colab.kernel.comms.registerTarget(comm_id, (comm) => {\n          var messages = comm.messages[Symbol.asyncIterator]();\n          function processIteratorResult(result) {\n            var message = result.value;\n            var content = {data: message.data, comm_id};\n            var buffers = []\n            for (var buffer of message.buffers || []) {\n              buffers.push(new DataView(buffer))\n            }\n            var metadata = message.metadata || {};\n            var msg = {content, buffers, metadata}\n            msg_handler(msg);\n            return messages.next().then(processIteratorResult);\n          }\n          return messages.next().then(processIteratorResult);\n        })\n      }\n    }\n\n    JupyterCommManager.prototype.get_client_comm = function(plot_id, comm_id, msg_handler) {\n      if (comm_id in window.PyViz.comms) {\n        return window.PyViz.comms[comm_id];\n      } else if (window.comm_manager || ((window.Jupyter !== undefined) && (Jupyter.notebook.kernel != null))) {\n        var comm_manager = window.comm_manager || Jupyter.notebook.kernel.comm_manager;\n        var comm = comm_manager.new_comm(comm_id, {}, {}, {}, comm_id);\n        if (msg_handler) {\n          comm.on_msg(msg_handler);\n        }\n      } else if ((plot_id in window.PyViz.kernels) && (window.PyViz.kernels[plot_id])) {\n        var comm = window.PyViz.kernels[plot_id].connectToComm(comm_id);\n        let retries = 0;\n        const open = () => {\n          if (comm.active) {\n            comm.open();\n          } else if (retries > 3) {\n            console.warn('Comm target never activated')\n          } else {\n            retries += 1\n            setTimeout(open, 500)\n          }\n        }\n        if (comm.active) {\n          comm.open();\n        } else {\n          setTimeout(open, 500)\n        }\n        if (msg_handler) {\n          comm.onMsg = msg_handler;\n        }\n      } else if (typeof google != 'undefined' && google.colab.kernel != null) {\n        var comm_promise = google.colab.kernel.comms.open(comm_id)\n        comm_promise.then((comm) => {\n          window.PyViz.comms[comm_id] = comm;\n          if (msg_handler) {\n            var messages = comm.messages[Symbol.asyncIterator]();\n            function processIteratorResult(result) {\n              var message = result.value;\n              var content = {data: message.data};\n              var metadata = message.metadata || {comm_id};\n              var msg = {content, metadata}\n              msg_handler(msg);\n              return messages.next().then(processIteratorResult);\n            }\n            return messages.next().then(processIteratorResult);\n          }\n        })\n        var sendClosure = (data, metadata, buffers, disposeOnDone) => {\n          return comm_promise.then((comm) => {\n            comm.send(data, metadata, buffers, disposeOnDone);\n          });\n        };\n        var comm = {\n          send: sendClosure\n        };\n      }\n      window.PyViz.comms[comm_id] = comm;\n      return comm;\n    }\n    window.PyViz.comm_manager = new JupyterCommManager();\n    \n\n\nvar JS_MIME_TYPE = 'application/javascript';\nvar HTML_MIME_TYPE = 'text/html';\nvar EXEC_MIME_TYPE = 'application/vnd.holoviews_exec.v0+json';\nvar CLASS_NAME = 'output';\n\n/**\n * Render data to the DOM node\n */\nfunction render(props, node) {\n  var div = document.createElement(\"div\");\n  var script = document.createElement(\"script\");\n  node.appendChild(div);\n  node.appendChild(script);\n}\n\n/**\n * Handle when a new output is added\n */\nfunction handle_add_output(event, handle) {\n  var output_area = handle.output_area;\n  var output = handle.output;\n  if ((output.data == undefined) || (!output.data.hasOwnProperty(EXEC_MIME_TYPE))) {\n    return\n  }\n  var id = output.metadata[EXEC_MIME_TYPE][\"id\"];\n  var toinsert = output_area.element.find(\".\" + CLASS_NAME.split(' ')[0]);\n  if (id !== undefined) {\n    var nchildren = toinsert.length;\n    var html_node = toinsert[nchildren-1].children[0];\n    html_node.innerHTML = output.data[HTML_MIME_TYPE];\n    var scripts = [];\n    var nodelist = html_node.querySelectorAll(\"script\");\n    for (var i in nodelist) {\n      if (nodelist.hasOwnProperty(i)) {\n        scripts.push(nodelist[i])\n      }\n    }\n\n    scripts.forEach( function (oldScript) {\n      var newScript = document.createElement(\"script\");\n      var attrs = [];\n      var nodemap = oldScript.attributes;\n      for (var j in nodemap) {\n        if (nodemap.hasOwnProperty(j)) {\n          attrs.push(nodemap[j])\n        }\n      }\n      attrs.forEach(function(attr) { newScript.setAttribute(attr.name, attr.value) });\n      newScript.appendChild(document.createTextNode(oldScript.innerHTML));\n      oldScript.parentNode.replaceChild(newScript, oldScript);\n    });\n    if (JS_MIME_TYPE in output.data) {\n      toinsert[nchildren-1].children[1].textContent = output.data[JS_MIME_TYPE];\n    }\n    output_area._hv_plot_id = id;\n    if ((window.Bokeh !== undefined) && (id in Bokeh.index)) {\n      window.PyViz.plot_index[id] = Bokeh.index[id];\n    } else {\n      window.PyViz.plot_index[id] = null;\n    }\n  } else if (output.metadata[EXEC_MIME_TYPE][\"server_id\"] !== undefined) {\n    var bk_div = document.createElement(\"div\");\n    bk_div.innerHTML = output.data[HTML_MIME_TYPE];\n    var script_attrs = bk_div.children[0].attributes;\n    for (var i = 0; i < script_attrs.length; i++) {\n      toinsert[toinsert.length - 1].childNodes[1].setAttribute(script_attrs[i].name, script_attrs[i].value);\n    }\n    // store reference to server id on output_area\n    output_area._bokeh_server_id = output.metadata[EXEC_MIME_TYPE][\"server_id\"];\n  }\n}\n\n/**\n * Handle when an output is cleared or removed\n */\nfunction handle_clear_output(event, handle) {\n  var id = handle.cell.output_area._hv_plot_id;\n  var server_id = handle.cell.output_area._bokeh_server_id;\n  if (((id === undefined) || !(id in PyViz.plot_index)) && (server_id !== undefined)) { return; }\n  var comm = window.PyViz.comm_manager.get_client_comm(\"hv-extension-comm\", \"hv-extension-comm\", function () {});\n  if (server_id !== null) {\n    comm.send({event_type: 'server_delete', 'id': server_id});\n    return;\n  } else if (comm !== null) {\n    comm.send({event_type: 'delete', 'id': id});\n  }\n  delete PyViz.plot_index[id];\n  if ((window.Bokeh !== undefined) & (id in window.Bokeh.index)) {\n    var doc = window.Bokeh.index[id].model.document\n    doc.clear();\n    const i = window.Bokeh.documents.indexOf(doc);\n    if (i > -1) {\n      window.Bokeh.documents.splice(i, 1);\n    }\n  }\n}\n\n/**\n * Handle kernel restart event\n */\nfunction handle_kernel_cleanup(event, handle) {\n  delete PyViz.comms[\"hv-extension-comm\"];\n  window.PyViz.plot_index = {}\n}\n\n/**\n * Handle update_display_data messages\n */\nfunction handle_update_output(event, handle) {\n  handle_clear_output(event, {cell: {output_area: handle.output_area}})\n  handle_add_output(event, handle)\n}\n\nfunction register_renderer(events, OutputArea) {\n  function append_mime(data, metadata, element) {\n    // create a DOM node to render to\n    var toinsert = this.create_output_subarea(\n    metadata,\n    CLASS_NAME,\n    EXEC_MIME_TYPE\n    );\n    this.keyboard_manager.register_events(toinsert);\n    // Render to node\n    var props = {data: data, metadata: metadata[EXEC_MIME_TYPE]};\n    render(props, toinsert[0]);\n    element.append(toinsert);\n    return toinsert\n  }\n\n  events.on('output_added.OutputArea', handle_add_output);\n  events.on('output_updated.OutputArea', handle_update_output);\n  events.on('clear_output.CodeCell', handle_clear_output);\n  events.on('delete.Cell', handle_clear_output);\n  events.on('kernel_ready.Kernel', handle_kernel_cleanup);\n\n  OutputArea.prototype.register_mime_type(EXEC_MIME_TYPE, append_mime, {\n    safe: true,\n    index: 0\n  });\n}\n\nif (window.Jupyter !== undefined) {\n  try {\n    var events = require('base/js/events');\n    var OutputArea = require('notebook/js/outputarea').OutputArea;\n    if (OutputArea.prototype.mime_types().indexOf(EXEC_MIME_TYPE) == -1) {\n      register_renderer(events, OutputArea);\n    }\n  } catch(err) {\n  }\n}\n",
            "application/vnd.holoviews_load.v0+json": ""
          },
          "metadata": {},
          "output_type": "display_data"
        },
        {
          "data": {
            "application/vnd.holoviews_exec.v0+json": "",
            "text/html": [
              "<div id='f932d6d9-58f5-42c6-afa3-f12f157d17e9'>\n",
              "  <div id=\"dd2630ab-28fa-4f6d-9cbf-7fad170e0e74\" data-root-id=\"f932d6d9-58f5-42c6-afa3-f12f157d17e9\" style=\"display: contents;\"></div>\n",
              "</div>\n",
              "<script type=\"application/javascript\">(function(root) {\n",
              "  var docs_json = {\"8896aaa0-50cc-4cef-88cb-3cef8ee3c423\":{\"version\":\"3.8.0\",\"title\":\"Bokeh Application\",\"config\":{\"type\":\"object\",\"name\":\"DocumentConfig\",\"id\":\"0683a994-b778-4cd0-a8be-878574500f39\",\"attributes\":{\"notifications\":{\"type\":\"object\",\"name\":\"Notifications\",\"id\":\"c0c17f2e-5839-43d9-b2c9-7e30a08050b1\"}}},\"roots\":[{\"type\":\"object\",\"name\":\"panel.models.browser.BrowserInfo\",\"id\":\"f932d6d9-58f5-42c6-afa3-f12f157d17e9\"},{\"type\":\"object\",\"name\":\"panel.models.comm_manager.CommManager\",\"id\":\"cb7863ef-70cf-40d5-bf47-8bf7e531c537\",\"attributes\":{\"plot_id\":\"f932d6d9-58f5-42c6-afa3-f12f157d17e9\",\"comm_id\":\"3c6107fe31314822bb05395d5629aa57\",\"client_comm_id\":\"599c5c00f53441fda48f2eeb7b581ce5\"}}],\"defs\":[{\"type\":\"model\",\"name\":\"ReactiveHTML1\"},{\"type\":\"model\",\"name\":\"FlexBox1\",\"properties\":[{\"name\":\"align_content\",\"kind\":\"Any\",\"default\":\"flex-start\"},{\"name\":\"align_items\",\"kind\":\"Any\",\"default\":\"flex-start\"},{\"name\":\"flex_direction\",\"kind\":\"Any\",\"default\":\"row\"},{\"name\":\"flex_wrap\",\"kind\":\"Any\",\"default\":\"wrap\"},{\"name\":\"gap\",\"kind\":\"Any\",\"default\":\"\"},{\"name\":\"justify_content\",\"kind\":\"Any\",\"default\":\"flex-start\"}]},{\"type\":\"model\",\"name\":\"FloatPanel1\",\"properties\":[{\"name\":\"config\",\"kind\":\"Any\",\"default\":{\"type\":\"map\"}},{\"name\":\"contained\",\"kind\":\"Any\",\"default\":true},{\"name\":\"position\",\"kind\":\"Any\",\"default\":\"right-top\"},{\"name\":\"offsetx\",\"kind\":\"Any\",\"default\":null},{\"name\":\"offsety\",\"kind\":\"Any\",\"default\":null},{\"name\":\"theme\",\"kind\":\"Any\",\"default\":\"primary\"},{\"name\":\"status\",\"kind\":\"Any\",\"default\":\"normalized\"}]},{\"type\":\"model\",\"name\":\"GridStack1\",\"properties\":[{\"name\":\"ncols\",\"kind\":\"Any\",\"default\":null},{\"name\":\"nrows\",\"kind\":\"Any\",\"default\":null},{\"name\":\"allow_resize\",\"kind\":\"Any\",\"default\":true},{\"name\":\"allow_drag\",\"kind\":\"Any\",\"default\":true},{\"name\":\"state\",\"kind\":\"Any\",\"default\":[]}]},{\"type\":\"model\",\"name\":\"drag1\",\"properties\":[{\"name\":\"slider_width\",\"kind\":\"Any\",\"default\":5},{\"name\":\"slider_color\",\"kind\":\"Any\",\"default\":\"black\"},{\"name\":\"start\",\"kind\":\"Any\",\"default\":0},{\"name\":\"end\",\"kind\":\"Any\",\"default\":100},{\"name\":\"value\",\"kind\":\"Any\",\"default\":50}]},{\"type\":\"model\",\"name\":\"click1\",\"properties\":[{\"name\":\"terminal_output\",\"kind\":\"Any\",\"default\":\"\"},{\"name\":\"debug_name\",\"kind\":\"Any\",\"default\":\"\"},{\"name\":\"clears\",\"kind\":\"Any\",\"default\":0}]},{\"type\":\"model\",\"name\":\"ReactiveESM1\",\"properties\":[{\"name\":\"esm_constants\",\"kind\":\"Any\",\"default\":{\"type\":\"map\"}}]},{\"type\":\"model\",\"name\":\"JSComponent1\",\"properties\":[{\"name\":\"esm_constants\",\"kind\":\"Any\",\"default\":{\"type\":\"map\"}}]},{\"type\":\"model\",\"name\":\"ReactComponent1\",\"properties\":[{\"name\":\"use_shadow_dom\",\"kind\":\"Any\",\"default\":true},{\"name\":\"esm_constants\",\"kind\":\"Any\",\"default\":{\"type\":\"map\"}}]},{\"type\":\"model\",\"name\":\"AnyWidgetComponent1\",\"properties\":[{\"name\":\"use_shadow_dom\",\"kind\":\"Any\",\"default\":true},{\"name\":\"esm_constants\",\"kind\":\"Any\",\"default\":{\"type\":\"map\"}}]},{\"type\":\"model\",\"name\":\"FastWrapper1\",\"properties\":[{\"name\":\"object\",\"kind\":\"Any\",\"default\":null},{\"name\":\"style\",\"kind\":\"Any\",\"default\":null}]},{\"type\":\"model\",\"name\":\"NotificationArea1\",\"properties\":[{\"name\":\"js_events\",\"kind\":\"Any\",\"default\":{\"type\":\"map\"}},{\"name\":\"max_notifications\",\"kind\":\"Any\",\"default\":5},{\"name\":\"notifications\",\"kind\":\"Any\",\"default\":[]},{\"name\":\"position\",\"kind\":\"Any\",\"default\":\"bottom-right\"},{\"name\":\"_clear\",\"kind\":\"Any\",\"default\":0},{\"name\":\"types\",\"kind\":\"Any\",\"default\":[{\"type\":\"map\",\"entries\":[[\"type\",\"warning\"],[\"background\",\"#ffc107\"],[\"icon\",{\"type\":\"map\",\"entries\":[[\"className\",\"fas fa-exclamation-triangle\"],[\"tagName\",\"i\"],[\"color\",\"white\"]]}]]},{\"type\":\"map\",\"entries\":[[\"type\",\"info\"],[\"background\",\"#007bff\"],[\"icon\",{\"type\":\"map\",\"entries\":[[\"className\",\"fas fa-info-circle\"],[\"tagName\",\"i\"],[\"color\",\"white\"]]}]]}]}]},{\"type\":\"model\",\"name\":\"Notification\",\"properties\":[{\"name\":\"background\",\"kind\":\"Any\",\"default\":null},{\"name\":\"duration\",\"kind\":\"Any\",\"default\":3000},{\"name\":\"icon\",\"kind\":\"Any\",\"default\":null},{\"name\":\"message\",\"kind\":\"Any\",\"default\":\"\"},{\"name\":\"notification_type\",\"kind\":\"Any\",\"default\":null},{\"name\":\"_rendered\",\"kind\":\"Any\",\"default\":false},{\"name\":\"_destroyed\",\"kind\":\"Any\",\"default\":false}]},{\"type\":\"model\",\"name\":\"TemplateActions1\",\"properties\":[{\"name\":\"open_modal\",\"kind\":\"Any\",\"default\":0},{\"name\":\"close_modal\",\"kind\":\"Any\",\"default\":0}]},{\"type\":\"model\",\"name\":\"BootstrapTemplateActions1\",\"properties\":[{\"name\":\"open_modal\",\"kind\":\"Any\",\"default\":0},{\"name\":\"close_modal\",\"kind\":\"Any\",\"default\":0}]},{\"type\":\"model\",\"name\":\"TemplateEditor1\",\"properties\":[{\"name\":\"layout\",\"kind\":\"Any\",\"default\":[]}]},{\"type\":\"model\",\"name\":\"MaterialTemplateActions1\",\"properties\":[{\"name\":\"open_modal\",\"kind\":\"Any\",\"default\":0},{\"name\":\"close_modal\",\"kind\":\"Any\",\"default\":0}]},{\"type\":\"model\",\"name\":\"request_value1\",\"properties\":[{\"name\":\"fill\",\"kind\":\"Any\",\"default\":\"none\"},{\"name\":\"_synced\",\"kind\":\"Any\",\"default\":null},{\"name\":\"_request_sync\",\"kind\":\"Any\",\"default\":0}]},{\"type\":\"model\",\"name\":\"holoviews.plotting.bokeh.raster.HoverModel\",\"properties\":[{\"name\":\"xy\",\"kind\":\"Any\",\"default\":null},{\"name\":\"data\",\"kind\":\"Any\",\"default\":null}]}]}};\n",
              "  var render_items = [{\"docid\":\"8896aaa0-50cc-4cef-88cb-3cef8ee3c423\",\"roots\":{\"f932d6d9-58f5-42c6-afa3-f12f157d17e9\":\"dd2630ab-28fa-4f6d-9cbf-7fad170e0e74\"},\"root_ids\":[\"f932d6d9-58f5-42c6-afa3-f12f157d17e9\"]}];\n",
              "  var docs = Object.values(docs_json)\n",
              "  if (!docs) {\n",
              "    return\n",
              "  }\n",
              "  const py_version = docs[0].version.replace('rc', '-rc.').replace('.dev', '-dev.')\n",
              "  async function embed_document(root) {\n",
              "    var Bokeh = get_bokeh(root)\n",
              "    await Bokeh.embed.embed_items_notebook(docs_json, render_items);\n",
              "    for (const render_item of render_items) {\n",
              "      for (const root_id of render_item.root_ids) {\n",
              "\tconst id_el = document.getElementById(root_id)\n",
              "\tif (id_el.children.length && id_el.children[0].hasAttribute('data-root-id')) {\n",
              "\t  const root_el = id_el.children[0]\n",
              "\t  root_el.id = root_el.id + '-rendered'\n",
              "\t  for (const child of root_el.children) {\n",
              "            // Ensure JupyterLab does not capture keyboard shortcuts\n",
              "            // see: https://jupyterlab.readthedocs.io/en/4.1.x/extension/notebook.html#keyboard-interaction-model\n",
              "\t    child.setAttribute('data-lm-suppress-shortcuts', 'true')\n",
              "\t  }\n",
              "\t}\n",
              "      }\n",
              "    }\n",
              "  }\n",
              "  function get_bokeh(root) {\n",
              "    if (root.Bokeh === undefined) {\n",
              "      return null\n",
              "    } else if (root.Bokeh.version !== py_version) {\n",
              "      if (root.Bokeh.versions === undefined || !root.Bokeh.versions.has(py_version)) {\n",
              "\treturn null\n",
              "      }\n",
              "      return root.Bokeh.versions.get(py_version);\n",
              "    } else if (root.Bokeh.version === py_version) {\n",
              "      return root.Bokeh\n",
              "    }\n",
              "    return null\n",
              "  }\n",
              "  function is_loaded(root) {\n",
              "    var Bokeh = get_bokeh(root)\n",
              "    return (Bokeh != null && Bokeh.Panel !== undefined)\n",
              "  }\n",
              "  if (is_loaded(root)) {\n",
              "    embed_document(root);\n",
              "  } else {\n",
              "    var attempts = 0;\n",
              "    var timer = setInterval(function(root) {\n",
              "      if (is_loaded(root)) {\n",
              "        clearInterval(timer);\n",
              "        embed_document(root);\n",
              "      } else if (document.readyState == \"complete\") {\n",
              "        attempts++;\n",
              "        if (attempts > 200) {\n",
              "          clearInterval(timer);\n",
              "\t  var Bokeh = get_bokeh(root)\n",
              "\t  if (Bokeh == null || Bokeh.Panel == null) {\n",
              "            console.warn(\"Panel: ERROR: Unable to run Panel code because Bokeh or Panel library is missing\");\n",
              "\t  } else {\n",
              "\t    console.warn(\"Panel: WARNING: Attempting to render but not all required libraries could be resolved.\")\n",
              "\t    embed_document(root)\n",
              "\t  }\n",
              "        }\n",
              "      }\n",
              "    }, 25, root)\n",
              "  }\n",
              "})(window);</script>"
            ]
          },
          "metadata": {
            "application/vnd.holoviews_exec.v0+json": {
              "id": "f932d6d9-58f5-42c6-afa3-f12f157d17e9"
            }
          },
          "output_type": "display_data"
        },
        {
          "name": "stderr",
          "output_type": "stream",
          "text": [
            "INFO:root:Dependencies imported\n"
          ]
        }
      ],
      "source": [
        "import logging\n",
        "logging.basicConfig(level=logging.INFO,\n",
        "                    force = True)\n",
        "\n",
        "try:\n",
        "    import earthaccess\n",
        "    import xarray as xr\n",
        "    from pyproj import Geod\n",
        "    import numpy as np\n",
        "    import hvplot.xarray\n",
        "    from matplotlib import pyplot as plt\n",
        "    from pprint import pprint\n",
        "    import panel as pn\n",
        "    import panel.widgets as pnw\n",
        "    from pqdm.threads import pqdm\n",
        "except ImportError as e:\n",
        "    logging.warning(\"installing missing dependencies... \")\n",
        "    # %pip install -q earthaccess matplotlib hvplot pyproj xarray numpy h5netcdf panel pqdm\n",
        "finally:\n",
        "    import earthaccess\n",
        "    import xarray as xr\n",
        "    from pyproj import Geod\n",
        "    import numpy as np\n",
        "    import hvplot.xarray\n",
        "    from matplotlib import pyplot as plt\n",
        "    from pprint import pprint\n",
        "    import panel.widgets as pnw\n",
        "    from pqdm.threads import pqdm\n",
        "    logging.info(\"Dependencies imported\")\n"
      ]
    },
    {
      "cell_type": "markdown",
      "id": "33cf4ee3-73bd-4769-ac3f-e0d5d6e33051",
      "metadata": {
        "id": "33cf4ee3-73bd-4769-ac3f-e0d5d6e33051",
        "tags": [],
        "user_expressions": []
      },
      "source": [
        "## earthaccess and NASA's EDL\n",
        "\n",
        "We recommend authenticating your Earthdata Login (EDL) information using the `earthaccess` python package as follows:"
      ]
    },
    {
      "cell_type": "code",
      "execution_count": 3,
      "id": "c64d1850-9342-4750-b0e6-043c7df823bd",
      "metadata": {
        "id": "c64d1850-9342-4750-b0e6-043c7df823bd",
        "tags": []
      },
      "outputs": [
        {
          "name": "stderr",
          "output_type": "stream",
          "text": [
            "INFO:earthaccess.auth:You're now authenticated with NASA Earthdata Login\n"
          ]
        }
      ],
      "source": [
        "auth = earthaccess.login()"
      ]
    },
    {
      "cell_type": "markdown",
      "id": "9952ab78-79f5-43f2-a239-22b4de190f94",
      "metadata": {
        "id": "9952ab78-79f5-43f2-a239-22b4de190f94"
      },
      "source": [
        "## Search for Sea Surface Height Data\n",
        "\n",
        "Let's find the first four collections that match a keyword search for `Sea Surface Height` and print out the first two."
      ]
    },
    {
      "cell_type": "code",
      "execution_count": 4,
      "id": "a0dc3f01-5045-4eb3-af0e-04d2528f1605",
      "metadata": {
        "id": "a0dc3f01-5045-4eb3-af0e-04d2528f1605",
        "tags": []
      },
      "outputs": [
        {
          "name": "stderr",
          "output_type": "stream",
          "text": [
            "INFO:earthaccess.api:Datasets found: 378\n"
          ]
        },
        {
          "name": "stdout",
          "output_type": "stream",
          "text": [
            "{'cloud-info': {'Region': 'us-west-2',\n",
            "                'S3BucketAndObjectPrefixNames': ['podaac-swot-ops-cumulus-protected/SWOT_L2_LR_SSH_2.0/',\n",
            "                                                 'podaac-swot-ops-cumulus-public/SWOT_L2_LR_SSH_2.0/'],\n",
            "                'S3CredentialsAPIDocumentationURL': 'https://archive.swot.podaac.earthdata.nasa.gov/s3credentialsREADME',\n",
            "                'S3CredentialsAPIEndpoint': 'https://archive.swot.podaac.earthdata.nasa.gov/s3credentials'},\n",
            " 'concept-id': 'C2799438306-POCLOUD',\n",
            " 'file-type': \"[{'FormatType': 'Native', 'Format': 'netCDF-4'}]\",\n",
            " 'get-data': ['https://cmr.earthdata.nasa.gov/virtual-directory/collections/C2799438306-POCLOUD',\n",
            "              'https://search.earthdata.nasa.gov/search/granules?p=C2799438306-POCLOUD'],\n",
            " 'short-name': 'SWOT_L2_LR_SSH_2.0',\n",
            " 'version': '2.0'}\n",
            "None The SWOT Level 2 KaRIn Low Rate Sea Surface Height Data Product from the Surface Water Ocean Topography (SWOT) mission provides global sea surface height and significant wave height observations derived from low rate (LR) measurements from the Ka-band Radar Interferometer (KaRIn). SWOT launched on December 16, 2022 from Vandenberg Air Force Base in California into a 1-day repeat orbit for the \"calibration\" or \"fast-sampling\" phase of the mission, which completed in early July 2023. After the calibration phase, SWOT entered a 21-day repeat orbit in August 2023 to start the \"science\" phase of the mission, which is expected to continue through 2025. <br>\n",
            "The L2 sea surface height data product is distributed in one netCDF-4 file per pass (half-orbit) covering the full KaRIn swath width, which spans 10-60km on each side of the nadir track. Sea surface height, sea surface height anomaly, wind speed, significant waveheight, and related parameters are provided on a geographically fixed, swath-aligned 2x2 km2 grid (Basic, Expert, Windwave). The sea surface height data are also provided on a finer 250x250 m2 \"native\" grid with minimal smoothing applied (Unsmoothed).<br>\n",
            "Please note that this collection contains SWOT Version C science data products. <br>\n",
            "This dataset is the parent collection to the following sub-collections: <br>\n",
            "https://podaac.jpl.nasa.gov/dataset/SWOT_L2_LR_SSH_Basic_2.0 <br>\n",
            "https://podaac.jpl.nasa.gov/dataset/SWOT_L2_LR_SSH_WindWave_2.0 <br>\n",
            "https://podaac.jpl.nasa.gov/dataset/SWOT_L2_LR_SSH_Expert_2.0 <br>\n",
            "https://podaac.jpl.nasa.gov/dataset/SWOT_L2_LR_SSH_Unsmoothed_2.0 <br> \n",
            " {'DOI': '10.5067/SWOT-SSH-2.0'} \n",
            "\n",
            "\n",
            "{'cloud-info': {'Region': 'us-west-2',\n",
            "                'S3BucketAndObjectPrefixNames': ['podaac-swot-ops-cumulus-protected/SWOT_L2_LR_SSH_D/',\n",
            "                                                 'podaac-swot-ops-cumulus-public/SWOT_L2_LR_SSH_D/'],\n",
            "                'S3CredentialsAPIDocumentationURL': 'https://archive.swot.podaac.earthdata.nasa.gov/s3credentialsREADME',\n",
            "                'S3CredentialsAPIEndpoint': 'https://archive.swot.podaac.earthdata.nasa.gov/s3credentials'},\n",
            " 'concept-id': 'C3233945000-POCLOUD',\n",
            " 'file-type': \"[{'FormatType': 'Native', 'Format': 'netCDF-4'}]\",\n",
            " 'get-data': ['https://cmr.earthdata.nasa.gov/virtual-directory/collections/C3233945000-POCLOUD',\n",
            "              'https://search.earthdata.nasa.gov/search/granules?p=C3233945000-POCLOUD'],\n",
            " 'short-name': 'SWOT_L2_LR_SSH_D',\n",
            " 'version': 'D'}\n",
            "None The SWOT Level 2 KaRIn Low Rate Sea Surface Height Data Product from the Surface Water Ocean Topography (SWOT) mission provides global sea surface height and significant wave height observations derived from low rate (LR) measurements from the Ka-band Radar Interferometer (KaRIn). SWOT launched on December 16, 2022 from Vandenberg Air Force Base in California into a 1-day repeat orbit for the \"calibration\" or \"fast-sampling\" phase of the mission, which completed in early July 2023. After the calibration phase, SWOT entered a 21-day repeat orbit in August 2023 to start the \"science\" phase of the mission, which is expected to continue through 2025. <br>\n",
            "The L2 sea surface height data product is distributed in one netCDF-4 file per pass (half-orbit) covering the full KaRIn swath width, which spans 10-60km on each side of the nadir track. Sea surface height, sea surface height anomaly, wind speed, significant waveheight, and related parameters are provided on a geographically fixed, swath-aligned 2x2 km2 grid (Basic, Expert, Windwave). The sea surface height data are also provided on a finer 250x250 m2 \"native\" grid with minimal smoothing applied (Unsmoothed).<br>\n",
            "This dataset is the parent collection to the following sub-collections: <br>\n",
            "https://podaac.jpl.nasa.gov/dataset/SWOT_L2_LR_SSH_Basic_D <br>\n",
            "https://podaac.jpl.nasa.gov/dataset/SWOT_L2_LR_SSH_WindWave_D <br>\n",
            "https://podaac.jpl.nasa.gov/dataset/SWOT_L2_LR_SSH_Expert_D <br>\n",
            "https://podaac.jpl.nasa.gov/dataset/SWOT_L2_LR_SSH_Unsmoothed_D <br> \n",
            " {'DOI': '10.5067/SWOT-SSH-D'} \n",
            "\n",
            "\n"
          ]
        }
      ],
      "source": [
        "import warnings\n",
        "warnings.filterwarnings('ignore')\n",
        "\n",
        "max_results = 10\n",
        "\n",
        "collections = earthaccess.search_datasets(\n",
        "    keyword = \"SEA SURFACE HEIGHT\",\n",
        "    cloud_hosted = True,\n",
        "    count = max_results\n",
        ")\n",
        "\n",
        "# Let's print 2 collections\n",
        "for collection in collections[0:2]:\n",
        "    # pprint(collection.summary())\n",
        "    print(pprint(collection.summary()), collection.abstract(), \"\\n\", collection[\"umm\"][\"DOI\"], \"\\n\\n\")"
      ]
    },
    {
      "cell_type": "markdown",
      "id": "9be2086f-9333-4f97-b14f-02013bcb1b07",
      "metadata": {
        "id": "9be2086f-9333-4f97-b14f-02013bcb1b07"
      },
      "source": [
        "## Access Data\n",
        "\n",
        "The first dataset looks like it contains data from many altimetry missions, let's explore a bit more! We will access the first granule of the `SEA_SURFACE_HEIGHT_ALT_GRIDS_L4_2SATS_5DAY_6THDEG_V_JPL2205` collection in the month of May for every year that data is available and open the granules via xarray."
      ]
    },
    {
      "cell_type": "code",
      "execution_count": 5,
      "id": "d279a525-c488-4df9-bea3-045b46fb6500",
      "metadata": {
        "id": "d279a525-c488-4df9-bea3-045b46fb6500",
        "tags": []
      },
      "outputs": [
        {
          "name": "stdout",
          "output_type": "stream",
          "text": [
            "Searching for data in 1990\n"
          ]
        },
        {
          "name": "stderr",
          "output_type": "stream",
          "text": [
            "INFO:earthaccess.api:Granules found: 0\n"
          ]
        },
        {
          "name": "stdout",
          "output_type": "stream",
          "text": [
            "Searching for data in 1991\n"
          ]
        },
        {
          "name": "stderr",
          "output_type": "stream",
          "text": [
            "INFO:earthaccess.api:Granules found: 0\n"
          ]
        },
        {
          "name": "stdout",
          "output_type": "stream",
          "text": [
            "Searching for data in 1992\n"
          ]
        },
        {
          "name": "stderr",
          "output_type": "stream",
          "text": [
            "INFO:earthaccess.api:Granules found: 0\n"
          ]
        },
        {
          "name": "stdout",
          "output_type": "stream",
          "text": [
            "Searching for data in 1993\n"
          ]
        },
        {
          "name": "stderr",
          "output_type": "stream",
          "text": [
            "INFO:earthaccess.api:Granules found: 12\n"
          ]
        },
        {
          "name": "stdout",
          "output_type": "stream",
          "text": [
            "Searching for data in 1994\n"
          ]
        },
        {
          "name": "stderr",
          "output_type": "stream",
          "text": [
            "INFO:earthaccess.api:Granules found: 12\n"
          ]
        },
        {
          "name": "stdout",
          "output_type": "stream",
          "text": [
            "Searching for data in 1995\n"
          ]
        },
        {
          "name": "stderr",
          "output_type": "stream",
          "text": [
            "INFO:earthaccess.api:Granules found: 12\n"
          ]
        },
        {
          "name": "stdout",
          "output_type": "stream",
          "text": [
            "Searching for data in 1996\n"
          ]
        },
        {
          "name": "stderr",
          "output_type": "stream",
          "text": [
            "INFO:earthaccess.api:Granules found: 12\n"
          ]
        },
        {
          "name": "stdout",
          "output_type": "stream",
          "text": [
            "Searching for data in 1997\n"
          ]
        },
        {
          "name": "stderr",
          "output_type": "stream",
          "text": [
            "INFO:earthaccess.api:Granules found: 12\n"
          ]
        },
        {
          "name": "stdout",
          "output_type": "stream",
          "text": [
            "Searching for data in 1998\n"
          ]
        },
        {
          "name": "stderr",
          "output_type": "stream",
          "text": [
            "INFO:earthaccess.api:Granules found: 12\n"
          ]
        },
        {
          "name": "stdout",
          "output_type": "stream",
          "text": [
            "Searching for data in 1999\n"
          ]
        },
        {
          "name": "stderr",
          "output_type": "stream",
          "text": [
            "INFO:earthaccess.api:Granules found: 12\n"
          ]
        },
        {
          "name": "stdout",
          "output_type": "stream",
          "text": [
            "Searching for data in 2000\n"
          ]
        },
        {
          "name": "stderr",
          "output_type": "stream",
          "text": [
            "INFO:earthaccess.api:Granules found: 13\n"
          ]
        },
        {
          "name": "stdout",
          "output_type": "stream",
          "text": [
            "Searching for data in 2001\n"
          ]
        },
        {
          "name": "stderr",
          "output_type": "stream",
          "text": [
            "INFO:earthaccess.api:Granules found: 13\n"
          ]
        },
        {
          "name": "stdout",
          "output_type": "stream",
          "text": [
            "Searching for data in 2002\n"
          ]
        },
        {
          "name": "stderr",
          "output_type": "stream",
          "text": [
            "INFO:earthaccess.api:Granules found: 13\n"
          ]
        },
        {
          "name": "stdout",
          "output_type": "stream",
          "text": [
            "Searching for data in 2003\n"
          ]
        },
        {
          "name": "stderr",
          "output_type": "stream",
          "text": [
            "INFO:earthaccess.api:Granules found: 13\n"
          ]
        },
        {
          "name": "stdout",
          "output_type": "stream",
          "text": [
            "Searching for data in 2004\n"
          ]
        },
        {
          "name": "stderr",
          "output_type": "stream",
          "text": [
            "INFO:earthaccess.api:Granules found: 12\n"
          ]
        },
        {
          "name": "stdout",
          "output_type": "stream",
          "text": [
            "Searching for data in 2005\n"
          ]
        },
        {
          "name": "stderr",
          "output_type": "stream",
          "text": [
            "INFO:earthaccess.api:Granules found: 12\n"
          ]
        },
        {
          "name": "stdout",
          "output_type": "stream",
          "text": [
            "Searching for data in 2006\n"
          ]
        },
        {
          "name": "stderr",
          "output_type": "stream",
          "text": [
            "INFO:earthaccess.api:Granules found: 12\n"
          ]
        },
        {
          "name": "stdout",
          "output_type": "stream",
          "text": [
            "Searching for data in 2007\n"
          ]
        },
        {
          "name": "stderr",
          "output_type": "stream",
          "text": [
            "INFO:earthaccess.api:Granules found: 12\n"
          ]
        },
        {
          "name": "stdout",
          "output_type": "stream",
          "text": [
            "Searching for data in 2008\n"
          ]
        },
        {
          "name": "stderr",
          "output_type": "stream",
          "text": [
            "INFO:earthaccess.api:Granules found: 12\n"
          ]
        },
        {
          "name": "stdout",
          "output_type": "stream",
          "text": [
            "Searching for data in 2009\n"
          ]
        },
        {
          "name": "stderr",
          "output_type": "stream",
          "text": [
            "INFO:earthaccess.api:Granules found: 12\n"
          ]
        },
        {
          "name": "stdout",
          "output_type": "stream",
          "text": [
            "Searching for data in 2010\n"
          ]
        },
        {
          "name": "stderr",
          "output_type": "stream",
          "text": [
            "INFO:earthaccess.api:Granules found: 12\n"
          ]
        },
        {
          "name": "stdout",
          "output_type": "stream",
          "text": [
            "Searching for data in 2011\n"
          ]
        },
        {
          "name": "stderr",
          "output_type": "stream",
          "text": [
            "INFO:earthaccess.api:Granules found: 12\n"
          ]
        },
        {
          "name": "stdout",
          "output_type": "stream",
          "text": [
            "Searching for data in 2012\n"
          ]
        },
        {
          "name": "stderr",
          "output_type": "stream",
          "text": [
            "INFO:earthaccess.api:Granules found: 12\n"
          ]
        },
        {
          "name": "stdout",
          "output_type": "stream",
          "text": [
            "Searching for data in 2013\n"
          ]
        },
        {
          "name": "stderr",
          "output_type": "stream",
          "text": [
            "INFO:earthaccess.api:Granules found: 12\n"
          ]
        },
        {
          "name": "stdout",
          "output_type": "stream",
          "text": [
            "Searching for data in 2014\n"
          ]
        },
        {
          "name": "stderr",
          "output_type": "stream",
          "text": [
            "INFO:earthaccess.api:Granules found: 12\n"
          ]
        },
        {
          "name": "stdout",
          "output_type": "stream",
          "text": [
            "Searching for data in 2015\n"
          ]
        },
        {
          "name": "stderr",
          "output_type": "stream",
          "text": [
            "INFO:earthaccess.api:Granules found: 12\n"
          ]
        },
        {
          "name": "stdout",
          "output_type": "stream",
          "text": [
            "Searching for data in 2016\n"
          ]
        },
        {
          "name": "stderr",
          "output_type": "stream",
          "text": [
            "INFO:earthaccess.api:Granules found: 12\n"
          ]
        },
        {
          "name": "stdout",
          "output_type": "stream",
          "text": [
            "Searching for data in 2017\n"
          ]
        },
        {
          "name": "stderr",
          "output_type": "stream",
          "text": [
            "INFO:earthaccess.api:Granules found: 12\n"
          ]
        },
        {
          "name": "stdout",
          "output_type": "stream",
          "text": [
            "Searching for data in 2018\n"
          ]
        },
        {
          "name": "stderr",
          "output_type": "stream",
          "text": [
            "INFO:earthaccess.api:Granules found: 12\n"
          ]
        },
        {
          "name": "stdout",
          "output_type": "stream",
          "text": [
            "Searching for data in 2019\n"
          ]
        },
        {
          "name": "stderr",
          "output_type": "stream",
          "text": [
            "INFO:earthaccess.api:Granules found: 12\n"
          ]
        },
        {
          "name": "stdout",
          "output_type": "stream",
          "text": [
            "Total granules: 27\n"
          ]
        }
      ],
      "source": [
        "granules = []\n",
        "\n",
        "for year in range(1990, 2020):\n",
        "    print(f\"Searching for data in {year}\")\n",
        "    granule = earthaccess.search_data(doi=\"10.5067/SLREF-CDRV3\",\n",
        "                                      temporal= (f\"{year}-05\", f\"{year}-06\"),\n",
        "                                      count = 1)\n",
        "    if len(granule)>0:\n",
        "        granules.append(granule[0])\n",
        "print(f\"Total granules: {len(granules)}\")"
      ]
    },
    {
      "cell_type": "code",
      "execution_count": 6,
      "id": "8a108c34-7c26-4f31-9eef-ba4c818f663d",
      "metadata": {
        "id": "8a108c34-7c26-4f31-9eef-ba4c818f663d",
        "tags": []
      },
      "outputs": [
        {
          "name": "stderr",
          "output_type": "stream",
          "text": [
            "INFO:earthaccess.store:Opening 27 granules, approx size: 0.24 GB\n",
            "QUEUEING TASKS | : 100%|██████████| 27/27 [00:00<00:00, 7470.56it/s]\n",
            "PROCESSING TASKS | : 100%|██████████| 27/27 [00:16<00:00,  1.61it/s]\n",
            "COLLECTING RESULTS | : 100%|██████████| 27/27 [00:00<00:00, 557863.09it/s]\n",
            "QUEUEING TASKS | : 100%|██████████| 27/27 [00:00<00:00, 12509.25it/s]\n",
            "PROCESSING TASKS | :   0%|          | 0/27 [00:00<?, ?it/s]INFO:fsspec:BlockCache fetching block (sync) 0\n",
            "INFO:fsspec:BlockCache fetching block (sync) 0\n",
            "INFO:fsspec:BlockCache fetching block (sync) 0\n",
            "INFO:fsspec:BlockCache fetching block (sync) 0\n",
            "INFO:fsspec:BlockCache fetching block (sync) 0\n",
            "INFO:fsspec:BlockCache fetching block (sync) 0\n",
            "INFO:fsspec:BlockCache fetching block (sync) 0\n",
            "INFO:fsspec:BlockCache fetching block (sync) 0\n",
            "INFO:fsspec:BlockCache fetching block (async) 1\n",
            "INFO:fsspec:BlockCache fetching block (sync) 2\n",
            "INFO:fsspec:BlockCache fetching block (async) 1\n",
            "INFO:fsspec:BlockCache fetching block (async) 1\n",
            "INFO:fsspec:BlockCache fetching block (async) 1\n",
            "INFO:fsspec:BlockCache fetching block (async) 1\n",
            "INFO:fsspec:BlockCache fetching block (async) 1\n",
            "INFO:fsspec:BlockCache fetching block (async) 1\n",
            "INFO:fsspec:BlockCache fetching block (async) 1\n",
            "INFO:fsspec:BlockCache joined background fetch without waiting.\n",
            "INFO:fsspec:BlockCache fetching block (sync) 2\n",
            "INFO:fsspec:BlockCache joined background fetch without waiting.\n",
            "INFO:fsspec:BlockCache fetching block (sync) 2\n",
            "INFO:fsspec:BlockCache fetching block (async) 3\n",
            "INFO:fsspec:BlockCache joined background fetch without waiting.\n",
            "INFO:fsspec:BlockCache fetching block (sync) 2\n",
            "INFO:fsspec:BlockCache joined background fetch without waiting.\n",
            "INFO:fsspec:BlockCache joined background fetch without waiting.\n",
            "INFO:fsspec:BlockCache fetching block (sync) 2\n",
            "INFO:fsspec:BlockCache fetching block (async) 3\n",
            "INFO:fsspec:BlockCache joined background fetch without waiting.\n",
            "INFO:fsspec:BlockCache fetching block (sync) 2\n",
            "INFO:fsspec:BlockCache fetching block (async) 3\n",
            "INFO:fsspec:BlockCache joined background fetch without waiting.\n",
            "INFO:fsspec:BlockCache fetching block (sync) 2\n",
            "INFO:fsspec:BlockCache fetching block (async) 3\n",
            "INFO:fsspec:BlockCache fetching block (sync) 2\n",
            "INFO:fsspec:BlockCache fetching block (async) 3\n",
            "INFO:fsspec:BlockCache joined background fetch without waiting.\n",
            "INFO:fsspec:BlockCache joined background fetch without waiting.\n",
            "INFO:fsspec:BlockCache joined background fetch without waiting.\n",
            "INFO:fsspec:BlockCache joined background fetch without waiting.\n",
            "INFO:fsspec:BlockCache joined background fetch without waiting.\n",
            "INFO:fsspec:BlockCache joined background fetch without waiting.\n",
            "INFO:fsspec:BlockCache fetching block (async) 3\n",
            "INFO:fsspec:BlockCache joined background fetch without waiting.\n",
            "INFO:fsspec:BlockCache fetching block (async) 3\n",
            "INFO:fsspec:BlockCache fetching block (sync) 0\n",
            "PROCESSING TASKS | :   4%|▎         | 1/27 [00:37<16:11, 37.38s/it]INFO:fsspec:BlockCache joined background fetch without waiting.\n",
            "INFO:fsspec:BlockCache fetching block (async) 3\n",
            "INFO:fsspec:BlockCache fetching block (sync) 0\n",
            "INFO:fsspec:BlockCache joined background fetch without waiting.\n",
            "INFO:fsspec:BlockCache fetching block (sync) 0\n",
            "INFO:fsspec:BlockCache fetching block (sync) 0\n",
            "INFO:fsspec:BlockCache fetching block (sync) 0\n",
            "INFO:fsspec:BlockCache fetching block (sync) 0\n",
            "INFO:fsspec:BlockCache fetching block (sync) 0\n",
            "INFO:fsspec:BlockCache fetching block (sync) 0\n",
            "INFO:fsspec:BlockCache fetching block (async) 1\n",
            "INFO:fsspec:BlockCache fetching block (sync) 2\n",
            "INFO:fsspec:BlockCache fetching block (async) 1\n",
            "INFO:fsspec:BlockCache fetching block (sync) 2\n",
            "INFO:fsspec:BlockCache fetching block (async) 1\n",
            "INFO:fsspec:BlockCache fetching block (async) 1\n",
            "INFO:fsspec:BlockCache fetching block (async) 1\n",
            "INFO:fsspec:BlockCache fetching block (async) 1\n",
            "INFO:fsspec:BlockCache fetching block (async) 1\n",
            "INFO:fsspec:BlockCache fetching block (async) 1\n",
            "INFO:fsspec:BlockCache fetching block (sync) 2\n",
            "INFO:fsspec:BlockCache fetching block (sync) 2\n",
            "INFO:fsspec:BlockCache joined background fetch without waiting.\n",
            "INFO:fsspec:BlockCache joined background fetch without waiting.\n",
            "INFO:fsspec:BlockCache fetching block (sync) 2\n",
            "INFO:fsspec:BlockCache fetching block (async) 3\n",
            "INFO:fsspec:BlockCache joined background fetch without waiting.\n",
            "INFO:fsspec:BlockCache fetching block (sync) 2\n",
            "INFO:fsspec:BlockCache fetching block (async) 3\n",
            "INFO:fsspec:BlockCache fetching block (sync) 2\n",
            "INFO:fsspec:BlockCache fetching block (async) 3\n",
            "INFO:fsspec:BlockCache joined background fetch without waiting.\n",
            "INFO:fsspec:BlockCache fetching block (sync) 2\n",
            "INFO:fsspec:BlockCache fetching block (async) 3\n",
            "INFO:fsspec:BlockCache joined background fetch without waiting.\n",
            "INFO:fsspec:BlockCache joined background fetch without waiting.\n",
            "INFO:fsspec:BlockCache joined background fetch without waiting.\n",
            "INFO:fsspec:BlockCache joined background fetch without waiting.\n",
            "INFO:fsspec:BlockCache joined background fetch without waiting.\n",
            "INFO:fsspec:BlockCache joined background fetch without waiting.\n",
            "INFO:fsspec:BlockCache joined background fetch without waiting.\n",
            "INFO:fsspec:BlockCache joined background fetch without waiting.\n",
            "INFO:fsspec:BlockCache fetching block (async) 3\n",
            "INFO:fsspec:BlockCache fetching block (async) 3\n",
            "INFO:fsspec:BlockCache fetching block (async) 3\n",
            "INFO:fsspec:BlockCache joined background fetch without waiting.\n",
            "INFO:fsspec:BlockCache joined background fetch without waiting.\n",
            "INFO:fsspec:BlockCache joined background fetch without waiting.\n",
            "INFO:fsspec:BlockCache fetching block (sync) 0\n",
            "PROCESSING TASKS | :  33%|███▎      | 9/27 [01:15<02:13,  7.42s/it]INFO:fsspec:BlockCache fetching block (sync) 0\n",
            "INFO:fsspec:BlockCache fetching block (sync) 0\n",
            "INFO:fsspec:BlockCache fetching block (async) 3\n",
            "INFO:fsspec:BlockCache joined background fetch without waiting.\n",
            "INFO:fsspec:BlockCache fetching block (sync) 0\n",
            "INFO:fsspec:BlockCache fetching block (sync) 0\n",
            "INFO:fsspec:BlockCache fetching block (sync) 0\n",
            "INFO:fsspec:BlockCache fetching block (sync) 0\n",
            "INFO:fsspec:BlockCache fetching block (sync) 0\n",
            "INFO:fsspec:BlockCache fetching block (async) 1\n",
            "INFO:fsspec:BlockCache fetching block (sync) 2\n",
            "INFO:fsspec:BlockCache fetching block (async) 1\n",
            "INFO:fsspec:BlockCache fetching block (async) 1\n",
            "INFO:fsspec:BlockCache fetching block (async) 1\n",
            "INFO:fsspec:BlockCache fetching block (async) 1\n",
            "INFO:fsspec:BlockCache fetching block (sync) 2\n",
            "INFO:fsspec:BlockCache fetching block (async) 1\n",
            "INFO:fsspec:BlockCache fetching block (async) 1\n",
            "INFO:fsspec:BlockCache joined background fetch without waiting.\n",
            "INFO:fsspec:BlockCache fetching block (sync) 2\n",
            "INFO:fsspec:BlockCache fetching block (async) 1\n",
            "INFO:fsspec:BlockCache joined background fetch without waiting.\n",
            "INFO:fsspec:BlockCache joined background fetch without waiting.\n",
            "INFO:fsspec:BlockCache fetching block (sync) 2\n",
            "INFO:fsspec:BlockCache joined background fetch without waiting.\n",
            "INFO:fsspec:BlockCache joined background fetch without waiting.\n",
            "INFO:fsspec:BlockCache joined background fetch without waiting.\n",
            "INFO:fsspec:BlockCache fetching block (sync) 2\n",
            "INFO:fsspec:BlockCache fetching block (async) 3\n",
            "INFO:fsspec:BlockCache fetching block (sync) 2\n",
            "INFO:fsspec:BlockCache fetching block (async) 3\n",
            "INFO:fsspec:BlockCache joined background fetch without waiting.\n",
            "INFO:fsspec:BlockCache fetching block (sync) 2\n",
            "INFO:fsspec:BlockCache fetching block (async) 3\n",
            "INFO:fsspec:BlockCache fetching block (sync) 2\n",
            "INFO:fsspec:BlockCache fetching block (async) 3\n",
            "INFO:fsspec:BlockCache joined background fetch without waiting.\n",
            "INFO:fsspec:BlockCache joined background fetch without waiting.\n",
            "INFO:fsspec:BlockCache joined background fetch without waiting.\n",
            "INFO:fsspec:BlockCache joined background fetch without waiting.\n",
            "INFO:fsspec:BlockCache joined background fetch without waiting.\n",
            "INFO:fsspec:BlockCache fetching block (sync) 0\n",
            "PROCESSING TASKS | :  63%|██████▎   | 17/27 [02:05<01:07,  6.75s/it]INFO:fsspec:BlockCache fetching block (async) 3\n",
            "INFO:fsspec:BlockCache fetching block (async) 3\n",
            "INFO:fsspec:BlockCache joined background fetch without waiting.\n",
            "INFO:fsspec:BlockCache joined background fetch without waiting.\n",
            "INFO:fsspec:BlockCache fetching block (sync) 0\n",
            "INFO:fsspec:BlockCache fetching block (async) 3\n",
            "INFO:fsspec:BlockCache fetching block (async) 3\n",
            "INFO:fsspec:BlockCache fetching block (sync) 0\n",
            "INFO:fsspec:BlockCache joined background fetch without waiting.\n",
            "INFO:fsspec:BlockCache joined background fetch without waiting.\n",
            "INFO:fsspec:BlockCache fetching block (async) 1\n",
            "INFO:fsspec:BlockCache fetching block (sync) 2\n",
            "INFO:fsspec:BlockCache fetching block (async) 1\n",
            "INFO:fsspec:BlockCache fetching block (async) 1\n",
            "INFO:fsspec:BlockCache fetching block (sync) 2\n",
            "INFO:fsspec:BlockCache fetching block (sync) 2\n",
            "INFO:fsspec:BlockCache joined background fetch without waiting.\n",
            "INFO:fsspec:BlockCache joined background fetch without waiting.\n",
            "INFO:fsspec:BlockCache fetching block (async) 3\n",
            "INFO:fsspec:BlockCache fetching block (async) 3\n",
            "INFO:fsspec:BlockCache joined background fetch without waiting.\n",
            "INFO:fsspec:BlockCache joined background fetch without waiting.\n",
            "INFO:fsspec:BlockCache joined background fetch without waiting.\n",
            "PROCESSING TASKS | :  93%|█████████▎| 25/27 [02:21<00:09,  4.63s/it]INFO:fsspec:BlockCache fetching block (async) 3\n",
            "INFO:fsspec:BlockCache joined background fetch without waiting.\n",
            "PROCESSING TASKS | : 100%|██████████| 27/27 [02:21<00:00,  5.25s/it]\n",
            "COLLECTING RESULTS | : 100%|██████████| 27/27 [00:00<00:00, 490243.32it/s]\n"
          ]
        },
        {
          "name": "stdout",
          "output_type": "stream",
          "text": [
            "CPU times: user 6.53 s, sys: 1.07 s, total: 7.61 s\n",
            "Wall time: 2min 40s\n"
          ]
        },
        {
          "data": {
            "text/html": [
              "<div><svg style=\"position: absolute; width: 0; height: 0; overflow: hidden\">\n",
              "<defs>\n",
              "<symbol id=\"icon-database\" viewBox=\"0 0 32 32\">\n",
              "<path d=\"M16 0c-8.837 0-16 2.239-16 5v4c0 2.761 7.163 5 16 5s16-2.239 16-5v-4c0-2.761-7.163-5-16-5z\"></path>\n",
              "<path d=\"M16 17c-8.837 0-16-2.239-16-5v6c0 2.761 7.163 5 16 5s16-2.239 16-5v-6c0 2.761-7.163 5-16 5z\"></path>\n",
              "<path d=\"M16 26c-8.837 0-16-2.239-16-5v6c0 2.761 7.163 5 16 5s16-2.239 16-5v-6c0 2.761-7.163 5-16 5z\"></path>\n",
              "</symbol>\n",
              "<symbol id=\"icon-file-text2\" viewBox=\"0 0 32 32\">\n",
              "<path d=\"M28.681 7.159c-0.694-0.947-1.662-2.053-2.724-3.116s-2.169-2.030-3.116-2.724c-1.612-1.182-2.393-1.319-2.841-1.319h-15.5c-1.378 0-2.5 1.121-2.5 2.5v27c0 1.378 1.122 2.5 2.5 2.5h23c1.378 0 2.5-1.122 2.5-2.5v-19.5c0-0.448-0.137-1.23-1.319-2.841zM24.543 5.457c0.959 0.959 1.712 1.825 2.268 2.543h-4.811v-4.811c0.718 0.556 1.584 1.309 2.543 2.268zM28 29.5c0 0.271-0.229 0.5-0.5 0.5h-23c-0.271 0-0.5-0.229-0.5-0.5v-27c0-0.271 0.229-0.5 0.5-0.5 0 0 15.499-0 15.5 0v7c0 0.552 0.448 1 1 1h7v19.5z\"></path>\n",
              "<path d=\"M23 26h-14c-0.552 0-1-0.448-1-1s0.448-1 1-1h14c0.552 0 1 0.448 1 1s-0.448 1-1 1z\"></path>\n",
              "<path d=\"M23 22h-14c-0.552 0-1-0.448-1-1s0.448-1 1-1h14c0.552 0 1 0.448 1 1s-0.448 1-1 1z\"></path>\n",
              "<path d=\"M23 18h-14c-0.552 0-1-0.448-1-1s0.448-1 1-1h14c0.552 0 1 0.448 1 1s-0.448 1-1 1z\"></path>\n",
              "</symbol>\n",
              "</defs>\n",
              "</svg>\n",
              "<style>/* CSS stylesheet for displaying xarray objects in notebooks */\n",
              "\n",
              ":root {\n",
              "  --xr-font-color0: var(\n",
              "    --jp-content-font-color0,\n",
              "    var(--pst-color-text-base rgba(0, 0, 0, 1))\n",
              "  );\n",
              "  --xr-font-color2: var(\n",
              "    --jp-content-font-color2,\n",
              "    var(--pst-color-text-base, rgba(0, 0, 0, 0.54))\n",
              "  );\n",
              "  --xr-font-color3: var(\n",
              "    --jp-content-font-color3,\n",
              "    var(--pst-color-text-base, rgba(0, 0, 0, 0.38))\n",
              "  );\n",
              "  --xr-border-color: var(\n",
              "    --jp-border-color2,\n",
              "    hsl(from var(--pst-color-on-background, white) h s calc(l - 10))\n",
              "  );\n",
              "  --xr-disabled-color: var(\n",
              "    --jp-layout-color3,\n",
              "    hsl(from var(--pst-color-on-background, white) h s calc(l - 40))\n",
              "  );\n",
              "  --xr-background-color: var(\n",
              "    --jp-layout-color0,\n",
              "    var(--pst-color-on-background, white)\n",
              "  );\n",
              "  --xr-background-color-row-even: var(\n",
              "    --jp-layout-color1,\n",
              "    hsl(from var(--pst-color-on-background, white) h s calc(l - 5))\n",
              "  );\n",
              "  --xr-background-color-row-odd: var(\n",
              "    --jp-layout-color2,\n",
              "    hsl(from var(--pst-color-on-background, white) h s calc(l - 15))\n",
              "  );\n",
              "}\n",
              "\n",
              "html[theme=\"dark\"],\n",
              "html[data-theme=\"dark\"],\n",
              "body[data-theme=\"dark\"],\n",
              "body.vscode-dark {\n",
              "  --xr-font-color0: var(\n",
              "    --jp-content-font-color0,\n",
              "    var(--pst-color-text-base, rgba(255, 255, 255, 1))\n",
              "  );\n",
              "  --xr-font-color2: var(\n",
              "    --jp-content-font-color2,\n",
              "    var(--pst-color-text-base, rgba(255, 255, 255, 0.54))\n",
              "  );\n",
              "  --xr-font-color3: var(\n",
              "    --jp-content-font-color3,\n",
              "    var(--pst-color-text-base, rgba(255, 255, 255, 0.38))\n",
              "  );\n",
              "  --xr-border-color: var(\n",
              "    --jp-border-color2,\n",
              "    hsl(from var(--pst-color-on-background, #111111) h s calc(l + 10))\n",
              "  );\n",
              "  --xr-disabled-color: var(\n",
              "    --jp-layout-color3,\n",
              "    hsl(from var(--pst-color-on-background, #111111) h s calc(l + 40))\n",
              "  );\n",
              "  --xr-background-color: var(\n",
              "    --jp-layout-color0,\n",
              "    var(--pst-color-on-background, #111111)\n",
              "  );\n",
              "  --xr-background-color-row-even: var(\n",
              "    --jp-layout-color1,\n",
              "    hsl(from var(--pst-color-on-background, #111111) h s calc(l + 5))\n",
              "  );\n",
              "  --xr-background-color-row-odd: var(\n",
              "    --jp-layout-color2,\n",
              "    hsl(from var(--pst-color-on-background, #111111) h s calc(l + 15))\n",
              "  );\n",
              "}\n",
              "\n",
              ".xr-wrap {\n",
              "  display: block !important;\n",
              "  min-width: 300px;\n",
              "  max-width: 700px;\n",
              "  line-height: 1.6;\n",
              "}\n",
              "\n",
              ".xr-text-repr-fallback {\n",
              "  /* fallback to plain text repr when CSS is not injected (untrusted notebook) */\n",
              "  display: none;\n",
              "}\n",
              "\n",
              ".xr-header {\n",
              "  padding-top: 6px;\n",
              "  padding-bottom: 6px;\n",
              "  margin-bottom: 4px;\n",
              "  border-bottom: solid 1px var(--xr-border-color);\n",
              "}\n",
              "\n",
              ".xr-header > div,\n",
              ".xr-header > ul {\n",
              "  display: inline;\n",
              "  margin-top: 0;\n",
              "  margin-bottom: 0;\n",
              "}\n",
              "\n",
              ".xr-obj-type,\n",
              ".xr-obj-name,\n",
              ".xr-group-name {\n",
              "  margin-left: 2px;\n",
              "  margin-right: 10px;\n",
              "}\n",
              "\n",
              ".xr-group-name::before {\n",
              "  content: \"📁\";\n",
              "  padding-right: 0.3em;\n",
              "}\n",
              "\n",
              ".xr-group-name,\n",
              ".xr-obj-type {\n",
              "  color: var(--xr-font-color2);\n",
              "}\n",
              "\n",
              ".xr-sections {\n",
              "  padding-left: 0 !important;\n",
              "  display: grid;\n",
              "  grid-template-columns: 150px auto auto 1fr 0 20px 0 20px;\n",
              "  margin-block-start: 0;\n",
              "  margin-block-end: 0;\n",
              "}\n",
              "\n",
              ".xr-section-item {\n",
              "  display: contents;\n",
              "}\n",
              "\n",
              ".xr-section-item input {\n",
              "  display: inline-block;\n",
              "  opacity: 0;\n",
              "  height: 0;\n",
              "  margin: 0;\n",
              "}\n",
              "\n",
              ".xr-section-item input + label {\n",
              "  color: var(--xr-disabled-color);\n",
              "  border: 2px solid transparent !important;\n",
              "}\n",
              "\n",
              ".xr-section-item input:enabled + label {\n",
              "  cursor: pointer;\n",
              "  color: var(--xr-font-color2);\n",
              "}\n",
              "\n",
              ".xr-section-item input:focus + label {\n",
              "  border: 2px solid var(--xr-font-color0) !important;\n",
              "}\n",
              "\n",
              ".xr-section-item input:enabled + label:hover {\n",
              "  color: var(--xr-font-color0);\n",
              "}\n",
              "\n",
              ".xr-section-summary {\n",
              "  grid-column: 1;\n",
              "  color: var(--xr-font-color2);\n",
              "  font-weight: 500;\n",
              "}\n",
              "\n",
              ".xr-section-summary > span {\n",
              "  display: inline-block;\n",
              "  padding-left: 0.5em;\n",
              "}\n",
              "\n",
              ".xr-section-summary-in:disabled + label {\n",
              "  color: var(--xr-font-color2);\n",
              "}\n",
              "\n",
              ".xr-section-summary-in + label:before {\n",
              "  display: inline-block;\n",
              "  content: \"►\";\n",
              "  font-size: 11px;\n",
              "  width: 15px;\n",
              "  text-align: center;\n",
              "}\n",
              "\n",
              ".xr-section-summary-in:disabled + label:before {\n",
              "  color: var(--xr-disabled-color);\n",
              "}\n",
              "\n",
              ".xr-section-summary-in:checked + label:before {\n",
              "  content: \"▼\";\n",
              "}\n",
              "\n",
              ".xr-section-summary-in:checked + label > span {\n",
              "  display: none;\n",
              "}\n",
              "\n",
              ".xr-section-summary,\n",
              ".xr-section-inline-details {\n",
              "  padding-top: 4px;\n",
              "}\n",
              "\n",
              ".xr-section-inline-details {\n",
              "  grid-column: 2 / -1;\n",
              "}\n",
              "\n",
              ".xr-section-details {\n",
              "  display: none;\n",
              "  grid-column: 1 / -1;\n",
              "  margin-top: 4px;\n",
              "  margin-bottom: 5px;\n",
              "}\n",
              "\n",
              ".xr-section-summary-in:checked ~ .xr-section-details {\n",
              "  display: contents;\n",
              "}\n",
              "\n",
              ".xr-group-box {\n",
              "  display: inline-grid;\n",
              "  grid-template-columns: 0px 20px auto;\n",
              "  width: 100%;\n",
              "}\n",
              "\n",
              ".xr-group-box-vline {\n",
              "  grid-column-start: 1;\n",
              "  border-right: 0.2em solid;\n",
              "  border-color: var(--xr-border-color);\n",
              "  width: 0px;\n",
              "}\n",
              "\n",
              ".xr-group-box-hline {\n",
              "  grid-column-start: 2;\n",
              "  grid-row-start: 1;\n",
              "  height: 1em;\n",
              "  width: 20px;\n",
              "  border-bottom: 0.2em solid;\n",
              "  border-color: var(--xr-border-color);\n",
              "}\n",
              "\n",
              ".xr-group-box-contents {\n",
              "  grid-column-start: 3;\n",
              "}\n",
              "\n",
              ".xr-array-wrap {\n",
              "  grid-column: 1 / -1;\n",
              "  display: grid;\n",
              "  grid-template-columns: 20px auto;\n",
              "}\n",
              "\n",
              ".xr-array-wrap > label {\n",
              "  grid-column: 1;\n",
              "  vertical-align: top;\n",
              "}\n",
              "\n",
              ".xr-preview {\n",
              "  color: var(--xr-font-color3);\n",
              "}\n",
              "\n",
              ".xr-array-preview,\n",
              ".xr-array-data {\n",
              "  padding: 0 5px !important;\n",
              "  grid-column: 2;\n",
              "}\n",
              "\n",
              ".xr-array-data,\n",
              ".xr-array-in:checked ~ .xr-array-preview {\n",
              "  display: none;\n",
              "}\n",
              "\n",
              ".xr-array-in:checked ~ .xr-array-data,\n",
              ".xr-array-preview {\n",
              "  display: inline-block;\n",
              "}\n",
              "\n",
              ".xr-dim-list {\n",
              "  display: inline-block !important;\n",
              "  list-style: none;\n",
              "  padding: 0 !important;\n",
              "  margin: 0;\n",
              "}\n",
              "\n",
              ".xr-dim-list li {\n",
              "  display: inline-block;\n",
              "  padding: 0;\n",
              "  margin: 0;\n",
              "}\n",
              "\n",
              ".xr-dim-list:before {\n",
              "  content: \"(\";\n",
              "}\n",
              "\n",
              ".xr-dim-list:after {\n",
              "  content: \")\";\n",
              "}\n",
              "\n",
              ".xr-dim-list li:not(:last-child):after {\n",
              "  content: \",\";\n",
              "  padding-right: 5px;\n",
              "}\n",
              "\n",
              ".xr-has-index {\n",
              "  font-weight: bold;\n",
              "}\n",
              "\n",
              ".xr-var-list,\n",
              ".xr-var-item {\n",
              "  display: contents;\n",
              "}\n",
              "\n",
              ".xr-var-item > div,\n",
              ".xr-var-item label,\n",
              ".xr-var-item > .xr-var-name span {\n",
              "  background-color: var(--xr-background-color-row-even);\n",
              "  border-color: var(--xr-background-color-row-odd);\n",
              "  margin-bottom: 0;\n",
              "  padding-top: 2px;\n",
              "}\n",
              "\n",
              ".xr-var-item > .xr-var-name:hover span {\n",
              "  padding-right: 5px;\n",
              "}\n",
              "\n",
              ".xr-var-list > li:nth-child(odd) > div,\n",
              ".xr-var-list > li:nth-child(odd) > label,\n",
              ".xr-var-list > li:nth-child(odd) > .xr-var-name span {\n",
              "  background-color: var(--xr-background-color-row-odd);\n",
              "  border-color: var(--xr-background-color-row-even);\n",
              "}\n",
              "\n",
              ".xr-var-name {\n",
              "  grid-column: 1;\n",
              "}\n",
              "\n",
              ".xr-var-dims {\n",
              "  grid-column: 2;\n",
              "}\n",
              "\n",
              ".xr-var-dtype {\n",
              "  grid-column: 3;\n",
              "  text-align: right;\n",
              "  color: var(--xr-font-color2);\n",
              "}\n",
              "\n",
              ".xr-var-preview {\n",
              "  grid-column: 4;\n",
              "}\n",
              "\n",
              ".xr-index-preview {\n",
              "  grid-column: 2 / 5;\n",
              "  color: var(--xr-font-color2);\n",
              "}\n",
              "\n",
              ".xr-var-name,\n",
              ".xr-var-dims,\n",
              ".xr-var-dtype,\n",
              ".xr-preview,\n",
              ".xr-attrs dt {\n",
              "  white-space: nowrap;\n",
              "  overflow: hidden;\n",
              "  text-overflow: ellipsis;\n",
              "  padding-right: 10px;\n",
              "}\n",
              "\n",
              ".xr-var-name:hover,\n",
              ".xr-var-dims:hover,\n",
              ".xr-var-dtype:hover,\n",
              ".xr-attrs dt:hover {\n",
              "  overflow: visible;\n",
              "  width: auto;\n",
              "  z-index: 1;\n",
              "}\n",
              "\n",
              ".xr-var-attrs,\n",
              ".xr-var-data,\n",
              ".xr-index-data {\n",
              "  display: none;\n",
              "  border-top: 2px dotted var(--xr-background-color);\n",
              "  padding-bottom: 20px !important;\n",
              "  padding-top: 10px !important;\n",
              "}\n",
              "\n",
              ".xr-var-attrs-in + label,\n",
              ".xr-var-data-in + label,\n",
              ".xr-index-data-in + label {\n",
              "  padding: 0 1px;\n",
              "}\n",
              "\n",
              ".xr-var-attrs-in:checked ~ .xr-var-attrs,\n",
              ".xr-var-data-in:checked ~ .xr-var-data,\n",
              ".xr-index-data-in:checked ~ .xr-index-data {\n",
              "  display: block;\n",
              "}\n",
              "\n",
              ".xr-var-data > table {\n",
              "  float: right;\n",
              "}\n",
              "\n",
              ".xr-var-data > pre,\n",
              ".xr-index-data > pre,\n",
              ".xr-var-data > table > tbody > tr {\n",
              "  background-color: transparent !important;\n",
              "}\n",
              "\n",
              ".xr-var-name span,\n",
              ".xr-var-data,\n",
              ".xr-index-name div,\n",
              ".xr-index-data,\n",
              ".xr-attrs {\n",
              "  padding-left: 25px !important;\n",
              "}\n",
              "\n",
              ".xr-attrs,\n",
              ".xr-var-attrs,\n",
              ".xr-var-data,\n",
              ".xr-index-data {\n",
              "  grid-column: 1 / -1;\n",
              "}\n",
              "\n",
              "dl.xr-attrs {\n",
              "  padding: 0;\n",
              "  margin: 0;\n",
              "  display: grid;\n",
              "  grid-template-columns: 125px auto;\n",
              "}\n",
              "\n",
              ".xr-attrs dt,\n",
              ".xr-attrs dd {\n",
              "  padding: 0;\n",
              "  margin: 0;\n",
              "  float: left;\n",
              "  padding-right: 10px;\n",
              "  width: auto;\n",
              "}\n",
              "\n",
              ".xr-attrs dt {\n",
              "  font-weight: normal;\n",
              "  grid-column: 1;\n",
              "}\n",
              "\n",
              ".xr-attrs dt:hover span {\n",
              "  display: inline-block;\n",
              "  background: var(--xr-background-color);\n",
              "  padding-right: 10px;\n",
              "}\n",
              "\n",
              ".xr-attrs dd {\n",
              "  grid-column: 2;\n",
              "  white-space: pre-wrap;\n",
              "  word-break: break-all;\n",
              "}\n",
              "\n",
              ".xr-icon-database,\n",
              ".xr-icon-file-text2,\n",
              ".xr-no-icon {\n",
              "  display: inline-block;\n",
              "  vertical-align: middle;\n",
              "  width: 1em;\n",
              "  height: 1.5em !important;\n",
              "  stroke-width: 0;\n",
              "  stroke: currentColor;\n",
              "  fill: currentColor;\n",
              "}\n",
              "\n",
              ".xr-var-attrs-in:checked + label > .xr-icon-file-text2,\n",
              ".xr-var-data-in:checked + label > .xr-icon-database,\n",
              ".xr-index-data-in:checked + label > .xr-icon-database {\n",
              "  color: var(--xr-font-color0);\n",
              "  filter: drop-shadow(1px 1px 5px var(--xr-font-color2));\n",
              "  stroke-width: 0.8px;\n",
              "}\n",
              "</style><pre class='xr-text-repr-fallback'>&lt;xarray.Dataset&gt; Size: 449MB\n",
              "Dimensions:      (Time: 27, Longitude: 2160, nv: 2, Latitude: 960)\n",
              "Coordinates:\n",
              "  * Longitude    (Longitude) float32 9kB 0.08333 0.25 0.4167 ... 359.8 359.9\n",
              "  * Latitude     (Latitude) float32 4kB -79.92 -79.75 -79.58 ... 79.75 79.92\n",
              "  * Time         (Time) datetime64[ns] 216B 1993-05-03T12:00:00 ... 2019-05-0...\n",
              "Dimensions without coordinates: nv\n",
              "Data variables:\n",
              "    Lon_bounds   (Time, Longitude, nv) float32 467kB -1.388e-17 0.1667 ... 360.0\n",
              "    Lat_bounds   (Time, Latitude, nv) float32 207kB -80.0 -79.83 ... 79.83 80.0\n",
              "    Time_bounds  (Time, nv) datetime64[ns] 432B 1993-04-03T12:00:00 ... 2019-...\n",
              "    SLA          (Time, Latitude, Longitude) float32 224MB nan nan ... 0.09141\n",
              "    SLA_ERR      (Time, Latitude, Longitude) float32 224MB nan nan ... 0.03657\n",
              "Attributes: (12/21)\n",
              "    Conventions:            CF-1.6\n",
              "    ncei_template_version:  NCEI_NetCDF_Grid_Template_v2.0\n",
              "    Institution:            Jet Propulsion Laboratory\n",
              "    geospatial_lat_min:     -79.916664\n",
              "    geospatial_lat_max:     79.916664\n",
              "    geospatial_lon_min:     0.083333336\n",
              "    ...                     ...\n",
              "    version_number:         2205\n",
              "    Data_Pnts_Each_Sat:     {&quot;16&quot;: 780190, &quot;1001&quot;: 668288}\n",
              "    source_version:         commit dc95db885c920084614a41849ce5a7d417198ef3\n",
              "    SLA_Global_MEAN:        -0.027657876081274502\n",
              "    SLA_Global_STD:         0.0859016072308609\n",
              "    latency:                final</pre><div class='xr-wrap' style='display:none'><div class='xr-header'><div class='xr-obj-type'>xarray.Dataset</div></div><ul class='xr-sections'><li class='xr-section-item'><input id='section-6834defa-2790-495e-b4f3-7de19f5d3fc0' class='xr-section-summary-in' type='checkbox' disabled ><label for='section-6834defa-2790-495e-b4f3-7de19f5d3fc0' class='xr-section-summary'  title='Expand/collapse section'>Dimensions:</label><div class='xr-section-inline-details'><ul class='xr-dim-list'><li><span class='xr-has-index'>Time</span>: 27</li><li><span class='xr-has-index'>Longitude</span>: 2160</li><li><span>nv</span>: 2</li><li><span class='xr-has-index'>Latitude</span>: 960</li></ul></div><div class='xr-section-details'></div></li><li class='xr-section-item'><input id='section-812aedbd-3d42-43a9-b76e-55bad341d597' class='xr-section-summary-in' type='checkbox'  checked><label for='section-812aedbd-3d42-43a9-b76e-55bad341d597' class='xr-section-summary' >Coordinates: <span>(3)</span></label><div class='xr-section-inline-details'></div><div class='xr-section-details'><ul class='xr-var-list'><li class='xr-var-item'><div class='xr-var-name'><span class='xr-has-index'>Longitude</span></div><div class='xr-var-dims'>(Longitude)</div><div class='xr-var-dtype'>float32</div><div class='xr-var-preview xr-preview'>0.08333 0.25 0.4167 ... 359.8 359.9</div><input id='attrs-a8ac8bc0-ab90-4faa-b0b5-5f7c3928c773' class='xr-var-attrs-in' type='checkbox' ><label for='attrs-a8ac8bc0-ab90-4faa-b0b5-5f7c3928c773' title='Show/Hide attributes'><svg class='icon xr-icon-file-text2'><use xlink:href='#icon-file-text2'></use></svg></label><input id='data-6ac32ba7-cd09-4061-aa87-0263ceb80335' class='xr-var-data-in' type='checkbox'><label for='data-6ac32ba7-cd09-4061-aa87-0263ceb80335' title='Show/Hide data repr'><svg class='icon xr-icon-database'><use xlink:href='#icon-database'></use></svg></label><div class='xr-var-attrs'><dl class='xr-attrs'><dt><span>standard_name :</span></dt><dd>longitude</dd><dt><span>units :</span></dt><dd>degrees_east</dd><dt><span>point_spacing :</span></dt><dd>even</dd><dt><span>long_name :</span></dt><dd>longitude</dd><dt><span>axis :</span></dt><dd>X</dd><dt><span>bounds :</span></dt><dd>Lon_bounds</dd></dl></div><div class='xr-var-data'><pre>array([8.333334e-02, 2.500000e-01, 4.166667e-01, ..., 3.595833e+02,\n",
              "       3.597500e+02, 3.599167e+02], dtype=float32)</pre></div></li><li class='xr-var-item'><div class='xr-var-name'><span class='xr-has-index'>Latitude</span></div><div class='xr-var-dims'>(Latitude)</div><div class='xr-var-dtype'>float32</div><div class='xr-var-preview xr-preview'>-79.92 -79.75 ... 79.75 79.92</div><input id='attrs-7414de2c-8639-447d-b1a0-9ffab386ff53' class='xr-var-attrs-in' type='checkbox' ><label for='attrs-7414de2c-8639-447d-b1a0-9ffab386ff53' title='Show/Hide attributes'><svg class='icon xr-icon-file-text2'><use xlink:href='#icon-file-text2'></use></svg></label><input id='data-d7cab7f1-c063-430b-b9fa-8adbb36e14e7' class='xr-var-data-in' type='checkbox'><label for='data-d7cab7f1-c063-430b-b9fa-8adbb36e14e7' title='Show/Hide data repr'><svg class='icon xr-icon-database'><use xlink:href='#icon-database'></use></svg></label><div class='xr-var-attrs'><dl class='xr-attrs'><dt><span>standard_name :</span></dt><dd>latitude</dd><dt><span>units :</span></dt><dd>degrees_north</dd><dt><span>point_spacing :</span></dt><dd>even</dd><dt><span>long_name :</span></dt><dd>latitude</dd><dt><span>axis :</span></dt><dd>Y</dd><dt><span>bounds :</span></dt><dd>Lat_bounds</dd></dl></div><div class='xr-var-data'><pre>array([-79.916664, -79.75    , -79.583336, ...,  79.583336,  79.75    ,\n",
              "        79.916664], dtype=float32)</pre></div></li><li class='xr-var-item'><div class='xr-var-name'><span class='xr-has-index'>Time</span></div><div class='xr-var-dims'>(Time)</div><div class='xr-var-dtype'>datetime64[ns]</div><div class='xr-var-preview xr-preview'>1993-05-03T12:00:00 ... 2019-05-...</div><input id='attrs-0d483058-941b-4ee0-9cf0-cb14070f6cf7' class='xr-var-attrs-in' type='checkbox' ><label for='attrs-0d483058-941b-4ee0-9cf0-cb14070f6cf7' title='Show/Hide attributes'><svg class='icon xr-icon-file-text2'><use xlink:href='#icon-file-text2'></use></svg></label><input id='data-980ddcc1-48dd-4736-b436-1e7f49b17423' class='xr-var-data-in' type='checkbox'><label for='data-980ddcc1-48dd-4736-b436-1e7f49b17423' title='Show/Hide data repr'><svg class='icon xr-icon-database'><use xlink:href='#icon-database'></use></svg></label><div class='xr-var-attrs'><dl class='xr-attrs'><dt><span>standard_name :</span></dt><dd>time</dd><dt><span>long_name :</span></dt><dd>Time</dd><dt><span>bounds :</span></dt><dd>Time_bounds</dd><dt><span>axis :</span></dt><dd>T</dd></dl></div><div class='xr-var-data'><pre>array([&#x27;1993-05-03T12:00:00.000000000&#x27;, &#x27;1994-05-03T12:00:00.000000000&#x27;,\n",
              "       &#x27;1995-05-03T12:00:00.000000000&#x27;, &#x27;1996-05-02T12:00:00.000000000&#x27;,\n",
              "       &#x27;1997-05-02T12:00:00.000000000&#x27;, &#x27;1998-05-02T12:00:00.000000000&#x27;,\n",
              "       &#x27;1999-05-02T12:00:00.000000000&#x27;, &#x27;2000-05-01T12:00:00.000000000&#x27;,\n",
              "       &#x27;2001-05-01T12:00:00.000000000&#x27;, &#x27;2002-05-01T12:00:00.000000000&#x27;,\n",
              "       &#x27;2003-05-01T12:00:00.000000000&#x27;, &#x27;2004-05-05T12:00:00.000000000&#x27;,\n",
              "       &#x27;2005-05-05T12:00:00.000000000&#x27;, &#x27;2006-05-05T12:00:00.000000000&#x27;,\n",
              "       &#x27;2007-05-05T12:00:00.000000000&#x27;, &#x27;2008-05-04T12:00:00.000000000&#x27;,\n",
              "       &#x27;2009-05-04T12:00:00.000000000&#x27;, &#x27;2010-05-04T12:00:00.000000000&#x27;,\n",
              "       &#x27;2011-05-04T12:00:00.000000000&#x27;, &#x27;2012-05-03T12:00:00.000000000&#x27;,\n",
              "       &#x27;2013-05-03T12:00:00.000000000&#x27;, &#x27;2014-05-03T12:00:00.000000000&#x27;,\n",
              "       &#x27;2015-05-03T12:00:00.000000000&#x27;, &#x27;2016-05-02T12:00:00.000000000&#x27;,\n",
              "       &#x27;2017-05-02T12:00:00.000000000&#x27;, &#x27;2018-05-02T12:00:00.000000000&#x27;,\n",
              "       &#x27;2019-05-02T12:00:00.000000000&#x27;], dtype=&#x27;datetime64[ns]&#x27;)</pre></div></li></ul></div></li><li class='xr-section-item'><input id='section-9cf5aeaf-286b-4138-93e0-16ca501573f0' class='xr-section-summary-in' type='checkbox'  checked><label for='section-9cf5aeaf-286b-4138-93e0-16ca501573f0' class='xr-section-summary' >Data variables: <span>(5)</span></label><div class='xr-section-inline-details'></div><div class='xr-section-details'><ul class='xr-var-list'><li class='xr-var-item'><div class='xr-var-name'><span>Lon_bounds</span></div><div class='xr-var-dims'>(Time, Longitude, nv)</div><div class='xr-var-dtype'>float32</div><div class='xr-var-preview xr-preview'>-1.388e-17 0.1667 ... 359.8 360.0</div><input id='attrs-e038e4ee-65ae-4bdb-9967-25f9113ed201' class='xr-var-attrs-in' type='checkbox' ><label for='attrs-e038e4ee-65ae-4bdb-9967-25f9113ed201' title='Show/Hide attributes'><svg class='icon xr-icon-file-text2'><use xlink:href='#icon-file-text2'></use></svg></label><input id='data-eb8a4049-6c88-4f80-ac6c-97b0f4963ec1' class='xr-var-data-in' type='checkbox'><label for='data-eb8a4049-6c88-4f80-ac6c-97b0f4963ec1' title='Show/Hide data repr'><svg class='icon xr-icon-database'><use xlink:href='#icon-database'></use></svg></label><div class='xr-var-attrs'><dl class='xr-attrs'><dt><span>units :</span></dt><dd>degrees_east</dd><dt><span>comment :</span></dt><dd>longitude values at the west and east bounds of each pixel.</dd></dl></div><div class='xr-var-data'><pre>array([[[-1.3877788e-17,  1.6666667e-01],\n",
              "        [ 1.6666667e-01,  3.3333334e-01],\n",
              "        [ 3.3333334e-01,  5.0000000e-01],\n",
              "        ...,\n",
              "        [ 3.5950000e+02,  3.5966666e+02],\n",
              "        [ 3.5966666e+02,  3.5983334e+02],\n",
              "        [ 3.5983334e+02,  3.6000000e+02]],\n",
              "\n",
              "       [[-1.3877788e-17,  1.6666667e-01],\n",
              "        [ 1.6666667e-01,  3.3333334e-01],\n",
              "        [ 3.3333334e-01,  5.0000000e-01],\n",
              "        ...,\n",
              "        [ 3.5950000e+02,  3.5966666e+02],\n",
              "        [ 3.5966666e+02,  3.5983334e+02],\n",
              "        [ 3.5983334e+02,  3.6000000e+02]],\n",
              "\n",
              "       [[-1.3877788e-17,  1.6666667e-01],\n",
              "        [ 1.6666667e-01,  3.3333334e-01],\n",
              "        [ 3.3333334e-01,  5.0000000e-01],\n",
              "        ...,\n",
              "...\n",
              "        ...,\n",
              "        [ 3.5950000e+02,  3.5966666e+02],\n",
              "        [ 3.5966666e+02,  3.5983334e+02],\n",
              "        [ 3.5983334e+02,  3.6000000e+02]],\n",
              "\n",
              "       [[-1.3877788e-17,  1.6666667e-01],\n",
              "        [ 1.6666667e-01,  3.3333334e-01],\n",
              "        [ 3.3333334e-01,  5.0000000e-01],\n",
              "        ...,\n",
              "        [ 3.5950000e+02,  3.5966666e+02],\n",
              "        [ 3.5966666e+02,  3.5983334e+02],\n",
              "        [ 3.5983334e+02,  3.6000000e+02]],\n",
              "\n",
              "       [[-1.3877788e-17,  1.6666667e-01],\n",
              "        [ 1.6666667e-01,  3.3333334e-01],\n",
              "        [ 3.3333334e-01,  5.0000000e-01],\n",
              "        ...,\n",
              "        [ 3.5950000e+02,  3.5966666e+02],\n",
              "        [ 3.5966666e+02,  3.5983334e+02],\n",
              "        [ 3.5983334e+02,  3.6000000e+02]]], dtype=float32)</pre></div></li><li class='xr-var-item'><div class='xr-var-name'><span>Lat_bounds</span></div><div class='xr-var-dims'>(Time, Latitude, nv)</div><div class='xr-var-dtype'>float32</div><div class='xr-var-preview xr-preview'>-80.0 -79.83 -79.83 ... 79.83 80.0</div><input id='attrs-aa9ea851-582d-4182-89ae-293c649f1e10' class='xr-var-attrs-in' type='checkbox' ><label for='attrs-aa9ea851-582d-4182-89ae-293c649f1e10' title='Show/Hide attributes'><svg class='icon xr-icon-file-text2'><use xlink:href='#icon-file-text2'></use></svg></label><input id='data-1bdadfeb-359d-43cc-8fbd-19f269b0107f' class='xr-var-data-in' type='checkbox'><label for='data-1bdadfeb-359d-43cc-8fbd-19f269b0107f' title='Show/Hide data repr'><svg class='icon xr-icon-database'><use xlink:href='#icon-database'></use></svg></label><div class='xr-var-attrs'><dl class='xr-attrs'><dt><span>units :</span></dt><dd>degrees_north</dd><dt><span>comment :</span></dt><dd>latitude values at the north and south bounds of each pixel.</dd></dl></div><div class='xr-var-data'><pre>array([[[-80.      , -79.833336],\n",
              "        [-79.833336, -79.666664],\n",
              "        [-79.666664, -79.5     ],\n",
              "        ...,\n",
              "        [ 79.5     ,  79.666664],\n",
              "        [ 79.666664,  79.833336],\n",
              "        [ 79.833336,  80.      ]],\n",
              "\n",
              "       [[-80.      , -79.833336],\n",
              "        [-79.833336, -79.666664],\n",
              "        [-79.666664, -79.5     ],\n",
              "        ...,\n",
              "        [ 79.5     ,  79.666664],\n",
              "        [ 79.666664,  79.833336],\n",
              "        [ 79.833336,  80.      ]],\n",
              "\n",
              "       [[-80.      , -79.833336],\n",
              "        [-79.833336, -79.666664],\n",
              "        [-79.666664, -79.5     ],\n",
              "        ...,\n",
              "...\n",
              "        ...,\n",
              "        [ 79.5     ,  79.666664],\n",
              "        [ 79.666664,  79.833336],\n",
              "        [ 79.833336,  80.      ]],\n",
              "\n",
              "       [[-80.      , -79.833336],\n",
              "        [-79.833336, -79.666664],\n",
              "        [-79.666664, -79.5     ],\n",
              "        ...,\n",
              "        [ 79.5     ,  79.666664],\n",
              "        [ 79.666664,  79.833336],\n",
              "        [ 79.833336,  80.      ]],\n",
              "\n",
              "       [[-80.      , -79.833336],\n",
              "        [-79.833336, -79.666664],\n",
              "        [-79.666664, -79.5     ],\n",
              "        ...,\n",
              "        [ 79.5     ,  79.666664],\n",
              "        [ 79.666664,  79.833336],\n",
              "        [ 79.833336,  80.      ]]], dtype=float32)</pre></div></li><li class='xr-var-item'><div class='xr-var-name'><span>Time_bounds</span></div><div class='xr-var-dims'>(Time, nv)</div><div class='xr-var-dtype'>datetime64[ns]</div><div class='xr-var-preview xr-preview'>1993-04-03T12:00:00 ... 2019-06-...</div><input id='attrs-160fdfaf-fe43-404b-a663-662e0e7b43f7' class='xr-var-attrs-in' type='checkbox' ><label for='attrs-160fdfaf-fe43-404b-a663-662e0e7b43f7' title='Show/Hide attributes'><svg class='icon xr-icon-file-text2'><use xlink:href='#icon-file-text2'></use></svg></label><input id='data-25ebcff2-3073-4c71-840c-8c078bcc5510' class='xr-var-data-in' type='checkbox'><label for='data-25ebcff2-3073-4c71-840c-8c078bcc5510' title='Show/Hide data repr'><svg class='icon xr-icon-database'><use xlink:href='#icon-database'></use></svg></label><div class='xr-var-attrs'><dl class='xr-attrs'><dt><span>comment :</span></dt><dd>Time bounds for each time value, same value as time variable. The time variable is defined on points instead of on bounding boxes.</dd></dl></div><div class='xr-var-data'><pre>array([[&#x27;1993-04-03T12:00:00.000000000&#x27;, &#x27;1993-06-02T12:00:00.000000000&#x27;],\n",
              "       [&#x27;1994-04-03T12:00:00.000000000&#x27;, &#x27;1994-06-02T12:00:00.000000000&#x27;],\n",
              "       [&#x27;1995-04-03T12:00:00.000000000&#x27;, &#x27;1995-06-02T12:00:00.000000000&#x27;],\n",
              "       [&#x27;1996-04-02T12:00:00.000000000&#x27;, &#x27;1996-06-01T12:00:00.000000000&#x27;],\n",
              "       [&#x27;1997-04-02T12:00:00.000000000&#x27;, &#x27;1997-06-01T12:00:00.000000000&#x27;],\n",
              "       [&#x27;1998-04-02T12:00:00.000000000&#x27;, &#x27;1998-06-01T12:00:00.000000000&#x27;],\n",
              "       [&#x27;1999-04-02T12:00:00.000000000&#x27;, &#x27;1999-06-01T12:00:00.000000000&#x27;],\n",
              "       [&#x27;2000-04-01T12:00:00.000000000&#x27;, &#x27;2000-05-31T12:00:00.000000000&#x27;],\n",
              "       [&#x27;2001-04-01T12:00:00.000000000&#x27;, &#x27;2001-05-31T12:00:00.000000000&#x27;],\n",
              "       [&#x27;2002-04-01T12:00:00.000000000&#x27;, &#x27;2002-05-31T12:00:00.000000000&#x27;],\n",
              "       [&#x27;2003-04-01T12:00:00.000000000&#x27;, &#x27;2003-05-31T12:00:00.000000000&#x27;],\n",
              "       [&#x27;2004-04-05T12:00:00.000000000&#x27;, &#x27;2004-06-04T12:00:00.000000000&#x27;],\n",
              "       [&#x27;2005-04-05T12:00:00.000000000&#x27;, &#x27;2005-06-04T12:00:00.000000000&#x27;],\n",
              "       [&#x27;2006-04-05T12:00:00.000000000&#x27;, &#x27;2006-06-04T12:00:00.000000000&#x27;],\n",
              "       [&#x27;2007-04-05T12:00:00.000000000&#x27;, &#x27;2007-06-04T12:00:00.000000000&#x27;],\n",
              "       [&#x27;2008-04-04T12:00:00.000000000&#x27;, &#x27;2008-06-03T12:00:00.000000000&#x27;],\n",
              "       [&#x27;2009-04-04T12:00:00.000000000&#x27;, &#x27;2009-06-03T12:00:00.000000000&#x27;],\n",
              "       [&#x27;2010-04-04T12:00:00.000000000&#x27;, &#x27;2010-06-03T12:00:00.000000000&#x27;],\n",
              "       [&#x27;2011-04-04T12:00:00.000000000&#x27;, &#x27;2011-06-03T12:00:00.000000000&#x27;],\n",
              "       [&#x27;2012-04-03T12:00:00.000000000&#x27;, &#x27;2012-06-02T12:00:00.000000000&#x27;],\n",
              "       [&#x27;2013-04-03T12:00:00.000000000&#x27;, &#x27;2013-06-02T12:00:00.000000000&#x27;],\n",
              "       [&#x27;2014-04-03T12:00:00.000000000&#x27;, &#x27;2014-06-02T12:00:00.000000000&#x27;],\n",
              "       [&#x27;2015-04-03T12:00:00.000000000&#x27;, &#x27;2015-06-02T12:00:00.000000000&#x27;],\n",
              "       [&#x27;2016-04-02T12:00:00.000000000&#x27;, &#x27;2016-06-01T12:00:00.000000000&#x27;],\n",
              "       [&#x27;2017-04-02T12:00:00.000000000&#x27;, &#x27;2017-06-01T12:00:00.000000000&#x27;],\n",
              "       [&#x27;2018-04-02T12:00:00.000000000&#x27;, &#x27;2018-06-01T12:00:00.000000000&#x27;],\n",
              "       [&#x27;2019-04-02T12:00:00.000000000&#x27;, &#x27;2019-06-01T12:00:00.000000000&#x27;]],\n",
              "      dtype=&#x27;datetime64[ns]&#x27;)</pre></div></li><li class='xr-var-item'><div class='xr-var-name'><span>SLA</span></div><div class='xr-var-dims'>(Time, Latitude, Longitude)</div><div class='xr-var-dtype'>float32</div><div class='xr-var-preview xr-preview'>nan nan nan ... 0.09139 0.09141</div><input id='attrs-2f2f110e-82b9-484b-a6b3-ec5a76bec88c' class='xr-var-attrs-in' type='checkbox' ><label for='attrs-2f2f110e-82b9-484b-a6b3-ec5a76bec88c' title='Show/Hide attributes'><svg class='icon xr-icon-file-text2'><use xlink:href='#icon-file-text2'></use></svg></label><input id='data-e445af0a-4c66-46c9-b942-e498e48dd08f' class='xr-var-data-in' type='checkbox'><label for='data-e445af0a-4c66-46c9-b942-e498e48dd08f' title='Show/Hide data repr'><svg class='icon xr-icon-database'><use xlink:href='#icon-database'></use></svg></label><div class='xr-var-attrs'><dl class='xr-attrs'><dt><span>units :</span></dt><dd>m</dd><dt><span>long_name :</span></dt><dd>Sea Level Anomaly Estimate</dd><dt><span>standard_name :</span></dt><dd>sea_surface_height_above_sea_level</dd><dt><span>alias :</span></dt><dd>sea_surface_height_above_sea_level</dd></dl></div><div class='xr-var-data'><pre>array([[[        nan,         nan,         nan, ...,         nan,\n",
              "                 nan,         nan],\n",
              "        [        nan,         nan,         nan, ...,         nan,\n",
              "                 nan,         nan],\n",
              "        [        nan,         nan,         nan, ...,         nan,\n",
              "                 nan,         nan],\n",
              "        ...,\n",
              "        [-0.04771114, -0.04797981, -0.04827051, ..., -0.0462181 ,\n",
              "         -0.04642408, -0.04665172],\n",
              "        [-0.04700239, -0.04714178, -0.04729692, ..., -0.04587033,\n",
              "         -0.04596423, -0.04607358],\n",
              "        [-0.046944  , -0.04699214, -0.04705105, ..., -0.04607028,\n",
              "         -0.04608663, -0.04611351]],\n",
              "\n",
              "       [[        nan,         nan,         nan, ...,         nan,\n",
              "                 nan,         nan],\n",
              "        [        nan,         nan,         nan, ...,         nan,\n",
              "                 nan,         nan],\n",
              "        [        nan,         nan,         nan, ...,         nan,\n",
              "                 nan,         nan],\n",
              "...\n",
              "        [ 0.06235907,  0.06271009,  0.06304069, ...,  0.06069024,\n",
              "          0.06105763,  0.06144253],\n",
              "        [ 0.0695594 ,  0.06988122,  0.07015884, ...,  0.06766381,\n",
              "          0.06807756,  0.06847982],\n",
              "        [ 0.07365382,  0.07389716,  0.07408846, ...,  0.07178026,\n",
              "          0.07214988,  0.07249197]],\n",
              "\n",
              "       [[        nan,         nan,         nan, ...,         nan,\n",
              "                 nan,         nan],\n",
              "        [        nan,         nan,         nan, ...,         nan,\n",
              "                 nan,         nan],\n",
              "        [        nan,         nan,         nan, ...,         nan,\n",
              "                 nan,         nan],\n",
              "        ...,\n",
              "        [ 0.09146878,  0.09135201,  0.09120496, ...,  0.09212678,\n",
              "          0.09208792,  0.09202415],\n",
              "        [ 0.0913851 ,  0.09131812,  0.09122466, ...,  0.09191234,\n",
              "          0.09191445,  0.09189463],\n",
              "        [ 0.09095174,  0.09093419,  0.09089543, ...,  0.09135184,\n",
              "          0.09139038,  0.09141121]]], dtype=float32)</pre></div></li><li class='xr-var-item'><div class='xr-var-name'><span>SLA_ERR</span></div><div class='xr-var-dims'>(Time, Latitude, Longitude)</div><div class='xr-var-dtype'>float32</div><div class='xr-var-preview xr-preview'>nan nan nan ... 0.03657 0.03657</div><input id='attrs-85191ee1-8429-47dd-bbe7-21f802e81299' class='xr-var-attrs-in' type='checkbox' ><label for='attrs-85191ee1-8429-47dd-bbe7-21f802e81299' title='Show/Hide attributes'><svg class='icon xr-icon-file-text2'><use xlink:href='#icon-file-text2'></use></svg></label><input id='data-a1cbbe1b-d4ad-414b-a801-c8f05f3594a5' class='xr-var-data-in' type='checkbox'><label for='data-a1cbbe1b-d4ad-414b-a801-c8f05f3594a5' title='Show/Hide data repr'><svg class='icon xr-icon-database'><use xlink:href='#icon-database'></use></svg></label><div class='xr-var-attrs'><dl class='xr-attrs'><dt><span>units :</span></dt><dd>m</dd><dt><span>long_name :</span></dt><dd>Sea Level Anomaly Error Estimate</dd></dl></div><div class='xr-var-data'><pre>array([[[       nan,        nan,        nan, ...,        nan,\n",
              "                nan,        nan],\n",
              "        [       nan,        nan,        nan, ...,        nan,\n",
              "                nan,        nan],\n",
              "        [       nan,        nan,        nan, ...,        nan,\n",
              "                nan,        nan],\n",
              "        ...,\n",
              "        [0.03657674, 0.03655331, 0.03652634, ..., 0.03661888,\n",
              "         0.03660406, 0.03658666],\n",
              "        [0.03662456, 0.03661226, 0.03659815, ..., 0.03664169,\n",
              "         0.03663386, 0.03662468],\n",
              "        [0.03665186, 0.03664661, 0.0366406 , ..., 0.03665278,\n",
              "         0.03664945, 0.03664554]],\n",
              "\n",
              "       [[       nan,        nan,        nan, ...,        nan,\n",
              "                nan,        nan],\n",
              "        [       nan,        nan,        nan, ...,        nan,\n",
              "                nan,        nan],\n",
              "        [       nan,        nan,        nan, ...,        nan,\n",
              "                nan,        nan],\n",
              "...\n",
              "        [0.02852463, 0.02805691, 0.02758197, ..., 0.02985008,\n",
              "         0.02940858, 0.02895841],\n",
              "        [0.03142154, 0.03108706, 0.03074211, ..., 0.03233304,\n",
              "         0.03203131, 0.0317187 ],\n",
              "        [0.03360435, 0.03338382, 0.03315268, ..., 0.0341785 ,\n",
              "         0.03398844, 0.03378832]],\n",
              "\n",
              "       [[       nan,        nan,        nan, ...,        nan,\n",
              "                nan,        nan],\n",
              "        [       nan,        nan,        nan, ...,        nan,\n",
              "                nan,        nan],\n",
              "        [       nan,        nan,        nan, ...,        nan,\n",
              "                nan,        nan],\n",
              "        ...,\n",
              "        [0.03655359, 0.03654371, 0.03653181, ..., 0.03654741,\n",
              "         0.03654169, 0.03653486],\n",
              "        [0.03659857, 0.03659486, 0.0365899 , ..., 0.03657736,\n",
              "         0.03657613, 0.03657426],\n",
              "        [0.03659759, 0.03659663, 0.03659504, ..., 0.03657119,\n",
              "         0.03657133, 0.03657121]]], dtype=float32)</pre></div></li></ul></div></li><li class='xr-section-item'><input id='section-bbe912ea-56e0-4ae8-bf11-60553f1874f2' class='xr-section-summary-in' type='checkbox'  ><label for='section-bbe912ea-56e0-4ae8-bf11-60553f1874f2' class='xr-section-summary' >Attributes: <span>(21)</span></label><div class='xr-section-inline-details'></div><div class='xr-section-details'><dl class='xr-attrs'><dt><span>Conventions :</span></dt><dd>CF-1.6</dd><dt><span>ncei_template_version :</span></dt><dd>NCEI_NetCDF_Grid_Template_v2.0</dd><dt><span>Institution :</span></dt><dd>Jet Propulsion Laboratory</dd><dt><span>geospatial_lat_min :</span></dt><dd>-79.916664</dd><dt><span>geospatial_lat_max :</span></dt><dd>79.916664</dd><dt><span>geospatial_lon_min :</span></dt><dd>0.083333336</dd><dt><span>geospatial_lon_max :</span></dt><dd>359.91666</dd><dt><span>time_coverage_start :</span></dt><dd>1993-05-03</dd><dt><span>time_coverage_end :</span></dt><dd>1993-05-03</dd><dt><span>date_created :</span></dt><dd>2022-10-30T20:40:50.716092</dd><dt><span>title :</span></dt><dd>Sea Level Anomaly Estimate based on Altimeter Data, final product (replaced interim version).</dd><dt><span>short_name :</span></dt><dd>SEA_SURFACE_HEIGHT_ALT_GRIDS_L4_2SATS_5DAY_6THDEG_V_JPL2205</dd><dt><span>long_name :</span></dt><dd>MEaSUREs Gridded Sea Surface Height Anomalies Version 2205</dd><dt><span>summary :</span></dt><dd>Sea level anomaly grids from altimeter data using Kriging interpolation, which gives best linear prediction based upon prior knowledge of covariance. </dd><dt><span>DOI :</span></dt><dd>10.5067/SLREF-CDRV3</dd><dt><span>version_number :</span></dt><dd>2205</dd><dt><span>Data_Pnts_Each_Sat :</span></dt><dd>{&quot;16&quot;: 780190, &quot;1001&quot;: 668288}</dd><dt><span>source_version :</span></dt><dd>commit dc95db885c920084614a41849ce5a7d417198ef3</dd><dt><span>SLA_Global_MEAN :</span></dt><dd>-0.027657876081274502</dd><dt><span>SLA_Global_STD :</span></dt><dd>0.0859016072308609</dd><dt><span>latency :</span></dt><dd>final</dd></dl></div></li></ul></div></div>"
            ],
            "text/plain": [
              "<xarray.Dataset> Size: 449MB\n",
              "Dimensions:      (Time: 27, Longitude: 2160, nv: 2, Latitude: 960)\n",
              "Coordinates:\n",
              "  * Longitude    (Longitude) float32 9kB 0.08333 0.25 0.4167 ... 359.8 359.9\n",
              "  * Latitude     (Latitude) float32 4kB -79.92 -79.75 -79.58 ... 79.75 79.92\n",
              "  * Time         (Time) datetime64[ns] 216B 1993-05-03T12:00:00 ... 2019-05-0...\n",
              "Dimensions without coordinates: nv\n",
              "Data variables:\n",
              "    Lon_bounds   (Time, Longitude, nv) float32 467kB -1.388e-17 0.1667 ... 360.0\n",
              "    Lat_bounds   (Time, Latitude, nv) float32 207kB -80.0 -79.83 ... 79.83 80.0\n",
              "    Time_bounds  (Time, nv) datetime64[ns] 432B 1993-04-03T12:00:00 ... 2019-...\n",
              "    SLA          (Time, Latitude, Longitude) float32 224MB nan nan ... 0.09141\n",
              "    SLA_ERR      (Time, Latitude, Longitude) float32 224MB nan nan ... 0.03657\n",
              "Attributes: (12/21)\n",
              "    Conventions:            CF-1.6\n",
              "    ncei_template_version:  NCEI_NetCDF_Grid_Template_v2.0\n",
              "    Institution:            Jet Propulsion Laboratory\n",
              "    geospatial_lat_min:     -79.916664\n",
              "    geospatial_lat_max:     79.916664\n",
              "    geospatial_lon_min:     0.083333336\n",
              "    ...                     ...\n",
              "    version_number:         2205\n",
              "    Data_Pnts_Each_Sat:     {\"16\": 780190, \"1001\": 668288}\n",
              "    source_version:         commit dc95db885c920084614a41849ce5a7d417198ef3\n",
              "    SLA_Global_MEAN:        -0.027657876081274502\n",
              "    SLA_Global_STD:         0.0859016072308609\n",
              "    latency:                final"
            ]
          },
          "execution_count": 6,
          "metadata": {},
          "output_type": "execute_result"
        }
      ],
      "source": [
        "%%time\n",
        "\n",
        "def open_file(file):\n",
        "    ds = xr.open_dataset(file)\n",
        "    # we can modify here\n",
        "    return ds\n",
        "\n",
        "ds_list = pqdm(earthaccess.open(granules), open_file, n_jobs=8)\n",
        "\n",
        "ds_SSH = xr.concat(ds_list, dim=\"Time\")\n",
        "ds_SSH"
      ]
    },
    {
      "cell_type": "markdown",
      "id": "fef71dee-8b6e-48a8-9e16-c2bafc1475e9",
      "metadata": {
        "id": "fef71dee-8b6e-48a8-9e16-c2bafc1475e9",
        "tags": [],
        "user_expressions": []
      },
      "source": [
        "## Plot Sea Level Anomalies"
      ]
    },
    {
      "cell_type": "code",
      "execution_count": 8,
      "id": "ba2dfa26-d1dc-4003-bada-08150f78cd97",
      "metadata": {
        "id": "ba2dfa26-d1dc-4003-bada-08150f78cd97",
        "tags": []
      },
      "outputs": [
        {
          "name": "stdout",
          "output_type": "stream",
          "text": [
            "CPU times: user 36.4 ms, sys: 0 ns, total: 36.4 ms\n",
            "Wall time: 36 ms\n"
          ]
        },
        {
          "data": {
            "application/vnd.jupyter.widget-view+json": {
              "model_id": "c125da35b57f4a87b4d5baadcf8c7a87",
              "version_major": 2,
              "version_minor": 0
            },
            "text/plain": [
              "BokehModel(combine_events=True, render_bundle={'docs_json': {'92ed3618-8cb6-4ce5-bb81-16d1dbfdb9ad': {'version…"
            ]
          },
          "execution_count": 8,
          "metadata": {},
          "output_type": "execute_result"
        }
      ],
      "source": [
        "%%time\n",
        "\n",
        "time = pnw.Player(name='Time', start=0, end=len(ds_SSH.Time)-1, loop_policy='loop', interval=1000)\n",
        "\n",
        "ds_SSH.SLA.interactive(loc='bottom', aspect=\"equal\").isel(Time=time).hvplot(cmap=\"inferno\", data_aspect=1)"
      ]
    },
    {
      "cell_type": "markdown",
      "id": "a8c6f0da-a12e-4a7c-b5ba-72d3f06959aa",
      "metadata": {
        "id": "a8c6f0da-a12e-4a7c-b5ba-72d3f06959aa"
      },
      "source": [
        "## Recreate the Sea Level Rise Infographic\n",
        "First, we define a function that will calculate the area in 1/6 by 1/6 degree boxes in order to calculate the global mean of the SSH later."
      ]
    },
    {
      "cell_type": "code",
      "execution_count": 9,
      "id": "8af24cab-7d21-452c-bb6c-80f3134c099c",
      "metadata": {
        "id": "8af24cab-7d21-452c-bb6c-80f3134c099c",
        "tags": []
      },
      "outputs": [],
      "source": [
        "def ssl_area(lats):\n",
        "    \"\"\"\n",
        "    Calculate the area associated with a 1/6 by 1/6 degree box at latitude specified in 'lats'.\n",
        "\n",
        "    Parameter\n",
        "    ==========\n",
        "    lats: a list or numpy array of size N the latitudes of interest.\n",
        "\n",
        "    Return\n",
        "    =======\n",
        "    out: Array (N) area values (unit: m^2)\n",
        "    \"\"\"\n",
        "    # Define WGS84 as CRS:\n",
        "    geod = Geod(ellps='WGS84')\n",
        "    dx=1/12.0\n",
        "    # create a lambda function for calculating the perimeters of the boxes\n",
        "    c_area=lambda lat: geod.polygon_area_perimeter(np.r_[-dx,dx,dx,-dx], lat+np.r_[-dx,-dx,dx,dx])[0]\n",
        "    out=[]\n",
        "    for lat in lats:\n",
        "        out.append(c_area(lat))\n",
        "    return np.array(out)"
      ]
    },
    {
      "cell_type": "markdown",
      "id": "85a82f6e-eee1-43b2-99fb-3d61ed038977",
      "metadata": {
        "id": "85a82f6e-eee1-43b2-99fb-3d61ed038977"
      },
      "source": [
        "Let's use the function on our Sea Surface Height dataset."
      ]
    },
    {
      "cell_type": "code",
      "execution_count": 10,
      "id": "13160cf9-07c9-4585-a8a8-8b344a4c0444",
      "metadata": {
        "id": "13160cf9-07c9-4585-a8a8-8b344a4c0444",
        "tags": []
      },
      "outputs": [
        {
          "name": "stdout",
          "output_type": "stream",
          "text": [
            "(960, 1)\n"
          ]
        }
      ],
      "source": [
        "# note: they rotated the data in the last release, this operation used to be (1,-1)\n",
        "ssh_area = ssl_area(ds_SSH.Latitude.data).reshape(-1,1)\n",
        "print(ssh_area.shape)"
      ]
    },
    {
      "cell_type": "markdown",
      "id": "c4cea29a-f7fd-4606-b65c-bdb58de3f346",
      "metadata": {
        "id": "c4cea29a-f7fd-4606-b65c-bdb58de3f346"
      },
      "source": [
        "Next, we find and open the historic record dataset also using `earthaccess` and `xarray`."
      ]
    },
    {
      "cell_type": "code",
      "execution_count": 15,
      "id": "50fb06b0-91dc-46cc-b7a9-1e367b5e42ad",
      "metadata": {
        "id": "50fb06b0-91dc-46cc-b7a9-1e367b5e42ad",
        "tags": []
      },
      "outputs": [
        {
          "name": "stderr",
          "output_type": "stream",
          "text": [
            "INFO:earthaccess.api:Granules found: 1\n",
            "INFO:earthaccess.store:Opening 1 granules, approx size: 0.0 GB\n",
            "QUEUEING TASKS | : 100%|██████████| 1/1 [00:00<00:00, 3953.16it/s]\n",
            "PROCESSING TASKS | : 100%|██████████| 1/1 [00:04<00:00,  4.09s/it]\n",
            "COLLECTING RESULTS | : 100%|██████████| 1/1 [00:00<00:00, 42799.02it/s]\n",
            "INFO:fsspec:BlockCache fetching block (sync) 0\n",
            "INFO:fsspec:BlockCache fetching block (async) 1\n",
            "INFO:fsspec:BlockCache joined background fetch without waiting.\n"
          ]
        },
        {
          "ename": "ImportError",
          "evalue": "chunk manager 'dask' is not available. Please make sure 'dask' is installed and importable.",
          "output_type": "error",
          "traceback": [
            "\u001b[31m---------------------------------------------------------------------------\u001b[39m",
            "\u001b[31mImportError\u001b[39m                               Traceback (most recent call last)",
            "\u001b[36mCell\u001b[39m\u001b[36m \u001b[39m\u001b[32mIn[15]\u001b[39m\u001b[32m, line 2\u001b[39m\n\u001b[32m      1\u001b[39m historic_ts_results = earthaccess.search_data(short_name=\u001b[33m'\u001b[39m\u001b[33mJPL_RECON_GMSL\u001b[39m\u001b[33m'\u001b[39m)\n\u001b[32m----> \u001b[39m\u001b[32m2\u001b[39m historic_ts=\u001b[43mxr\u001b[49m\u001b[43m.\u001b[49m\u001b[43mopen_mfdataset\u001b[49m\u001b[43m(\u001b[49m\u001b[43mearthaccess\u001b[49m\u001b[43m.\u001b[49m\u001b[43mopen\u001b[49m\u001b[43m(\u001b[49m\u001b[43m[\u001b[49m\u001b[43mhistoric_ts_results\u001b[49m\u001b[43m[\u001b[49m\u001b[32;43m0\u001b[39;49m\u001b[43m]\u001b[49m\u001b[43m]\u001b[49m\u001b[43m)\u001b[49m\u001b[43m,\u001b[49m\u001b[43m \u001b[49m\u001b[43mengine\u001b[49m\u001b[43m=\u001b[49m\u001b[33;43m'\u001b[39;49m\u001b[33;43mh5netcdf\u001b[39;49m\u001b[33;43m'\u001b[39;49m\u001b[43m)\u001b[49m\n",
            "\u001b[36mFile \u001b[39m\u001b[32m~/Documents/nasa/spaceapps/.venv/lib/python3.12/site-packages/xarray/backends/api.py:1624\u001b[39m, in \u001b[36mopen_mfdataset\u001b[39m\u001b[34m(paths, chunks, concat_dim, compat, preprocess, engine, data_vars, coords, combine, parallel, join, attrs_file, combine_attrs, errors, **kwargs)\u001b[39m\n\u001b[32m   1622\u001b[39m \u001b[38;5;28;01mfor\u001b[39;00m p \u001b[38;5;129;01min\u001b[39;00m paths1d:\n\u001b[32m   1623\u001b[39m     \u001b[38;5;28;01mtry\u001b[39;00m:\n\u001b[32m-> \u001b[39m\u001b[32m1624\u001b[39m         ds = \u001b[43mopen_\u001b[49m\u001b[43m(\u001b[49m\u001b[43mp\u001b[49m\u001b[43m,\u001b[49m\u001b[43m \u001b[49m\u001b[43m*\u001b[49m\u001b[43m*\u001b[49m\u001b[43mopen_kwargs\u001b[49m\u001b[43m)\u001b[49m\n\u001b[32m   1625\u001b[39m         datasets.append(ds)\n\u001b[32m   1626\u001b[39m     \u001b[38;5;28;01mexcept\u001b[39;00m \u001b[38;5;167;01mException\u001b[39;00m \u001b[38;5;28;01mas\u001b[39;00m e:\n",
            "\u001b[36mFile \u001b[39m\u001b[32m~/Documents/nasa/spaceapps/.venv/lib/python3.12/site-packages/xarray/backends/api.py:602\u001b[39m, in \u001b[36mopen_dataset\u001b[39m\u001b[34m(filename_or_obj, engine, chunks, cache, decode_cf, mask_and_scale, decode_times, decode_timedelta, use_cftime, concat_characters, decode_coords, drop_variables, create_default_indexes, inline_array, chunked_array_type, from_array_kwargs, backend_kwargs, **kwargs)\u001b[39m\n\u001b[32m    595\u001b[39m overwrite_encoded_chunks = kwargs.pop(\u001b[33m\"\u001b[39m\u001b[33moverwrite_encoded_chunks\u001b[39m\u001b[33m\"\u001b[39m, \u001b[38;5;28;01mNone\u001b[39;00m)\n\u001b[32m    596\u001b[39m backend_ds = backend.open_dataset(\n\u001b[32m    597\u001b[39m     filename_or_obj,\n\u001b[32m    598\u001b[39m     drop_variables=drop_variables,\n\u001b[32m    599\u001b[39m     **decoders,\n\u001b[32m    600\u001b[39m     **kwargs,\n\u001b[32m    601\u001b[39m )\n\u001b[32m--> \u001b[39m\u001b[32m602\u001b[39m ds = \u001b[43m_dataset_from_backend_dataset\u001b[49m\u001b[43m(\u001b[49m\n\u001b[32m    603\u001b[39m \u001b[43m    \u001b[49m\u001b[43mbackend_ds\u001b[49m\u001b[43m,\u001b[49m\n\u001b[32m    604\u001b[39m \u001b[43m    \u001b[49m\u001b[43mfilename_or_obj\u001b[49m\u001b[43m,\u001b[49m\n\u001b[32m    605\u001b[39m \u001b[43m    \u001b[49m\u001b[43mengine\u001b[49m\u001b[43m,\u001b[49m\n\u001b[32m    606\u001b[39m \u001b[43m    \u001b[49m\u001b[43mchunks\u001b[49m\u001b[43m,\u001b[49m\n\u001b[32m    607\u001b[39m \u001b[43m    \u001b[49m\u001b[43mcache\u001b[49m\u001b[43m,\u001b[49m\n\u001b[32m    608\u001b[39m \u001b[43m    \u001b[49m\u001b[43moverwrite_encoded_chunks\u001b[49m\u001b[43m,\u001b[49m\n\u001b[32m    609\u001b[39m \u001b[43m    \u001b[49m\u001b[43minline_array\u001b[49m\u001b[43m,\u001b[49m\n\u001b[32m    610\u001b[39m \u001b[43m    \u001b[49m\u001b[43mchunked_array_type\u001b[49m\u001b[43m,\u001b[49m\n\u001b[32m    611\u001b[39m \u001b[43m    \u001b[49m\u001b[43mfrom_array_kwargs\u001b[49m\u001b[43m,\u001b[49m\n\u001b[32m    612\u001b[39m \u001b[43m    \u001b[49m\u001b[43mdrop_variables\u001b[49m\u001b[43m=\u001b[49m\u001b[43mdrop_variables\u001b[49m\u001b[43m,\u001b[49m\n\u001b[32m    613\u001b[39m \u001b[43m    \u001b[49m\u001b[43mcreate_default_indexes\u001b[49m\u001b[43m=\u001b[49m\u001b[43mcreate_default_indexes\u001b[49m\u001b[43m,\u001b[49m\n\u001b[32m    614\u001b[39m \u001b[43m    \u001b[49m\u001b[43m*\u001b[49m\u001b[43m*\u001b[49m\u001b[43mdecoders\u001b[49m\u001b[43m,\u001b[49m\n\u001b[32m    615\u001b[39m \u001b[43m    \u001b[49m\u001b[43m*\u001b[49m\u001b[43m*\u001b[49m\u001b[43mkwargs\u001b[49m\u001b[43m,\u001b[49m\n\u001b[32m    616\u001b[39m \u001b[43m\u001b[49m\u001b[43m)\u001b[49m\n\u001b[32m    617\u001b[39m \u001b[38;5;28;01mreturn\u001b[39;00m ds\n",
            "\u001b[36mFile \u001b[39m\u001b[32m~/Documents/nasa/spaceapps/.venv/lib/python3.12/site-packages/xarray/backends/api.py:297\u001b[39m, in \u001b[36m_dataset_from_backend_dataset\u001b[39m\u001b[34m(backend_ds, filename_or_obj, engine, chunks, cache, overwrite_encoded_chunks, inline_array, chunked_array_type, from_array_kwargs, create_default_indexes, **extra_tokens)\u001b[39m\n\u001b[32m    294\u001b[39m     ds = backend_ds\n\u001b[32m    296\u001b[39m \u001b[38;5;28;01mif\u001b[39;00m chunks \u001b[38;5;129;01mis\u001b[39;00m \u001b[38;5;129;01mnot\u001b[39;00m \u001b[38;5;28;01mNone\u001b[39;00m:\n\u001b[32m--> \u001b[39m\u001b[32m297\u001b[39m     ds = \u001b[43m_chunk_ds\u001b[49m\u001b[43m(\u001b[49m\n\u001b[32m    298\u001b[39m \u001b[43m        \u001b[49m\u001b[43mds\u001b[49m\u001b[43m,\u001b[49m\n\u001b[32m    299\u001b[39m \u001b[43m        \u001b[49m\u001b[43mfilename_or_obj\u001b[49m\u001b[43m,\u001b[49m\n\u001b[32m    300\u001b[39m \u001b[43m        \u001b[49m\u001b[43mengine\u001b[49m\u001b[43m,\u001b[49m\n\u001b[32m    301\u001b[39m \u001b[43m        \u001b[49m\u001b[43mchunks\u001b[49m\u001b[43m,\u001b[49m\n\u001b[32m    302\u001b[39m \u001b[43m        \u001b[49m\u001b[43moverwrite_encoded_chunks\u001b[49m\u001b[43m,\u001b[49m\n\u001b[32m    303\u001b[39m \u001b[43m        \u001b[49m\u001b[43minline_array\u001b[49m\u001b[43m,\u001b[49m\n\u001b[32m    304\u001b[39m \u001b[43m        \u001b[49m\u001b[43mchunked_array_type\u001b[49m\u001b[43m,\u001b[49m\n\u001b[32m    305\u001b[39m \u001b[43m        \u001b[49m\u001b[43mfrom_array_kwargs\u001b[49m\u001b[43m,\u001b[49m\n\u001b[32m    306\u001b[39m \u001b[43m        \u001b[49m\u001b[43m*\u001b[49m\u001b[43m*\u001b[49m\u001b[43mextra_tokens\u001b[49m\u001b[43m,\u001b[49m\n\u001b[32m    307\u001b[39m \u001b[43m    \u001b[49m\u001b[43m)\u001b[49m\n\u001b[32m    309\u001b[39m ds.set_close(backend_ds._close)\n\u001b[32m    311\u001b[39m \u001b[38;5;66;03m# Ensure source filename always stored in dataset object\u001b[39;00m\n",
            "\u001b[36mFile \u001b[39m\u001b[32m~/Documents/nasa/spaceapps/.venv/lib/python3.12/site-packages/xarray/backends/api.py:231\u001b[39m, in \u001b[36m_chunk_ds\u001b[39m\u001b[34m(backend_ds, filename_or_obj, engine, chunks, overwrite_encoded_chunks, inline_array, chunked_array_type, from_array_kwargs, **extra_tokens)\u001b[39m\n\u001b[32m    220\u001b[39m \u001b[38;5;28;01mdef\u001b[39;00m\u001b[38;5;250m \u001b[39m\u001b[34m_chunk_ds\u001b[39m(\n\u001b[32m    221\u001b[39m     backend_ds,\n\u001b[32m    222\u001b[39m     filename_or_obj,\n\u001b[32m   (...)\u001b[39m\u001b[32m    229\u001b[39m     **extra_tokens,\n\u001b[32m    230\u001b[39m ):\n\u001b[32m--> \u001b[39m\u001b[32m231\u001b[39m     chunkmanager = \u001b[43mguess_chunkmanager\u001b[49m\u001b[43m(\u001b[49m\u001b[43mchunked_array_type\u001b[49m\u001b[43m)\u001b[49m\n\u001b[32m    233\u001b[39m     \u001b[38;5;66;03m# TODO refactor to move this dask-specific logic inside the DaskManager class\u001b[39;00m\n\u001b[32m    234\u001b[39m     \u001b[38;5;28;01mif\u001b[39;00m \u001b[38;5;28misinstance\u001b[39m(chunkmanager, DaskManager):\n",
            "\u001b[36mFile \u001b[39m\u001b[32m~/Documents/nasa/spaceapps/.venv/lib/python3.12/site-packages/xarray/namedarray/parallelcompat.py:116\u001b[39m, in \u001b[36mguess_chunkmanager\u001b[39m\u001b[34m(manager)\u001b[39m\n\u001b[32m    114\u001b[39m \u001b[38;5;28;01mif\u001b[39;00m \u001b[38;5;28misinstance\u001b[39m(manager, \u001b[38;5;28mstr\u001b[39m):\n\u001b[32m    115\u001b[39m     \u001b[38;5;28;01mif\u001b[39;00m manager \u001b[38;5;129;01mnot\u001b[39;00m \u001b[38;5;129;01min\u001b[39;00m available_chunkmanagers \u001b[38;5;129;01mand\u001b[39;00m manager \u001b[38;5;129;01min\u001b[39;00m KNOWN_CHUNKMANAGERS:\n\u001b[32m--> \u001b[39m\u001b[32m116\u001b[39m         \u001b[38;5;28;01mraise\u001b[39;00m \u001b[38;5;167;01mImportError\u001b[39;00m(\n\u001b[32m    117\u001b[39m             \u001b[33mf\u001b[39m\u001b[33m\"\u001b[39m\u001b[33mchunk manager \u001b[39m\u001b[38;5;132;01m{\u001b[39;00mmanager\u001b[38;5;132;01m!r}\u001b[39;00m\u001b[33m is not available.\u001b[39m\u001b[33m\"\u001b[39m\n\u001b[32m    118\u001b[39m             \u001b[33mf\u001b[39m\u001b[33m\"\u001b[39m\u001b[33m Please make sure \u001b[39m\u001b[38;5;132;01m{\u001b[39;00mKNOWN_CHUNKMANAGERS[manager]\u001b[38;5;132;01m!r}\u001b[39;00m\u001b[33m is installed\u001b[39m\u001b[33m\"\u001b[39m\n\u001b[32m    119\u001b[39m             \u001b[33m\"\u001b[39m\u001b[33m and importable.\u001b[39m\u001b[33m\"\u001b[39m\n\u001b[32m    120\u001b[39m         )\n\u001b[32m    121\u001b[39m     \u001b[38;5;28;01melif\u001b[39;00m \u001b[38;5;28mlen\u001b[39m(available_chunkmanagers) == \u001b[32m0\u001b[39m:\n\u001b[32m    122\u001b[39m         \u001b[38;5;28;01mraise\u001b[39;00m \u001b[38;5;167;01mImportError\u001b[39;00m(\n\u001b[32m    123\u001b[39m             \u001b[33m\"\u001b[39m\u001b[33mno chunk managers available. Try installing `dask` or another package\u001b[39m\u001b[33m\"\u001b[39m\n\u001b[32m    124\u001b[39m             \u001b[33m\"\u001b[39m\u001b[33m that provides a chunk manager.\u001b[39m\u001b[33m\"\u001b[39m\n\u001b[32m    125\u001b[39m         )\n",
            "\u001b[31mImportError\u001b[39m: chunk manager 'dask' is not available. Please make sure 'dask' is installed and importable."
          ]
        }
      ],
      "source": [
        "historic_ts_results = earthaccess.search_data(short_name='JPL_RECON_GMSL')\n",
        "historic_ts=xr.open_mfdataset(earthaccess.open([historic_ts_results[0]]), engine='h5netcdf')"
      ]
    },
    {
      "cell_type": "markdown",
      "id": "9a86bf41-15c9-41a2-ade1-4d58de795a3c",
      "metadata": {
        "id": "9a86bf41-15c9-41a2-ade1-4d58de795a3c",
        "tags": [],
        "user_expressions": []
      },
      "source": [
        "## Let's Plot!"
      ]
    },
    {
      "cell_type": "code",
      "execution_count": null,
      "id": "b45e8a59-44ea-4b9f-a57c-27b52b6237d5",
      "metadata": {
        "id": "b45e8a59-44ea-4b9f-a57c-27b52b6237d5",
        "tags": []
      },
      "outputs": [],
      "source": [
        "%%time\n",
        "\n",
        "plt.rcParams[\"figure.figsize\"] = (16,4)\n",
        "\n",
        "fig, axs = plt.subplots()\n",
        "plt.grid(True)\n",
        "\n",
        "#function to get the global mean for plotting\n",
        "def global_mean(SLA, **kwargs):\n",
        "    dout=((SLA*ssh_area).sum()/(SLA/SLA*ssh_area).sum())*1000\n",
        "    return dout\n",
        "\n",
        "result = ds_SSH.SLA.groupby('Time').apply(global_mean)\n",
        "\n",
        "plt.xlabel('Time (year)',fontsize=16)\n",
        "plt.ylabel('Global Mean SLA (meter)',fontsize=12)\n",
        "plt.grid(True)\n",
        "\n",
        "result.plot(ax=axs, color=\"orange\", marker=\"o\", label='Satellite Record')\n",
        "\n",
        "historic_ts['global_average_sea_level_change'].plot(ax=axs, label='Historical in-situ record', color=\"lightblue\")\n",
        "\n",
        "plt.legend()\n",
        "plt.show()"
      ]
    },
    {
      "cell_type": "markdown",
      "id": "27c7ee27-106d-470d-891f-9c1e51ec0060",
      "metadata": {
        "id": "27c7ee27-106d-470d-891f-9c1e51ec0060",
        "tags": [],
        "user_expressions": []
      },
      "source": [
        "> This Data Story is based on Jinbo Wang's [Earthdata Webinar tutorial](https://github.com/betolink/the-coding-club/blob/main/notebooks/Earthdata_webinar_20220727.ipynb)."
      ]
    }
  ],
  "metadata": {
    "colab": {
      "provenance": []
    },
    "kernelspec": {
      "display_name": ".venv",
      "language": "python",
      "name": "python3"
    },
    "language_info": {
      "codemirror_mode": {
        "name": "ipython",
        "version": 3
      },
      "file_extension": ".py",
      "mimetype": "text/x-python",
      "name": "python",
      "nbconvert_exporter": "python",
      "pygments_lexer": "ipython3",
      "version": "3.12.11"
    }
  },
  "nbformat": 4,
  "nbformat_minor": 5
}
