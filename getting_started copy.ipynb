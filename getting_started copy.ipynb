{
  "cells": [
    {
      "cell_type": "markdown",
      "id": "58c03b37-ec3c-4840-adc7-946ad1a46fb3",
      "metadata": {
        "id": "58c03b37-ec3c-4840-adc7-946ad1a46fb3",
        "tags": [],
        "user_expressions": []
      },
      "source": [
        "# Getting Started with *earthaccess*\n",
        "### Analyzing Sea Level Rise\n",
        "\n",
        "## Overview\n",
        "This tutorial analyzes global sea level rise from satellite altimetry data and compares it to a historic record. We will be reproducing the plot from this infographic: [ NASA-led Study Reveals the Causes of Sea Level Rise Since 1900](https://grace.jpl.nasa.gov/news/113/nasa-led-study-reveals-the-causes-of-sea-level-rise-since-1900/).\n",
        "\n",
        "## Learning Objectives\n",
        "- Search for data programmatically using keywords or datasets' `concept_id`\n",
        "- Access data using the `earthaccess` python library\n",
        "- Visualize sea level rise trends from altimetry datasets and compare against historic records\n",
        "\n",
        "## Requirements\n",
        "    \n",
        "### 1. Compute environment\n",
        "* This notebook can run anywhere thanks to `earthaccess`!\n",
        "    \n",
        "### 2. Earthdata Login\n",
        "An Earthdata Login account is required to access data, as well as discover restricted data, from the NASA Earthdata system. Thus, to access NASA data, you need Earthdata Login. Please visit https://urs.earthdata.nasa.gov to register and manage your Earthdata Login account. This account is free to create and only takes a moment to set up.\n",
        "\n",
        "### Import (or Install) Packages"
      ]
    },
    {
      "cell_type": "code",
      "execution_count": 2,
      "id": "025618ce-5a0e-48ff-b15a-2b5fcd6cc420",
      "metadata": {
        "id": "025618ce-5a0e-48ff-b15a-2b5fcd6cc420",
        "tags": []
      },
      "outputs": [
        {
          "data": {
            "text/html": [
              "<script type=\"esms-options\">{\"shimMode\": true}</script><style>*[data-root-id],\n",
              "*[data-root-id] > * {\n",
              "  box-sizing: border-box;\n",
              "  font-family: var(--jp-ui-font-family);\n",
              "  font-size: var(--jp-ui-font-size1);\n",
              "  color: var(--vscode-editor-foreground, var(--jp-ui-font-color1));\n",
              "}\n",
              "\n",
              "/* Override VSCode background color */\n",
              ".cell-output-ipywidget-background:has(\n",
              "  > .cell-output-ipywidget-background > .lm-Widget > *[data-root-id]\n",
              "),\n",
              ".cell-output-ipywidget-background:has(> .lm-Widget > *[data-root-id]) {\n",
              "  background-color: transparent !important;\n",
              "}\n",
              "</style>"
            ]
          },
          "metadata": {},
          "output_type": "display_data"
        },
        {
          "data": {
            "application/javascript": "(function(root) {\n  function now() {\n    return new Date();\n  }\n\n  const force = true;\n  const py_version = '3.8.0'.replace('rc', '-rc.').replace('.dev', '-dev.');\n  const reloading = false;\n  const Bokeh = root.Bokeh;\n\n  // Set a timeout for this load but only if we are not already initializing\n  if (typeof (root._bokeh_timeout) === \"undefined\" || (force || !root._bokeh_is_initializing)) {\n    root._bokeh_timeout = Date.now() + 5000;\n    root._bokeh_failed_load = false;\n  }\n\n  function run_callbacks() {\n    try {\n      root._bokeh_onload_callbacks.forEach(function(callback) {\n        if (callback != null)\n          callback();\n      });\n    } finally {\n      delete root._bokeh_onload_callbacks;\n    }\n    console.debug(\"Bokeh: all callbacks have finished\");\n  }\n\n  function load_libs(css_urls, js_urls, js_modules, js_exports, callback) {\n    if (css_urls == null) css_urls = [];\n    if (js_urls == null) js_urls = [];\n    if (js_modules == null) js_modules = [];\n    if (js_exports == null) js_exports = {};\n\n    root._bokeh_onload_callbacks.push(callback);\n\n    if (root._bokeh_is_loading > 0) {\n      // Don't load bokeh if it is still initializing\n      console.debug(\"Bokeh: BokehJS is being loaded, scheduling callback at\", now());\n      return null;\n    } else if (js_urls.length === 0 && js_modules.length === 0 && Object.keys(js_exports).length === 0) {\n      // There is nothing to load\n      run_callbacks();\n      return null;\n    }\n\n    function on_load() {\n      root._bokeh_is_loading--;\n      if (root._bokeh_is_loading === 0) {\n        console.debug(\"Bokeh: all BokehJS libraries/stylesheets loaded\");\n        run_callbacks()\n      }\n    }\n    window._bokeh_on_load = on_load\n\n    function on_error(e) {\n      const src_el = e.srcElement\n      console.error(\"failed to load \" + (src_el.href || src_el.src));\n    }\n\n    const skip = [];\n    if (window.requirejs) {\n      window.requirejs.config({'packages': {}, 'paths': {}, 'shim': {}});\n      root._bokeh_is_loading = css_urls.length + 0;\n    } else {\n      root._bokeh_is_loading = css_urls.length + js_urls.length + js_modules.length + Object.keys(js_exports).length;\n    }\n\n    const existing_stylesheets = []\n    const links = document.getElementsByTagName('link')\n    for (let i = 0; i < links.length; i++) {\n      const link = links[i]\n      if (link.href != null) {\n        existing_stylesheets.push(link.href)\n      }\n    }\n    for (let i = 0; i < css_urls.length; i++) {\n      const url = css_urls[i];\n      const escaped = encodeURI(url)\n      if (existing_stylesheets.indexOf(escaped) !== -1) {\n        on_load()\n        continue;\n      }\n      const element = document.createElement(\"link\");\n      element.onload = on_load;\n      element.onerror = on_error;\n      element.rel = \"stylesheet\";\n      element.type = \"text/css\";\n      element.href = url;\n      console.debug(\"Bokeh: injecting link tag for BokehJS stylesheet: \", url);\n      document.body.appendChild(element);\n    }    var existing_scripts = []\n    const scripts = document.getElementsByTagName('script')\n    for (let i = 0; i < scripts.length; i++) {\n      var script = scripts[i]\n      if (script.src != null) {\n        existing_scripts.push(script.src)\n      }\n    }\n    for (let i = 0; i < js_urls.length; i++) {\n      const url = js_urls[i];\n      const escaped = encodeURI(url)\n      if (skip.indexOf(escaped) !== -1 || existing_scripts.indexOf(escaped) !== -1) {\n        if (!window.requirejs) {\n          on_load();\n        }\n        continue;\n      }\n      const element = document.createElement('script');\n      element.onload = on_load;\n      element.onerror = on_error;\n      element.async = false;\n      element.src = url;\n      console.debug(\"Bokeh: injecting script tag for BokehJS library: \", url);\n      document.head.appendChild(element);\n    }\n    for (let i = 0; i < js_modules.length; i++) {\n      const url = js_modules[i];\n      const escaped = encodeURI(url)\n      if (skip.indexOf(escaped) !== -1 || existing_scripts.indexOf(escaped) !== -1) {\n        if (!window.requirejs) {\n          on_load();\n        }\n        continue;\n      }\n      var element = document.createElement('script');\n      element.onload = on_load;\n      element.onerror = on_error;\n      element.async = false;\n      element.src = url;\n      element.type = \"module\";\n      console.debug(\"Bokeh: injecting script tag for BokehJS library: \", url);\n      document.head.appendChild(element);\n    }\n    for (const name in js_exports) {\n      const url = js_exports[name];\n      const escaped = encodeURI(url)\n      if (skip.indexOf(escaped) >= 0 || root[name] != null) {\n        if (!window.requirejs) {\n          on_load();\n        }\n        continue;\n      }\n      var element = document.createElement('script');\n      element.onerror = on_error;\n      element.async = false;\n      element.type = \"module\";\n      console.debug(\"Bokeh: injecting script tag for BokehJS library: \", url);\n      element.textContent = `\n      import ${name} from \"${url}\"\n      window.${name} = ${name}\n      window._bokeh_on_load()\n      `\n      document.head.appendChild(element);\n    }\n    if (!js_urls.length && !js_modules.length) {\n      on_load()\n    }\n  };\n\n  function inject_raw_css(css) {\n    const element = document.createElement(\"style\");\n    element.appendChild(document.createTextNode(css));\n    document.body.appendChild(element);\n  }\n\n  const js_urls = [\"https://cdn.holoviz.org/panel/1.8.1/dist/bundled/reactiveesm/es-module-shims@^1.10.0/dist/es-module-shims.min.js\", \"https://cdn.bokeh.org/bokeh/release/bokeh-3.8.0.min.js\", \"https://cdn.bokeh.org/bokeh/release/bokeh-gl-3.8.0.min.js\", \"https://cdn.bokeh.org/bokeh/release/bokeh-widgets-3.8.0.min.js\", \"https://cdn.bokeh.org/bokeh/release/bokeh-tables-3.8.0.min.js\", \"https://cdn.holoviz.org/panel/1.8.1/dist/panel.min.js\"];\n  const js_modules = [];\n  const js_exports = {};\n  const css_urls = [];\n  const inline_js = [    function(Bokeh) {\n      Bokeh.set_log_level(\"info\");\n    },\nfunction(Bokeh) {} // ensure no trailing comma for IE\n  ];\n\n  function run_inline_js() {\n    if ((root.Bokeh !== undefined) || (force === true)) {\n      for (let i = 0; i < inline_js.length; i++) {\n        try {\n          inline_js[i].call(root, root.Bokeh);\n        } catch(e) {\n          if (!reloading) {\n            throw e;\n          }\n        }\n      }\n      // Cache old bokeh versions\n      if (Bokeh != undefined && !reloading) {\n        var NewBokeh = root.Bokeh;\n        if (Bokeh.versions === undefined) {\n          Bokeh.versions = new Map();\n        }\n        if (NewBokeh.version !== Bokeh.version) {\n          Bokeh.versions.set(NewBokeh.version, NewBokeh)\n        }\n        root.Bokeh = Bokeh;\n      }\n    } else if (Date.now() < root._bokeh_timeout) {\n      setTimeout(run_inline_js, 100);\n    } else if (!root._bokeh_failed_load) {\n      console.log(\"Bokeh: BokehJS failed to load within specified timeout.\");\n      root._bokeh_failed_load = true;\n    }\n    root._bokeh_is_initializing = false\n  }\n\n  function load_or_wait() {\n    // Implement a backoff loop that tries to ensure we do not load multiple\n    // versions of Bokeh and its dependencies at the same time.\n    // In recent versions we use the root._bokeh_is_initializing flag\n    // to determine whether there is an ongoing attempt to initialize\n    // bokeh, however for backward compatibility we also try to ensure\n    // that we do not start loading a newer (Panel>=1.0 and Bokeh>3) version\n    // before older versions are fully initialized.\n    if (root._bokeh_is_initializing && Date.now() > root._bokeh_timeout) {\n      // If the timeout and bokeh was not successfully loaded we reset\n      // everything and try loading again\n      root._bokeh_timeout = Date.now() + 5000;\n      root._bokeh_is_initializing = false;\n      root._bokeh_onload_callbacks = undefined;\n      root._bokeh_is_loading = 0\n      console.log(\"Bokeh: BokehJS was loaded multiple times but one version failed to initialize.\");\n      load_or_wait();\n    } else if (root._bokeh_is_initializing || (typeof root._bokeh_is_initializing === \"undefined\" && root._bokeh_onload_callbacks !== undefined)) {\n      setTimeout(load_or_wait, 100);\n    } else {\n      root._bokeh_is_initializing = true\n      root._bokeh_onload_callbacks = []\n      const bokeh_loaded = root.Bokeh != null && (root.Bokeh.version === py_version || (root.Bokeh.versions !== undefined && root.Bokeh.versions.has(py_version)));\n      if (!reloading && !bokeh_loaded) {\n        if (root.Bokeh) {\n          root.Bokeh = undefined;\n        }\n        console.debug(\"Bokeh: BokehJS not loaded, scheduling load and callback at\", now());\n      }\n      load_libs(css_urls, js_urls, js_modules, js_exports, function() {\n        console.debug(\"Bokeh: BokehJS plotting callback run at\", now());\n        run_inline_js();\n      });\n    }\n  }\n  // Give older versions of the autoload script a head-start to ensure\n  // they initialize before we start loading newer version.\n  setTimeout(load_or_wait, 100)\n}(window));",
            "application/vnd.holoviews_load.v0+json": ""
          },
          "metadata": {},
          "output_type": "display_data"
        },
        {
          "data": {
            "application/javascript": "\nif ((window.PyViz === undefined) || (window.PyViz instanceof HTMLElement)) {\n  window.PyViz = {comms: {}, comm_status:{}, kernels:{}, receivers: {}, plot_index: []}\n}\n\n\n    function JupyterCommManager() {\n    }\n\n    JupyterCommManager.prototype.register_target = function(plot_id, comm_id, msg_handler) {\n      if (window.comm_manager || ((window.Jupyter !== undefined) && (Jupyter.notebook.kernel != null))) {\n        var comm_manager = window.comm_manager || Jupyter.notebook.kernel.comm_manager;\n        comm_manager.register_target(comm_id, function(comm) {\n          comm.on_msg(msg_handler);\n        });\n      } else if ((plot_id in window.PyViz.kernels) && (window.PyViz.kernels[plot_id])) {\n        window.PyViz.kernels[plot_id].registerCommTarget(comm_id, function(comm) {\n          comm.onMsg = msg_handler;\n        });\n      } else if (typeof google != 'undefined' && google.colab.kernel != null) {\n        google.colab.kernel.comms.registerTarget(comm_id, (comm) => {\n          var messages = comm.messages[Symbol.asyncIterator]();\n          function processIteratorResult(result) {\n            var message = result.value;\n            var content = {data: message.data, comm_id};\n            var buffers = []\n            for (var buffer of message.buffers || []) {\n              buffers.push(new DataView(buffer))\n            }\n            var metadata = message.metadata || {};\n            var msg = {content, buffers, metadata}\n            msg_handler(msg);\n            return messages.next().then(processIteratorResult);\n          }\n          return messages.next().then(processIteratorResult);\n        })\n      }\n    }\n\n    JupyterCommManager.prototype.get_client_comm = function(plot_id, comm_id, msg_handler) {\n      if (comm_id in window.PyViz.comms) {\n        return window.PyViz.comms[comm_id];\n      } else if (window.comm_manager || ((window.Jupyter !== undefined) && (Jupyter.notebook.kernel != null))) {\n        var comm_manager = window.comm_manager || Jupyter.notebook.kernel.comm_manager;\n        var comm = comm_manager.new_comm(comm_id, {}, {}, {}, comm_id);\n        if (msg_handler) {\n          comm.on_msg(msg_handler);\n        }\n      } else if ((plot_id in window.PyViz.kernels) && (window.PyViz.kernels[plot_id])) {\n        var comm = window.PyViz.kernels[plot_id].connectToComm(comm_id);\n        let retries = 0;\n        const open = () => {\n          if (comm.active) {\n            comm.open();\n          } else if (retries > 3) {\n            console.warn('Comm target never activated')\n          } else {\n            retries += 1\n            setTimeout(open, 500)\n          }\n        }\n        if (comm.active) {\n          comm.open();\n        } else {\n          setTimeout(open, 500)\n        }\n        if (msg_handler) {\n          comm.onMsg = msg_handler;\n        }\n      } else if (typeof google != 'undefined' && google.colab.kernel != null) {\n        var comm_promise = google.colab.kernel.comms.open(comm_id)\n        comm_promise.then((comm) => {\n          window.PyViz.comms[comm_id] = comm;\n          if (msg_handler) {\n            var messages = comm.messages[Symbol.asyncIterator]();\n            function processIteratorResult(result) {\n              var message = result.value;\n              var content = {data: message.data};\n              var metadata = message.metadata || {comm_id};\n              var msg = {content, metadata}\n              msg_handler(msg);\n              return messages.next().then(processIteratorResult);\n            }\n            return messages.next().then(processIteratorResult);\n          }\n        })\n        var sendClosure = (data, metadata, buffers, disposeOnDone) => {\n          return comm_promise.then((comm) => {\n            comm.send(data, metadata, buffers, disposeOnDone);\n          });\n        };\n        var comm = {\n          send: sendClosure\n        };\n      }\n      window.PyViz.comms[comm_id] = comm;\n      return comm;\n    }\n    window.PyViz.comm_manager = new JupyterCommManager();\n    \n\n\nvar JS_MIME_TYPE = 'application/javascript';\nvar HTML_MIME_TYPE = 'text/html';\nvar EXEC_MIME_TYPE = 'application/vnd.holoviews_exec.v0+json';\nvar CLASS_NAME = 'output';\n\n/**\n * Render data to the DOM node\n */\nfunction render(props, node) {\n  var div = document.createElement(\"div\");\n  var script = document.createElement(\"script\");\n  node.appendChild(div);\n  node.appendChild(script);\n}\n\n/**\n * Handle when a new output is added\n */\nfunction handle_add_output(event, handle) {\n  var output_area = handle.output_area;\n  var output = handle.output;\n  if ((output.data == undefined) || (!output.data.hasOwnProperty(EXEC_MIME_TYPE))) {\n    return\n  }\n  var id = output.metadata[EXEC_MIME_TYPE][\"id\"];\n  var toinsert = output_area.element.find(\".\" + CLASS_NAME.split(' ')[0]);\n  if (id !== undefined) {\n    var nchildren = toinsert.length;\n    var html_node = toinsert[nchildren-1].children[0];\n    html_node.innerHTML = output.data[HTML_MIME_TYPE];\n    var scripts = [];\n    var nodelist = html_node.querySelectorAll(\"script\");\n    for (var i in nodelist) {\n      if (nodelist.hasOwnProperty(i)) {\n        scripts.push(nodelist[i])\n      }\n    }\n\n    scripts.forEach( function (oldScript) {\n      var newScript = document.createElement(\"script\");\n      var attrs = [];\n      var nodemap = oldScript.attributes;\n      for (var j in nodemap) {\n        if (nodemap.hasOwnProperty(j)) {\n          attrs.push(nodemap[j])\n        }\n      }\n      attrs.forEach(function(attr) { newScript.setAttribute(attr.name, attr.value) });\n      newScript.appendChild(document.createTextNode(oldScript.innerHTML));\n      oldScript.parentNode.replaceChild(newScript, oldScript);\n    });\n    if (JS_MIME_TYPE in output.data) {\n      toinsert[nchildren-1].children[1].textContent = output.data[JS_MIME_TYPE];\n    }\n    output_area._hv_plot_id = id;\n    if ((window.Bokeh !== undefined) && (id in Bokeh.index)) {\n      window.PyViz.plot_index[id] = Bokeh.index[id];\n    } else {\n      window.PyViz.plot_index[id] = null;\n    }\n  } else if (output.metadata[EXEC_MIME_TYPE][\"server_id\"] !== undefined) {\n    var bk_div = document.createElement(\"div\");\n    bk_div.innerHTML = output.data[HTML_MIME_TYPE];\n    var script_attrs = bk_div.children[0].attributes;\n    for (var i = 0; i < script_attrs.length; i++) {\n      toinsert[toinsert.length - 1].childNodes[1].setAttribute(script_attrs[i].name, script_attrs[i].value);\n    }\n    // store reference to server id on output_area\n    output_area._bokeh_server_id = output.metadata[EXEC_MIME_TYPE][\"server_id\"];\n  }\n}\n\n/**\n * Handle when an output is cleared or removed\n */\nfunction handle_clear_output(event, handle) {\n  var id = handle.cell.output_area._hv_plot_id;\n  var server_id = handle.cell.output_area._bokeh_server_id;\n  if (((id === undefined) || !(id in PyViz.plot_index)) && (server_id !== undefined)) { return; }\n  var comm = window.PyViz.comm_manager.get_client_comm(\"hv-extension-comm\", \"hv-extension-comm\", function () {});\n  if (server_id !== null) {\n    comm.send({event_type: 'server_delete', 'id': server_id});\n    return;\n  } else if (comm !== null) {\n    comm.send({event_type: 'delete', 'id': id});\n  }\n  delete PyViz.plot_index[id];\n  if ((window.Bokeh !== undefined) & (id in window.Bokeh.index)) {\n    var doc = window.Bokeh.index[id].model.document\n    doc.clear();\n    const i = window.Bokeh.documents.indexOf(doc);\n    if (i > -1) {\n      window.Bokeh.documents.splice(i, 1);\n    }\n  }\n}\n\n/**\n * Handle kernel restart event\n */\nfunction handle_kernel_cleanup(event, handle) {\n  delete PyViz.comms[\"hv-extension-comm\"];\n  window.PyViz.plot_index = {}\n}\n\n/**\n * Handle update_display_data messages\n */\nfunction handle_update_output(event, handle) {\n  handle_clear_output(event, {cell: {output_area: handle.output_area}})\n  handle_add_output(event, handle)\n}\n\nfunction register_renderer(events, OutputArea) {\n  function append_mime(data, metadata, element) {\n    // create a DOM node to render to\n    var toinsert = this.create_output_subarea(\n    metadata,\n    CLASS_NAME,\n    EXEC_MIME_TYPE\n    );\n    this.keyboard_manager.register_events(toinsert);\n    // Render to node\n    var props = {data: data, metadata: metadata[EXEC_MIME_TYPE]};\n    render(props, toinsert[0]);\n    element.append(toinsert);\n    return toinsert\n  }\n\n  events.on('output_added.OutputArea', handle_add_output);\n  events.on('output_updated.OutputArea', handle_update_output);\n  events.on('clear_output.CodeCell', handle_clear_output);\n  events.on('delete.Cell', handle_clear_output);\n  events.on('kernel_ready.Kernel', handle_kernel_cleanup);\n\n  OutputArea.prototype.register_mime_type(EXEC_MIME_TYPE, append_mime, {\n    safe: true,\n    index: 0\n  });\n}\n\nif (window.Jupyter !== undefined) {\n  try {\n    var events = require('base/js/events');\n    var OutputArea = require('notebook/js/outputarea').OutputArea;\n    if (OutputArea.prototype.mime_types().indexOf(EXEC_MIME_TYPE) == -1) {\n      register_renderer(events, OutputArea);\n    }\n  } catch(err) {\n  }\n}\n",
            "application/vnd.holoviews_load.v0+json": ""
          },
          "metadata": {},
          "output_type": "display_data"
        },
        {
          "data": {
            "application/vnd.holoviews_exec.v0+json": "",
            "text/html": [
              "<div id='dfdf60d9-c376-431a-88ce-87a7d062baf9'>\n",
              "  <div id=\"e1c98f78-3ba0-40bb-94ff-25d5997a73aa\" data-root-id=\"dfdf60d9-c376-431a-88ce-87a7d062baf9\" style=\"display: contents;\"></div>\n",
              "</div>\n",
              "<script type=\"application/javascript\">(function(root) {\n",
              "  var docs_json = {\"ef71bc9f-eea4-425f-b111-3332b28767b0\":{\"version\":\"3.8.0\",\"title\":\"Bokeh Application\",\"config\":{\"type\":\"object\",\"name\":\"DocumentConfig\",\"id\":\"ae1d344e-99b0-4167-903a-ef256adb1d5c\",\"attributes\":{\"notifications\":{\"type\":\"object\",\"name\":\"Notifications\",\"id\":\"20c8c427-3fc1-4462-8017-c1f35bcf49e6\"}}},\"roots\":[{\"type\":\"object\",\"name\":\"panel.models.browser.BrowserInfo\",\"id\":\"dfdf60d9-c376-431a-88ce-87a7d062baf9\"},{\"type\":\"object\",\"name\":\"panel.models.comm_manager.CommManager\",\"id\":\"d68981b0-5388-497c-a761-543133aeb7d7\",\"attributes\":{\"plot_id\":\"dfdf60d9-c376-431a-88ce-87a7d062baf9\",\"comm_id\":\"7c5f36d8d77440119750d45a9af5def0\",\"client_comm_id\":\"a3d205cb56a144d7b97f269b769db0bd\"}}],\"defs\":[{\"type\":\"model\",\"name\":\"ReactiveHTML1\"},{\"type\":\"model\",\"name\":\"FlexBox1\",\"properties\":[{\"name\":\"align_content\",\"kind\":\"Any\",\"default\":\"flex-start\"},{\"name\":\"align_items\",\"kind\":\"Any\",\"default\":\"flex-start\"},{\"name\":\"flex_direction\",\"kind\":\"Any\",\"default\":\"row\"},{\"name\":\"flex_wrap\",\"kind\":\"Any\",\"default\":\"wrap\"},{\"name\":\"gap\",\"kind\":\"Any\",\"default\":\"\"},{\"name\":\"justify_content\",\"kind\":\"Any\",\"default\":\"flex-start\"}]},{\"type\":\"model\",\"name\":\"FloatPanel1\",\"properties\":[{\"name\":\"config\",\"kind\":\"Any\",\"default\":{\"type\":\"map\"}},{\"name\":\"contained\",\"kind\":\"Any\",\"default\":true},{\"name\":\"position\",\"kind\":\"Any\",\"default\":\"right-top\"},{\"name\":\"offsetx\",\"kind\":\"Any\",\"default\":null},{\"name\":\"offsety\",\"kind\":\"Any\",\"default\":null},{\"name\":\"theme\",\"kind\":\"Any\",\"default\":\"primary\"},{\"name\":\"status\",\"kind\":\"Any\",\"default\":\"normalized\"}]},{\"type\":\"model\",\"name\":\"GridStack1\",\"properties\":[{\"name\":\"ncols\",\"kind\":\"Any\",\"default\":null},{\"name\":\"nrows\",\"kind\":\"Any\",\"default\":null},{\"name\":\"allow_resize\",\"kind\":\"Any\",\"default\":true},{\"name\":\"allow_drag\",\"kind\":\"Any\",\"default\":true},{\"name\":\"state\",\"kind\":\"Any\",\"default\":[]}]},{\"type\":\"model\",\"name\":\"drag1\",\"properties\":[{\"name\":\"slider_width\",\"kind\":\"Any\",\"default\":5},{\"name\":\"slider_color\",\"kind\":\"Any\",\"default\":\"black\"},{\"name\":\"start\",\"kind\":\"Any\",\"default\":0},{\"name\":\"end\",\"kind\":\"Any\",\"default\":100},{\"name\":\"value\",\"kind\":\"Any\",\"default\":50}]},{\"type\":\"model\",\"name\":\"click1\",\"properties\":[{\"name\":\"terminal_output\",\"kind\":\"Any\",\"default\":\"\"},{\"name\":\"debug_name\",\"kind\":\"Any\",\"default\":\"\"},{\"name\":\"clears\",\"kind\":\"Any\",\"default\":0}]},{\"type\":\"model\",\"name\":\"ReactiveESM1\",\"properties\":[{\"name\":\"esm_constants\",\"kind\":\"Any\",\"default\":{\"type\":\"map\"}}]},{\"type\":\"model\",\"name\":\"JSComponent1\",\"properties\":[{\"name\":\"esm_constants\",\"kind\":\"Any\",\"default\":{\"type\":\"map\"}}]},{\"type\":\"model\",\"name\":\"ReactComponent1\",\"properties\":[{\"name\":\"use_shadow_dom\",\"kind\":\"Any\",\"default\":true},{\"name\":\"esm_constants\",\"kind\":\"Any\",\"default\":{\"type\":\"map\"}}]},{\"type\":\"model\",\"name\":\"AnyWidgetComponent1\",\"properties\":[{\"name\":\"use_shadow_dom\",\"kind\":\"Any\",\"default\":true},{\"name\":\"esm_constants\",\"kind\":\"Any\",\"default\":{\"type\":\"map\"}}]},{\"type\":\"model\",\"name\":\"FastWrapper1\",\"properties\":[{\"name\":\"object\",\"kind\":\"Any\",\"default\":null},{\"name\":\"style\",\"kind\":\"Any\",\"default\":null}]},{\"type\":\"model\",\"name\":\"NotificationArea1\",\"properties\":[{\"name\":\"js_events\",\"kind\":\"Any\",\"default\":{\"type\":\"map\"}},{\"name\":\"max_notifications\",\"kind\":\"Any\",\"default\":5},{\"name\":\"notifications\",\"kind\":\"Any\",\"default\":[]},{\"name\":\"position\",\"kind\":\"Any\",\"default\":\"bottom-right\"},{\"name\":\"_clear\",\"kind\":\"Any\",\"default\":0},{\"name\":\"types\",\"kind\":\"Any\",\"default\":[{\"type\":\"map\",\"entries\":[[\"type\",\"warning\"],[\"background\",\"#ffc107\"],[\"icon\",{\"type\":\"map\",\"entries\":[[\"className\",\"fas fa-exclamation-triangle\"],[\"tagName\",\"i\"],[\"color\",\"white\"]]}]]},{\"type\":\"map\",\"entries\":[[\"type\",\"info\"],[\"background\",\"#007bff\"],[\"icon\",{\"type\":\"map\",\"entries\":[[\"className\",\"fas fa-info-circle\"],[\"tagName\",\"i\"],[\"color\",\"white\"]]}]]}]}]},{\"type\":\"model\",\"name\":\"Notification\",\"properties\":[{\"name\":\"background\",\"kind\":\"Any\",\"default\":null},{\"name\":\"duration\",\"kind\":\"Any\",\"default\":3000},{\"name\":\"icon\",\"kind\":\"Any\",\"default\":null},{\"name\":\"message\",\"kind\":\"Any\",\"default\":\"\"},{\"name\":\"notification_type\",\"kind\":\"Any\",\"default\":null},{\"name\":\"_rendered\",\"kind\":\"Any\",\"default\":false},{\"name\":\"_destroyed\",\"kind\":\"Any\",\"default\":false}]},{\"type\":\"model\",\"name\":\"TemplateActions1\",\"properties\":[{\"name\":\"open_modal\",\"kind\":\"Any\",\"default\":0},{\"name\":\"close_modal\",\"kind\":\"Any\",\"default\":0}]},{\"type\":\"model\",\"name\":\"BootstrapTemplateActions1\",\"properties\":[{\"name\":\"open_modal\",\"kind\":\"Any\",\"default\":0},{\"name\":\"close_modal\",\"kind\":\"Any\",\"default\":0}]},{\"type\":\"model\",\"name\":\"TemplateEditor1\",\"properties\":[{\"name\":\"layout\",\"kind\":\"Any\",\"default\":[]}]},{\"type\":\"model\",\"name\":\"MaterialTemplateActions1\",\"properties\":[{\"name\":\"open_modal\",\"kind\":\"Any\",\"default\":0},{\"name\":\"close_modal\",\"kind\":\"Any\",\"default\":0}]},{\"type\":\"model\",\"name\":\"request_value1\",\"properties\":[{\"name\":\"fill\",\"kind\":\"Any\",\"default\":\"none\"},{\"name\":\"_synced\",\"kind\":\"Any\",\"default\":null},{\"name\":\"_request_sync\",\"kind\":\"Any\",\"default\":0}]},{\"type\":\"model\",\"name\":\"holoviews.plotting.bokeh.raster.HoverModel\",\"properties\":[{\"name\":\"xy\",\"kind\":\"Any\",\"default\":null},{\"name\":\"data\",\"kind\":\"Any\",\"default\":null}]}]}};\n",
              "  var render_items = [{\"docid\":\"ef71bc9f-eea4-425f-b111-3332b28767b0\",\"roots\":{\"dfdf60d9-c376-431a-88ce-87a7d062baf9\":\"e1c98f78-3ba0-40bb-94ff-25d5997a73aa\"},\"root_ids\":[\"dfdf60d9-c376-431a-88ce-87a7d062baf9\"]}];\n",
              "  var docs = Object.values(docs_json)\n",
              "  if (!docs) {\n",
              "    return\n",
              "  }\n",
              "  const py_version = docs[0].version.replace('rc', '-rc.').replace('.dev', '-dev.')\n",
              "  async function embed_document(root) {\n",
              "    var Bokeh = get_bokeh(root)\n",
              "    await Bokeh.embed.embed_items_notebook(docs_json, render_items);\n",
              "    for (const render_item of render_items) {\n",
              "      for (const root_id of render_item.root_ids) {\n",
              "\tconst id_el = document.getElementById(root_id)\n",
              "\tif (id_el.children.length && id_el.children[0].hasAttribute('data-root-id')) {\n",
              "\t  const root_el = id_el.children[0]\n",
              "\t  root_el.id = root_el.id + '-rendered'\n",
              "\t  for (const child of root_el.children) {\n",
              "            // Ensure JupyterLab does not capture keyboard shortcuts\n",
              "            // see: https://jupyterlab.readthedocs.io/en/4.1.x/extension/notebook.html#keyboard-interaction-model\n",
              "\t    child.setAttribute('data-lm-suppress-shortcuts', 'true')\n",
              "\t  }\n",
              "\t}\n",
              "      }\n",
              "    }\n",
              "  }\n",
              "  function get_bokeh(root) {\n",
              "    if (root.Bokeh === undefined) {\n",
              "      return null\n",
              "    } else if (root.Bokeh.version !== py_version) {\n",
              "      if (root.Bokeh.versions === undefined || !root.Bokeh.versions.has(py_version)) {\n",
              "\treturn null\n",
              "      }\n",
              "      return root.Bokeh.versions.get(py_version);\n",
              "    } else if (root.Bokeh.version === py_version) {\n",
              "      return root.Bokeh\n",
              "    }\n",
              "    return null\n",
              "  }\n",
              "  function is_loaded(root) {\n",
              "    var Bokeh = get_bokeh(root)\n",
              "    return (Bokeh != null && Bokeh.Panel !== undefined)\n",
              "  }\n",
              "  if (is_loaded(root)) {\n",
              "    embed_document(root);\n",
              "  } else {\n",
              "    var attempts = 0;\n",
              "    var timer = setInterval(function(root) {\n",
              "      if (is_loaded(root)) {\n",
              "        clearInterval(timer);\n",
              "        embed_document(root);\n",
              "      } else if (document.readyState == \"complete\") {\n",
              "        attempts++;\n",
              "        if (attempts > 200) {\n",
              "          clearInterval(timer);\n",
              "\t  var Bokeh = get_bokeh(root)\n",
              "\t  if (Bokeh == null || Bokeh.Panel == null) {\n",
              "            console.warn(\"Panel: ERROR: Unable to run Panel code because Bokeh or Panel library is missing\");\n",
              "\t  } else {\n",
              "\t    console.warn(\"Panel: WARNING: Attempting to render but not all required libraries could be resolved.\")\n",
              "\t    embed_document(root)\n",
              "\t  }\n",
              "        }\n",
              "      }\n",
              "    }, 25, root)\n",
              "  }\n",
              "})(window);</script>"
            ]
          },
          "metadata": {
            "application/vnd.holoviews_exec.v0+json": {
              "id": "dfdf60d9-c376-431a-88ce-87a7d062baf9"
            }
          },
          "output_type": "display_data"
        },
        {
          "name": "stderr",
          "output_type": "stream",
          "text": [
            "INFO:root:Dependencies imported\n"
          ]
        }
      ],
      "source": [
        "import logging\n",
        "logging.basicConfig(level=logging.INFO,\n",
        "                    force = True)\n",
        "\n",
        "try:\n",
        "    import earthaccess\n",
        "    import xarray as xr\n",
        "    from pyproj import Geod\n",
        "    import numpy as np\n",
        "    import hvplot.xarray\n",
        "    from matplotlib import pyplot as plt\n",
        "    from pprint import pprint\n",
        "    import panel as pn\n",
        "    import panel.widgets as pnw\n",
        "    from pqdm.threads import pqdm\n",
        "except ImportError as e:\n",
        "    logging.warning(\"installing missing dependencies... \")\n",
        "    %pip install -q earthaccess matplotlib hvplot pyproj xarray numpy h5netcdf panel pqdm\n",
        "finally:\n",
        "    import earthaccess\n",
        "    import xarray as xr\n",
        "    from pyproj import Geod\n",
        "    import numpy as np\n",
        "    import hvplot.xarray\n",
        "    from matplotlib import pyplot as plt\n",
        "    from pprint import pprint\n",
        "    import panel.widgets as pnw\n",
        "    from pqdm.threads import pqdm\n",
        "    logging.info(\"Dependencies imported\")\n"
      ]
    },
    {
      "cell_type": "markdown",
      "id": "33cf4ee3-73bd-4769-ac3f-e0d5d6e33051",
      "metadata": {
        "id": "33cf4ee3-73bd-4769-ac3f-e0d5d6e33051",
        "tags": [],
        "user_expressions": []
      },
      "source": [
        "## earthaccess and NASA's EDL\n",
        "\n",
        "We recommend authenticating your Earthdata Login (EDL) information using the `earthaccess` python package as follows:"
      ]
    },
    {
      "cell_type": "code",
      "execution_count": 3,
      "id": "c64d1850-9342-4750-b0e6-043c7df823bd",
      "metadata": {
        "id": "c64d1850-9342-4750-b0e6-043c7df823bd",
        "tags": []
      },
      "outputs": [
        {
          "name": "stderr",
          "output_type": "stream",
          "text": [
            "INFO:earthaccess.auth:You're now authenticated with NASA Earthdata Login\n"
          ]
        }
      ],
      "source": [
        "auth = earthaccess.login()"
      ]
    },
    {
      "cell_type": "markdown",
      "id": "9952ab78-79f5-43f2-a239-22b4de190f94",
      "metadata": {
        "id": "9952ab78-79f5-43f2-a239-22b4de190f94"
      },
      "source": [
        "## Search for Sea Surface Height Data\n",
        "\n",
        "Let's find the first four collections that match a keyword search for `Sea Surface Height` and print out the first two."
      ]
    },
    {
      "cell_type": "code",
      "execution_count": 10,
      "id": "a0dc3f01-5045-4eb3-af0e-04d2528f1605",
      "metadata": {
        "id": "a0dc3f01-5045-4eb3-af0e-04d2528f1605",
        "tags": []
      },
      "outputs": [
        {
          "name": "stderr",
          "output_type": "stream",
          "text": [
            "INFO:earthaccess.api:Datasets found: 5\n"
          ]
        },
        {
          "name": "stdout",
          "output_type": "stream",
          "text": [
            "{'cloud-info': {'Region': 'us-west-2',\n",
            "                'S3BucketAndObjectPrefixNames': ['s3://lp-prod-protected/VJ147IMG.002',\n",
            "                                                 's3://lp-prod-public/VJ147IMG.002'],\n",
            "                'S3CredentialsAPIDocumentationURL': 'https://data.lpdaac.earthdatacloud.nasa.gov/s3credentialsREADME',\n",
            "                'S3CredentialsAPIEndpoint': 'https://data.lpdaac.earthdatacloud.nasa.gov/s3credentials'},\n",
            " 'concept-id': 'C3365180216-LPCLOUD',\n",
            " 'file-type': \"[{'Media': ['HTTPS', 'Earthdata Cloud'], 'Format': 'netCDF-4', \"\n",
            "              \"'FormatType': 'Native', 'FormatDescription': 'Network Common \"\n",
            "              \"Data Format Version 4', 'AverageFileSize': 2.8, \"\n",
            "              \"'AverageFileSizeUnit': 'MB', \"\n",
            "              \"'TotalCollectionFileSizeBeginDate': \"\n",
            "              \"'2018-01-05T00:00:00.000Z'}]\",\n",
            " 'get-data': ['https://search.earthdata.nasa.gov/search?q=C3365180216-LPCLOUD'],\n",
            " 'short-name': 'VJ147IMG',\n",
            " 'version': '002'}\n",
            "None The Visible Infrared Imaging Radiometer Suite (VIIRS) FIre Light Detection Algorithm-2 (FILDA-2) Modified Combustion Efficiency (MCE) Version 2 swath product (VJ147IMG) is produced in 6-minute orbit segments 375 meter (m) resolution from the VIIRS sensor aboard the NOAA-20 satellite. The VJ147IMG product takes advantage of the rich information that visible band observation conveys at night to assess fire combustion efficiency and enhance fire detection. It also utilizes improvements made in fire detection algorithms to detect smaller and cooler fires.       \n",
            "\n",
            "The VJ147IMG product includes 83 layers containing fire detection and retrievals of Radiative Power (FRP), fire Visible Energy Fraction (VEF), and Modified Combustion Efficiency (MCE). \n",
            "\n",
            "Known Issues\n",
            "* Known issues can be found in Section 5 of the User Guide.\n",
            "* For complete information about known issues please refer to the [MODIS/VIIRS Land Quality Assessment website](https://landweb.modaps.eosdis.nasa.gov/knownissue?sensor=VIIRS&as=5200). \n",
            " {'DOI': '10.5067/VIIRS/VJ147IMG.002', 'Authority': 'https://doi.org'} \n",
            "\n",
            "\n",
            "{'cloud-info': {'Region': 'us-west-2',\n",
            "                'S3BucketAndObjectPrefixNames': ['s3://lp-prod-protected/VJ147MOD.002',\n",
            "                                                 's3://lp-prod-public/VJ147MOD.002'],\n",
            "                'S3CredentialsAPIDocumentationURL': 'https://data.lpdaac.earthdatacloud.nasa.gov/s3credentialsREADME',\n",
            "                'S3CredentialsAPIEndpoint': 'https://data.lpdaac.earthdatacloud.nasa.gov/s3credentials'},\n",
            " 'concept-id': 'C3365168551-LPCLOUD',\n",
            " 'file-type': \"[{'Media': ['Earthdata Cloud', 'HTTPS'], 'Format': 'netCDF-4', \"\n",
            "              \"'FormatType': 'Native', 'FormatDescription': 'Network Common \"\n",
            "              \"Data Format Version 4', 'AverageFileSize': 2.5, \"\n",
            "              \"'AverageFileSizeUnit': 'MB', \"\n",
            "              \"'TotalCollectionFileSizeBeginDate': \"\n",
            "              \"'2018-01-05T00:00:00.000Z'}]\",\n",
            " 'get-data': ['https://search.earthdata.nasa.gov/search?q=C3365168551-LPCLOUD'],\n",
            " 'short-name': 'VJ147MOD',\n",
            " 'version': '002'}\n",
            "None The Visible Infrared Imaging Radiometer Suite (VIIRS) FIre Light Detection Algorithm-2 (FILDA-2) Modified Combustion Efficiency (MCE) Version 2 swath product (VJ147MOD) is produced in 6-minute orbit segments 750 meter (m) resolution from the VIIRS sensor aboard the NOAA-20 satellite. The VJ147MOD product takes advantage of the rich information that visible band observation conveys at night to assess fire combustion efficiency and enhance fire detection. It also utilizes improvements made in fire detection algorithms to detect smaller and cooler fires.       \n",
            "\n",
            "The VJ147MOD product includes 85 layers containing fire detection and retrievals of Radiative Power (FRP), fire Visible Energy Fraction (VEF), and Modified Combustion Efficiency (MCE). \n",
            "\n",
            "Known Issues\n",
            "* Known issues can be found in Section 5 of the User Guide.\n",
            "* For complete information about known issues please refer to the [MODIS/VIIRS Land Quality Assessment website](https://landweb.modaps.eosdis.nasa.gov/knownissue?sensor=VIIRS&as=5200). \n",
            " {'DOI': '10.5067/VIIRS/VJ147MOD.002', 'Authority': 'https://doi.org'} \n",
            "\n",
            "\n",
            "{'cloud-info': {'Region': 'us-west-2',\n",
            "                'S3BucketAndObjectPrefixNames': ['s3://lp-prod-protected/VNP47IMG.002',\n",
            "                                                 's3://lp-prod-public/VNP47IMG.002'],\n",
            "                'S3CredentialsAPIDocumentationURL': 'https://data.lpdaac.earthdatacloud.nasa.gov/s3credentialsREADME',\n",
            "                'S3CredentialsAPIEndpoint': 'https://data.lpdaac.earthdatacloud.nasa.gov/s3credentials'},\n",
            " 'concept-id': 'C3365190240-LPCLOUD',\n",
            " 'file-type': \"[{'Media': ['HTTPS', 'Earthdata Cloud'], 'Format': 'netCDF-4', \"\n",
            "              \"'FormatType': 'Native', 'FormatDescription': 'Network Common \"\n",
            "              \"Data Format Version 4', 'AverageFileSize': 2.8, \"\n",
            "              \"'AverageFileSizeUnit': 'MB', \"\n",
            "              \"'TotalCollectionFileSizeBeginDate': \"\n",
            "              \"'2012-01-19T00:00:00.000Z'}]\",\n",
            " 'get-data': ['https://search.earthdata.nasa.gov/search?q=C3365190240-LPCLOUD'],\n",
            " 'short-name': 'VNP47IMG',\n",
            " 'version': '002'}\n",
            "None The NASA/NOAA Suomi National Polar-orbiting Partnership (Suomi NPP) Visible Infrared Imaging Radiometer Suite (VIIRS) FIre Light Detection Algorithm-2 (FILDA-2) Modified Combustion Efficiency (MCE) Version 2 swath product (VNP47IMG) is produced in 6-minute orbit segments at 375 meter (m) resolution. The VNP47IMG product takes advantage of the rich information that visible band observation conveys at night to assess fire combustion efficiency and enhance fire detection. It also utilizes improvements made in fire detection algorithms to detect smaller and cooler fires.       \n",
            "\n",
            "The VNP47IMG product includes 83 layers containing fire detection and retrievals of Radiative Power (FRP), fire Visible Energy Fraction (VEF), and Modified Combustion Efficiency (MCE). \n",
            "\n",
            "Known Issues\n",
            "* Known issues can be found in Section 5 of the User Guide.\n",
            "* For complete information about known issues please refer to the [MODIS/VIIRS Land Quality Assessment website](https://landweb.modaps.eosdis.nasa.gov/knownissue?sensor=VIIRS&as=5200). \n",
            " {'DOI': '10.5067/VIIRS/VNP47IMG.002', 'Authority': 'https://doi.org'} \n",
            "\n",
            "\n",
            "{'cloud-info': {'Region': 'us-west-2',\n",
            "                'S3BucketAndObjectPrefixNames': ['s3://lp-prod-protected/VNP47MOD.002',\n",
            "                                                 's3://lp-prod-public/VNP47MOD.002'],\n",
            "                'S3CredentialsAPIDocumentationURL': 'https://data.lpdaac.earthdatacloud.nasa.gov/s3credentialsREADME',\n",
            "                'S3CredentialsAPIEndpoint': 'https://data.lpdaac.earthdatacloud.nasa.gov/s3credentials'},\n",
            " 'concept-id': 'C3365181544-LPCLOUD',\n",
            " 'file-type': \"[{'Media': ['Earthdata Cloud', 'HTTPS'], 'Format': 'netCDF-4', \"\n",
            "              \"'FormatType': 'Native', 'FormatDescription': 'Network Common \"\n",
            "              \"Data Format Version 4', 'AverageFileSize': 2.5, \"\n",
            "              \"'AverageFileSizeUnit': 'MB', \"\n",
            "              \"'TotalCollectionFileSizeBeginDate': \"\n",
            "              \"'2012-01-19T00:00:00.000Z'}]\",\n",
            " 'get-data': ['https://search.earthdata.nasa.gov/search?q=C3365181544-LPCLOUD'],\n",
            " 'short-name': 'VNP47MOD',\n",
            " 'version': '002'}\n",
            "None The NASA/NOAA Suomi National Polar-orbiting Partnership (Suomi NPP) Visible Infrared Imaging Radiometer Suite (VIIRS) FIre Light Detection Algorithm-2 (FILDA-2) Modified Combustion Efficiency (MCE) swath product (VNP47MOD) is produced in 6-minute orbit segments at 750 meter (m) resolution. The VNP47MOD product takes advantage of the rich information that visible band observation conveys at night to assess fire combustion efficiency and enhance fire detection. It also utilizes improvements made in fire detection algorithms to detect smaller and cooler fires.       \n",
            "\n",
            "The VNP47MOD product includes 85 layers containing fire detection and retrievals of Radiative Power (FRP), fire Visible Energy Fraction (VEF), and Modified Combustion Efficiency (MCE). \n",
            "\n",
            "Known Issues\n",
            "* Known issues can be found in Section 5 of the User Guide.\n",
            "* For complete information about known issues please refer to the [MODIS/VIIRS Land Quality Assessment website](https://landweb.modaps.eosdis.nasa.gov/knownissue?sensor=VIIRS&as=5200). \n",
            " {'DOI': '10.5067/VIIRS/VNP47MOD.002', 'Authority': 'https://doi.org'} \n",
            "\n",
            "\n",
            "{'cloud-info': {'Region': 'us-west-2',\n",
            "                'S3BucketAndObjectPrefixNames': ['s3://ornl-cumulus-prod-protected/safari2k/regional/one_deg_biomass/data',\n",
            "                                                 's3://ornl-cumulus-prod-public/safari2k/regional/one_deg_biomass'],\n",
            "                'S3CredentialsAPIDocumentationURL': 'https://data.ornldaac.earthdata.nasa.gov/s3credentialsREADME',\n",
            "                'S3CredentialsAPIEndpoint': 'https://data.ornldaac.earthdata.nasa.gov/s3credentials'},\n",
            " 'concept-id': 'C2789029387-ORNL_CLOUD',\n",
            " 'file-type': \"[{'Format': 'Shapefile', 'TotalCollectionFileSize': 537.373, \"\n",
            "              \"'TotalCollectionFileSizeUnit': 'KB'}]\",\n",
            " 'get-data': ['https://search.earthdata.nasa.gov/search?q=one_deg_biomass_754&ac=true',\n",
            "              'https://data.ornldaac.earthdata.nasa.gov/protected/bundle/one_deg_biomass_754.zip'],\n",
            " 'short-name': 'one_deg_biomass_754',\n",
            " 'version': '1'}\n",
            "None A new method is used to generate spatial estimates of monthly averaged biomass burned area and spatial and temporal estimates of trace gas and aerosol emissions from open fires in southern Africa.Global burned area data for the year 2000 (GBA2000) supplemented with the Along Track Scanning Radiometer (ATSR) fire count data are employed to quantify the area burned at 1-km resolution by using a fractional vegetation cover map derived from satellite observations. To account for the spatial heterogeneity in main types of vegetation within each 1-km grid cell, fuel load maps were developed from biomass density data sets for herbaceous and tree covered land together with fractional tree and vegetation cover maps. To represent the fire characteristics, land cover is classified into forests, woodlands, and grasslands, based on satellite-derived data sets for fractional tree cover. Combustion factors for each land cover type takes into account fuel composition, tree cover density, and the dryness of herbaceous vegetation. In addition, the emission factors (EF) are calculated; EF for grassland fires represent spatial and seasonal variations in fuel conditions using a modified combustion efficiency calculation. This data set contains spatial and temporal estimates of trace gas and aerosol emissions from open fires in southern Africa for the following variables:acetic acid (CH3COOH); methanol (CH3OH); methane (CH4); carbon dioxide (CO2); carbon monoxide (CO); formaldehyde (HCHO); non-methane hydrocarbons (NMHC); and particulate matter less than 2.5  um in diameter (PM2.5).  Annual amounts of total area burned and CO2 emissions for southern Africa are compared to those from other authors.  \n",
            " {'DOI': '10.3334/ORNLDAAC/754', 'Authority': 'https://doi.org'} \n",
            "\n",
            "\n"
          ]
        }
      ],
      "source": [
        "import warnings\n",
        "warnings.filterwarnings('ignore')\n",
        "\n",
        "max_results = 10\n",
        "\n",
        "collections = earthaccess.search_datasets(\n",
        "    keyword = \"Fire Modified Combustion\",\n",
        "    #cloud_hosted = True,\n",
        "    count = max_results\n",
        ")\n",
        "\n",
        "# Let's print 2 collections\n",
        "for collection in collections:\n",
        "    # pprint(collection.summary())\n",
        "    print(pprint(collection.summary()), collection.abstract(), \"\\n\", collection[\"umm\"][\"DOI\"], \"\\n\\n\")"
      ]
    },
    {
      "cell_type": "markdown",
      "id": "9be2086f-9333-4f97-b14f-02013bcb1b07",
      "metadata": {
        "id": "9be2086f-9333-4f97-b14f-02013bcb1b07"
      },
      "source": [
        "## Access Data\n",
        "\n",
        "The first dataset looks like it contains data from many altimetry missions, let's explore a bit more! We will access the first granule of the `SEA_SURFACE_HEIGHT_ALT_GRIDS_L4_2SATS_5DAY_6THDEG_V_JPL2205` collection in the month of May for every year that data is available and open the granules via xarray."
      ]
    },
    {
      "cell_type": "code",
      "execution_count": 13,
      "id": "d279a525-c488-4df9-bea3-045b46fb6500",
      "metadata": {
        "id": "d279a525-c488-4df9-bea3-045b46fb6500",
        "tags": []
      },
      "outputs": [
        {
          "name": "stdout",
          "output_type": "stream",
          "text": [
            "Searching for data in 2019\n"
          ]
        },
        {
          "name": "stderr",
          "output_type": "stream",
          "text": [
            "INFO:earthaccess.api:Granules found: 3321\n"
          ]
        },
        {
          "name": "stdout",
          "output_type": "stream",
          "text": [
            "Searching for data in 2020\n"
          ]
        },
        {
          "name": "stderr",
          "output_type": "stream",
          "text": [
            "INFO:earthaccess.api:Granules found: 3292\n"
          ]
        },
        {
          "name": "stdout",
          "output_type": "stream",
          "text": [
            "Searching for data in 2021\n"
          ]
        },
        {
          "name": "stderr",
          "output_type": "stream",
          "text": [
            "INFO:earthaccess.api:Granules found: 3258\n"
          ]
        },
        {
          "name": "stdout",
          "output_type": "stream",
          "text": [
            "Searching for data in 2022\n"
          ]
        },
        {
          "name": "stderr",
          "output_type": "stream",
          "text": [
            "INFO:earthaccess.api:Granules found: 3339\n"
          ]
        },
        {
          "name": "stdout",
          "output_type": "stream",
          "text": [
            "Searching for data in 2023\n"
          ]
        },
        {
          "name": "stderr",
          "output_type": "stream",
          "text": [
            "INFO:earthaccess.api:Granules found: 3261\n"
          ]
        },
        {
          "name": "stdout",
          "output_type": "stream",
          "text": [
            "Searching for data in 2024\n"
          ]
        },
        {
          "name": "stderr",
          "output_type": "stream",
          "text": [
            "INFO:earthaccess.api:Granules found: 3258\n"
          ]
        },
        {
          "name": "stdout",
          "output_type": "stream",
          "text": [
            "Searching for data in 2025\n"
          ]
        },
        {
          "name": "stderr",
          "output_type": "stream",
          "text": [
            "INFO:earthaccess.api:Granules found: 3324\n"
          ]
        },
        {
          "name": "stdout",
          "output_type": "stream",
          "text": [
            "Total granules: 7\n"
          ]
        }
      ],
      "source": [
        "granules = []\n",
        "\n",
        "for year in range(2019, 2026):\n",
        "    print(f\"Searching for data in {year}\")\n",
        "    granule = earthaccess.search_data(doi=\"10.5067/VIIRS/VJ147IMG.002\",\n",
        "                                      temporal= (f\"{year}-05\", f\"{year}-06\"),\n",
        "                                      count = 1)\n",
        "    if len(granule)>0:\n",
        "        granules.append(granule[0])\n",
        "print(f\"Total granules: {len(granules)}\")"
      ]
    },
    {
      "cell_type": "code",
      "execution_count": null,
      "id": "8a108c34-7c26-4f31-9eef-ba4c818f663d",
      "metadata": {
        "id": "8a108c34-7c26-4f31-9eef-ba4c818f663d",
        "tags": []
      },
      "outputs": [],
      "source": [
        "%%time\n",
        "\n",
        "def open_file(file):\n",
        "    ds = xr.open_dataset(file)\n",
        "    # we can modify here\n",
        "    return ds\n",
        "\n",
        "ds_list = pqdm(earthaccess.open(granules), open_file, n_jobs=8)\n",
        "\n",
        "ds_SSH = xr.concat(ds_list, dim=\"Time\")\n",
        "ds_SSH"
      ]
    },
    {
      "cell_type": "markdown",
      "id": "fef71dee-8b6e-48a8-9e16-c2bafc1475e9",
      "metadata": {
        "id": "fef71dee-8b6e-48a8-9e16-c2bafc1475e9",
        "tags": [],
        "user_expressions": []
      },
      "source": [
        "## Plot Sea Level Anomalies"
      ]
    },
    {
      "cell_type": "code",
      "execution_count": null,
      "id": "ba2dfa26-d1dc-4003-bada-08150f78cd97",
      "metadata": {
        "id": "ba2dfa26-d1dc-4003-bada-08150f78cd97",
        "tags": []
      },
      "outputs": [],
      "source": [
        "%%time\n",
        "\n",
        "time = pnw.Player(name='Time', start=0, end=len(ds_SSH.Time)-1, loop_policy='loop', interval=1000)\n",
        "\n",
        "ds_SSH.SLA.interactive(loc='bottom', aspect=\"equal\").isel(Time=time).hvplot(cmap=\"inferno\", data_aspect=1)"
      ]
    },
    {
      "cell_type": "markdown",
      "id": "a8c6f0da-a12e-4a7c-b5ba-72d3f06959aa",
      "metadata": {
        "id": "a8c6f0da-a12e-4a7c-b5ba-72d3f06959aa"
      },
      "source": [
        "## Recreate the Sea Level Rise Infographic\n",
        "First, we define a function that will calculate the area in 1/6 by 1/6 degree boxes in order to calculate the global mean of the SSH later."
      ]
    },
    {
      "cell_type": "code",
      "execution_count": 8,
      "id": "8af24cab-7d21-452c-bb6c-80f3134c099c",
      "metadata": {
        "id": "8af24cab-7d21-452c-bb6c-80f3134c099c",
        "tags": []
      },
      "outputs": [],
      "source": [
        "def ssl_area(lats):\n",
        "    \"\"\"\n",
        "    Calculate the area associated with a 1/6 by 1/6 degree box at latitude specified in 'lats'.\n",
        "\n",
        "    Parameter\n",
        "    ==========\n",
        "    lats: a list or numpy array of size N the latitudes of interest.\n",
        "\n",
        "    Return\n",
        "    =======\n",
        "    out: Array (N) area values (unit: m^2)\n",
        "    \"\"\"\n",
        "    # Define WGS84 as CRS:\n",
        "    geod = Geod(ellps='WGS84')\n",
        "    dx=1/12.0\n",
        "    # create a lambda function for calculating the perimeters of the boxes\n",
        "    c_area=lambda lat: geod.polygon_area_perimeter(np.r_[-dx,dx,dx,-dx], lat+np.r_[-dx,-dx,dx,dx])[0]\n",
        "    out=[]\n",
        "    for lat in lats:\n",
        "        out.append(c_area(lat))\n",
        "    return np.array(out)"
      ]
    },
    {
      "cell_type": "markdown",
      "id": "85a82f6e-eee1-43b2-99fb-3d61ed038977",
      "metadata": {
        "id": "85a82f6e-eee1-43b2-99fb-3d61ed038977"
      },
      "source": [
        "Let's use the function on our Sea Surface Height dataset."
      ]
    },
    {
      "cell_type": "code",
      "execution_count": 9,
      "id": "13160cf9-07c9-4585-a8a8-8b344a4c0444",
      "metadata": {
        "id": "13160cf9-07c9-4585-a8a8-8b344a4c0444",
        "tags": []
      },
      "outputs": [
        {
          "name": "stdout",
          "output_type": "stream",
          "text": [
            "(960, 1)\n"
          ]
        }
      ],
      "source": [
        "# note: they rotated the data in the last release, this operation used to be (1,-1)\n",
        "ssh_area = ssl_area(ds_SSH.Latitude.data).reshape(-1,1)\n",
        "print(ssh_area.shape)"
      ]
    },
    {
      "cell_type": "markdown",
      "id": "c4cea29a-f7fd-4606-b65c-bdb58de3f346",
      "metadata": {
        "id": "c4cea29a-f7fd-4606-b65c-bdb58de3f346"
      },
      "source": [
        "Next, we find and open the historic record dataset also using `earthaccess` and `xarray`."
      ]
    },
    {
      "cell_type": "code",
      "execution_count": 10,
      "id": "50fb06b0-91dc-46cc-b7a9-1e367b5e42ad",
      "metadata": {
        "id": "50fb06b0-91dc-46cc-b7a9-1e367b5e42ad",
        "tags": []
      },
      "outputs": [
        {
          "name": "stderr",
          "output_type": "stream",
          "text": [
            "INFO:earthaccess.api:Granules found: 1\n",
            "INFO:earthaccess.store:Opening 1 granules, approx size: 0.0 GB\n"
          ]
        },
        {
          "data": {
            "application/vnd.jupyter.widget-view+json": {
              "model_id": "4339b148cbe34101a1e4269da99ae947",
              "version_major": 2,
              "version_minor": 0
            },
            "text/plain": [
              "QUEUEING TASKS | :   0%|          | 0/1 [00:00<?, ?it/s]"
            ]
          },
          "metadata": {},
          "output_type": "display_data"
        },
        {
          "data": {
            "application/vnd.jupyter.widget-view+json": {
              "model_id": "a29c242423ae4993a169698c418f8b62",
              "version_major": 2,
              "version_minor": 0
            },
            "text/plain": [
              "PROCESSING TASKS | :   0%|          | 0/1 [00:00<?, ?it/s]"
            ]
          },
          "metadata": {},
          "output_type": "display_data"
        },
        {
          "data": {
            "application/vnd.jupyter.widget-view+json": {
              "model_id": "27f227551f57416d829457e785b81298",
              "version_major": 2,
              "version_minor": 0
            },
            "text/plain": [
              "COLLECTING RESULTS | :   0%|          | 0/1 [00:00<?, ?it/s]"
            ]
          },
          "metadata": {},
          "output_type": "display_data"
        },
        {
          "name": "stderr",
          "output_type": "stream",
          "text": [
            "INFO:fsspec:BlockCache fetching block (sync) 0\n",
            "INFO:fsspec:BlockCache fetching block (async) 1\n",
            "INFO:fsspec:BlockCache joined background fetch without waiting.\n"
          ]
        }
      ],
      "source": [
        "historic_ts_results = earthaccess.search_data(short_name='JPL_RECON_GMSL')\n",
        "historic_ts=xr.open_mfdataset(earthaccess.open([historic_ts_results[0]]), engine='h5netcdf')"
      ]
    },
    {
      "cell_type": "markdown",
      "id": "9a86bf41-15c9-41a2-ade1-4d58de795a3c",
      "metadata": {
        "id": "9a86bf41-15c9-41a2-ade1-4d58de795a3c",
        "tags": [],
        "user_expressions": []
      },
      "source": [
        "## Let's Plot!"
      ]
    },
    {
      "cell_type": "code",
      "execution_count": 11,
      "id": "b45e8a59-44ea-4b9f-a57c-27b52b6237d5",
      "metadata": {
        "id": "b45e8a59-44ea-4b9f-a57c-27b52b6237d5",
        "tags": []
      },
      "outputs": [
        {
          "data": {
            "image/png": "[encoded data removed]",
            "text/plain": [
              "<Figure size 1600x400 with 1 Axes>"
            ]
          },
          "metadata": {},
          "output_type": "display_data"
        },
        {
          "name": "stdout",
          "output_type": "stream",
          "text": [
            "CPU times: user 722 ms, sys: 307 ms, total: 1.03 s\n",
            "Wall time: 914 ms\n"
          ]
        }
      ],
      "source": [
        "%%time\n",
        "\n",
        "plt.rcParams[\"figure.figsize\"] = (16,4)\n",
        "\n",
        "fig, axs = plt.subplots()\n",
        "plt.grid(True)\n",
        "\n",
        "#function to get the global mean for plotting\n",
        "def global_mean(SLA, **kwargs):\n",
        "    dout=((SLA*ssh_area).sum()/(SLA/SLA*ssh_area).sum())*1000\n",
        "    return dout\n",
        "\n",
        "result = ds_SSH.SLA.groupby('Time').apply(global_mean)\n",
        "\n",
        "plt.xlabel('Time (year)',fontsize=16)\n",
        "plt.ylabel('Global Mean SLA (meter)',fontsize=12)\n",
        "plt.grid(True)\n",
        "\n",
        "result.plot(ax=axs, color=\"orange\", marker=\"o\", label='Satellite Record')\n",
        "\n",
        "historic_ts['global_average_sea_level_change'].plot(ax=axs, label='Historical in-situ record', color=\"lightblue\")\n",
        "\n",
        "plt.legend()\n",
        "plt.show()"
      ]
    },
    {
      "cell_type": "markdown",
      "id": "27c7ee27-106d-470d-891f-9c1e51ec0060",
      "metadata": {
        "id": "27c7ee27-106d-470d-891f-9c1e51ec0060",
        "tags": [],
        "user_expressions": []
      },
      "source": [
        "> This Data Story is based on Jinbo Wang's [Earthdata Webinar tutorial](https://github.com/betolink/the-coding-club/blob/main/notebooks/Earthdata_webinar_20220727.ipynb)."
      ]
    }
  ],
  "metadata": {
    "colab": {
      "provenance": []
    },
    "kernelspec": {
      "display_name": ".venv",
      "language": "python",
      "name": "python3"
    },
    "language_info": {
      "codemirror_mode": {
        "name": "ipython",
        "version": 3
      },
      "file_extension": ".py",
      "mimetype": "text/x-python",
      "name": "python",
      "nbconvert_exporter": "python",
      "pygments_lexer": "ipython3",
      "version": "3.12.11"
    }
  },
  "nbformat": 4,
  "nbformat_minor": 5
}
